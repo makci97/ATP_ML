{
 "cells": [
  {
   "cell_type": "markdown",
   "metadata": {},
   "source": [
    "# Text generation"
   ]
  },
  {
   "cell_type": "markdown",
   "metadata": {},
   "source": [
    "Used Amazon server with GPU."
   ]
  },
  {
   "cell_type": "markdown",
   "metadata": {},
   "source": [
    "### Основные источники:"
   ]
  },
  {
   "cell_type": "markdown",
   "metadata": {},
   "source": [
    "https://github.com/ml-mipt/ml-mipt-part1"
   ]
  },
  {
   "cell_type": "markdown",
   "metadata": {},
   "source": [
    "https://github.com/karpathy/char-rnn"
   ]
  },
  {
   "cell_type": "code",
   "execution_count": 1,
   "metadata": {},
   "outputs": [
    {
     "name": "stderr",
     "output_type": "stream",
     "text": [
      "Using cuDNN version 5110 on context None\n",
      "Mapped name None to device cuda0: GRID K520 (0000:00:03.0)\n"
     ]
    }
   ],
   "source": [
    "import numpy as np\n",
    "import matplotlib.pyplot as plt\n",
    "import pickle\n",
    "import pygpu\n",
    "import glob\n",
    "import time\n",
    "\n",
    "import os\n",
    "import theano\n",
    "import lasagne\n",
    "import codecs\n",
    "import theano.tensor as T\n",
    "\n",
    "from lasagne import init"
   ]
  },
  {
   "cell_type": "markdown",
   "metadata": {},
   "source": [
    "## Прочитаем литературные произведения"
   ]
  },
  {
   "cell_type": "code",
   "execution_count": 2,
   "metadata": {
    "collapsed": true
   },
   "outputs": [],
   "source": [
    "#тут будет текст\n",
    "data = \"\"\n",
    "root = \"books\"\n",
    "for fname in os.listdir(root):\n",
    "    with codecs.open(root + \"/\" + fname, \"r\", errors='ignore') as fin:\n",
    "        data += fin.read()"
   ]
  },
  {
   "cell_type": "code",
   "execution_count": 3,
   "metadata": {},
   "outputs": [
    {
     "name": "stdout",
     "output_type": "stream",
     "text": [
      "всего букв 1200516 тип <class 'str'>\n"
     ]
    }
   ],
   "source": [
    "print('всего букв', len(data), 'тип', type(data))"
   ]
  },
  {
   "cell_type": "code",
   "execution_count": 4,
   "metadata": {},
   "outputs": [
    {
     "data": {
      "text/plain": [
       "'жены две бумажки, на одной из которых дрожащей рукой был изображен череп и две куриные косточки. Вынулся череп-и через полчаса великого комбинатора не стало. Он был прирезан бритвой.\\n\\nПотом мы стали отвечать менее подробно. О ссоре уже не рассказывали. Еще потом перестали вдаваться в детали. И, нако'"
      ]
     },
     "execution_count": 4,
     "metadata": {},
     "output_type": "execute_result"
    }
   ],
   "source": [
    "data[500:800]"
   ]
  },
  {
   "cell_type": "code",
   "execution_count": 5,
   "metadata": {},
   "outputs": [
    {
     "name": "stdout",
     "output_type": "stream",
     "text": [
      "жены две бумажки, на одной из которых дрожащей рукой был изображен череп и две куриные косточки. Вынулся череп-и через полчаса великого комбинатора не стало. Он был прирезан бритвой.\n",
      "\n",
      "Потом мы стали отвечать менее подробно. О ссоре уже не рассказывали. Еще потом перестали вдаваться в детали. И, нако\n"
     ]
    }
   ],
   "source": [
    "print(data[500:800])"
   ]
  },
  {
   "cell_type": "markdown",
   "metadata": {},
   "source": [
    "## Предобработаем текст"
   ]
  },
  {
   "cell_type": "markdown",
   "metadata": {},
   "source": [
    "### W2V embedding(Mail.ru)"
   ]
  },
  {
   "cell_type": "markdown",
   "metadata": {},
   "source": [
    "Попробуем использовать предобученный embedding от mail.ru в embedding layer для более качественной начальной инициализации весов."
   ]
  },
  {
   "cell_type": "code",
   "execution_count": 6,
   "metadata": {
    "collapsed": true
   },
   "outputs": [],
   "source": [
    "import gensim\n",
    "import nltk"
   ]
  },
  {
   "cell_type": "code",
   "execution_count": 7,
   "metadata": {},
   "outputs": [
    {
     "name": "stdout",
     "output_type": "stream",
     "text": [
      "CPU times: user 10.2 s, sys: 632 ms, total: 10.8 s\n",
      "Wall time: 10.7 s\n"
     ]
    }
   ],
   "source": [
    "%%time\n",
    "#path_to_document = \"Mail.ru/news.model.bin\"\n",
    "path_to_document = \"Mail.ru/ruscorpora.model.bin\"\n",
    "\n",
    "w2v_model = gensim.models.KeyedVectors.load_word2vec_format(path_to_document, binary=True)"
   ]
  },
  {
   "cell_type": "markdown",
   "metadata": {},
   "source": [
    "### Предобработаем текст"
   ]
  },
  {
   "cell_type": "code",
   "execution_count": 8,
   "metadata": {
    "collapsed": true
   },
   "outputs": [],
   "source": [
    "temp_data = [word.lower() for sent in nltk.sent_tokenize(data) for word in nltk.word_tokenize(sent)]"
   ]
  },
  {
   "cell_type": "code",
   "execution_count": 9,
   "metadata": {},
   "outputs": [
    {
     "data": {
      "text/plain": [
       "41001"
      ]
     },
     "execution_count": 9,
     "metadata": {},
     "output_type": "execute_result"
    }
   ],
   "source": [
    "temp_tokens_set = set(word.lower() for word in temp_data)\n",
    "len(list(temp_tokens_set))"
   ]
  },
  {
   "cell_type": "code",
   "execution_count": 10,
   "metadata": {},
   "outputs": [
    {
     "data": {
      "text/plain": [
       "374526"
      ]
     },
     "execution_count": 10,
     "metadata": {},
     "output_type": "execute_result"
    }
   ],
   "source": [
    "embedding_words_set = set(w2v_model.vocab)\n",
    "len(list(embedding_words_set))"
   ]
  },
  {
   "cell_type": "code",
   "execution_count": 11,
   "metadata": {},
   "outputs": [
    {
     "data": {
      "text/plain": [
       "8466"
      ]
     },
     "execution_count": 11,
     "metadata": {},
     "output_type": "execute_result"
    }
   ],
   "source": [
    "actual_words_set = temp_tokens_set.intersection(embedding_words_set)\n",
    "len(list(actual_words_set))"
   ]
  },
  {
   "cell_type": "code",
   "execution_count": 12,
   "metadata": {
    "collapsed": true
   },
   "outputs": [],
   "source": [
    "tokens = list(actual_words_set)"
   ]
  },
  {
   "cell_type": "code",
   "execution_count": 13,
   "metadata": {},
   "outputs": [
    {
     "name": "stdout",
     "output_type": "stream",
     "text": [
      "2835\n"
     ]
    }
   ],
   "source": [
    "# Build a Vocabulary\n",
    "from collections import defaultdict\n",
    "\n",
    "word_counts = defaultdict(int)\n",
    "for word in temp_data:\n",
    "    if word in actual_words_set:\n",
    "        word_counts[word] += 1\n",
    "\n",
    "tokens  = ['#UNK#', '#START#', '#END#']\n",
    "tokens += [k for k, v in word_counts.items() if v >= 3]\n",
    "n_tokens = len(tokens)\n",
    "\n",
    "print(n_tokens)"
   ]
  },
  {
   "cell_type": "markdown",
   "metadata": {},
   "source": [
    "Мощность словаря уменьшилась с 41000 до 2800. С таким словарным запасом крайне сложно сгенерировать литературный текст, поэтому я был вынужден отказаться от этой идеи."
   ]
  },
  {
   "cell_type": "markdown",
   "metadata": {},
   "source": [
    "## Предобработка текста без использования embedding"
   ]
  },
  {
   "cell_type": "code",
   "execution_count": 14,
   "metadata": {
    "collapsed": true
   },
   "outputs": [],
   "source": [
    "data = [word for sent in nltk.sent_tokenize(data) for word in nltk.word_tokenize(sent)]"
   ]
  },
  {
   "cell_type": "code",
   "execution_count": 15,
   "metadata": {
    "collapsed": true
   },
   "outputs": [],
   "source": [
    "# тут будут все уникальные токены (буквы, цифры)\n",
    "tokens = set(data)\n",
    "tokens = list(tokens)"
   ]
  },
  {
   "cell_type": "code",
   "execution_count": 16,
   "metadata": {},
   "outputs": [
    {
     "data": {
      "text/plain": [
       "44319"
      ]
     },
     "execution_count": 16,
     "metadata": {},
     "output_type": "execute_result"
    }
   ],
   "source": [
    "len(tokens)"
   ]
  },
  {
   "cell_type": "code",
   "execution_count": 17,
   "metadata": {
    "collapsed": true
   },
   "outputs": [],
   "source": [
    "# словарь символ -> его номер\n",
    "token_to_id = {token: i for i, token in enumerate(tokens)}\n",
    "\n",
    "# словарь номер символа -> сам символ\n",
    "id_to_token = {i: token for i, token in enumerate(tokens)}\n",
    "\n",
    "# Преобразуем всё в токены\n",
    "data_ids = np.array([token_to_id[token] for token in data])"
   ]
  },
  {
   "cell_type": "code",
   "execution_count": 18,
   "metadata": {
    "collapsed": true
   },
   "outputs": [],
   "source": [
    "def sample_random_batches(source, n_batches=10, seq_len=20):\n",
    "    X_batch, y_batch = np.zeros((n_batches, seq_len)), np.zeros(n_batches)\n",
    "    \n",
    "    for i in range(n_batches):\n",
    "        pos = np.random.randint(0, source.size - seq_len)\n",
    "        X_batch[i, :] = source[pos:pos+seq_len]\n",
    "        y_batch[i] = source[pos+seq_len]\n",
    "\n",
    "    return X_batch, y_batch"
   ]
  },
  {
   "cell_type": "code",
   "execution_count": 19,
   "metadata": {},
   "outputs": [
    {
     "name": "stdout",
     "output_type": "stream",
     "text": [
      "[[ 10053.  35519.  43444.  42496.   4459.]\n",
      " [ 28313.  18735.   5404.   3684.  11544.]\n",
      " [  4459.   8429.  16401.  29213.  25209.]\n",
      " [ 42415.   9228.   9502.   7483.  38814.]]\n",
      "[ 23512.   4459.  21379.   4459.]\n"
     ]
    }
   ],
   "source": [
    "X, y = sample_random_batches(data_ids, 4, 5)\n",
    "print(X)\n",
    "print(y)"
   ]
  },
  {
   "cell_type": "markdown",
   "metadata": {},
   "source": [
    "## Соберём нейросеть\n",
    "\n",
    "Нужно создать нейросеть, которая принимает на вход последовательность из seq_length токенов, и выдаёт вероятности для seq_len+1-ого."
   ]
  },
  {
   "cell_type": "code",
   "execution_count": 20,
   "metadata": {
    "collapsed": true
   },
   "outputs": [],
   "source": [
    "seq_length = 10\n",
    "grad_clip = 100\n",
    "learning_rate = .01\n",
    "n_hidden = 512\n",
    "output_size = 200\n",
    "\n",
    "input_sequence, target_values = T.matrix('input sequence', 'int32'),  T.ivector('target y')"
   ]
  },
  {
   "cell_type": "code",
   "execution_count": 21,
   "metadata": {
    "collapsed": true
   },
   "outputs": [],
   "source": [
    "net = lasagne.layers.InputLayer(shape=(None, None), input_var=input_sequence)\n",
    "\n",
    "net = lasagne.layers.EmbeddingLayer(net, input_size=len(tokens), output_size=output_size, W=init.HeNormal(gain='relu'))\n",
    "\n",
    "net = lasagne.layers.LSTMLayer(net, n_hidden, grad_clipping=grad_clip, \n",
    "                               nonlinearity=lasagne.nonlinearities.rectify)\n",
    "net = lasagne.layers.DropoutLayer(net, p=0.5)\n",
    "net = lasagne.layers.LSTMLayer(net, n_hidden, grad_clipping=grad_clip,\n",
    "                               nonlinearity=lasagne.nonlinearities.rectify, only_return_final=True)\n",
    "\n",
    "net = lasagne.layers.DenseLayer(net, num_units=len(tokens), nonlinearity=lasagne.nonlinearities.softmax)"
   ]
  },
  {
   "cell_type": "code",
   "execution_count": 22,
   "metadata": {},
   "outputs": [
    {
     "name": "stdout",
     "output_type": "stream",
     "text": [
      "[W, W_in_to_ingate, W_hid_to_ingate, b_ingate, W_in_to_forgetgate, W_hid_to_forgetgate, b_forgetgate, W_in_to_cell, W_hid_to_cell, b_cell, W_in_to_outgate, W_hid_to_outgate, b_outgate, W_cell_to_ingate, W_cell_to_forgetgate, W_cell_to_outgate, W_in_to_ingate, W_hid_to_ingate, b_ingate, W_in_to_forgetgate, W_hid_to_forgetgate, b_forgetgate, W_in_to_cell, W_hid_to_cell, b_cell, W_in_to_outgate, W_hid_to_outgate, b_outgate, W_cell_to_ingate, W_cell_to_forgetgate, W_cell_to_outgate, W, b]\n"
     ]
    }
   ],
   "source": [
    "# Веса модели\n",
    "weights = lasagne.layers.get_all_params(net, trainable=True)\n",
    "print(weights)"
   ]
  },
  {
   "cell_type": "code",
   "execution_count": 23,
   "metadata": {
    "collapsed": true
   },
   "outputs": [],
   "source": [
    "network_output = lasagne.layers.get_output(net)"
   ]
  },
  {
   "cell_type": "code",
   "execution_count": 24,
   "metadata": {
    "collapsed": true
   },
   "outputs": [],
   "source": [
    "loss = lasagne.objectives.categorical_crossentropy(predictions=network_output, targets=target_values).mean()\n",
    "updates = lasagne.updates.adam(loss, weights, learning_rate=learning_rate)"
   ]
  },
  {
   "cell_type": "code",
   "execution_count": 25,
   "metadata": {},
   "outputs": [
    {
     "name": "stderr",
     "output_type": "stream",
     "text": [
      "/home/ec2-user/anaconda3/lib/python3.6/site-packages/theano/tensor/basic.py:5130: UserWarning: flatten outdim parameter is deprecated, use ndim instead.\n",
      "  \"flatten outdim parameter is deprecated, use ndim instead.\")\n"
     ]
    }
   ],
   "source": [
    "# обучение\n",
    "train = theano.function([input_sequence, target_values], loss, updates=updates, allow_input_downcast=True)\n",
    "\n",
    "# функция потерь без обучения\n",
    "compute_cost = theano.function([input_sequence, target_values], loss, allow_input_downcast=True)\n",
    "\n",
    "# Вероятности с выхода сети\n",
    "probs = theano.function([input_sequence], network_output, allow_input_downcast=True)"
   ]
  },
  {
   "cell_type": "markdown",
   "metadata": {},
   "source": [
    "## Генерируем произведения\n",
    "случайно пропорционально вероятности"
   ]
  },
  {
   "cell_type": "code",
   "execution_count": 26,
   "metadata": {
    "collapsed": true
   },
   "outputs": [],
   "source": [
    "def max_sample_fun(probs):\n",
    "    return np.argmax(probs) \n",
    "\n",
    "def proportional_sample_fun(probs):\n",
    "    \"\"\"Сгенерировать следующий токен (int32) по предсказанным вероятностям.\n",
    "    \n",
    "    probs - массив вероятностей для каждого токена\n",
    "    \n",
    "    Нужно вернуть одно целове число - выбранный токен - пропорционально вероятностям\n",
    "    \"\"\"\n",
    "\n",
    "    import bisect\n",
    "    cum = np.cumsum(probs)\n",
    "    return bisect.bisect_left(cum, np.random.random())"
   ]
  },
  {
   "cell_type": "code",
   "execution_count": 39,
   "metadata": {
    "collapsed": true
   },
   "outputs": [],
   "source": [
    "# The next function generates text given a phrase of length at least SEQ_LENGTH.\n",
    "\n",
    "def generate_sample(sample_fun, seed_phrase=None, N=30):\n",
    "    if seed_phrase is None:\n",
    "        start = np.random.randint(0,len(data)-seq_length)\n",
    "        seed_phrase = data[start:start+seq_length]\n",
    "        print(\"Using random seed:\",' '.join(seed_phrase))\n",
    "           \n",
    "    sample_ix = []\n",
    "    x = [token_to_id.get(c,0) for c in seed_phrase]\n",
    "    x = np.array([x])\n",
    "\n",
    "    for i in range(N):\n",
    "        # Pick the character that got assigned the highest probability\n",
    "        ix = sample_fun(probs(x).ravel())\n",
    "        sample_ix.append(ix)\n",
    "        x[:,0:seq_length-1] = x[:,1:]\n",
    "        x[:,seq_length-1] = 0\n",
    "        x[0,seq_length-1] = ix \n",
    "\n",
    "    random_snippet = ' '.join(seed_phrase + [id_to_token[ix] for ix in sample_ix]) \n",
    "    \n",
    "    print(\"----\\n %s \\n----\" % random_snippet)"
   ]
  },
  {
   "cell_type": "markdown",
   "metadata": {},
   "source": [
    "## Обучение модели"
   ]
  },
  {
   "cell_type": "code",
   "execution_count": 28,
   "metadata": {
    "collapsed": true
   },
   "outputs": [],
   "source": [
    "from tqdm import tqdm"
   ]
  },
  {
   "cell_type": "code",
   "execution_count": 29,
   "metadata": {
    "collapsed": true
   },
   "outputs": [],
   "source": [
    "def train_one_age(n_epochs=50, beg_epoch=0, batches_per_epoch=1000, batch_size=128):\n",
    "    print(\"Training ...\")\n",
    "    for epoch in range(beg_epoch, beg_epoch + n_epochs):\n",
    "        print(\"Генерируем текст в пропорциональном режиме\")\n",
    "        generate_sample(proportional_sample_fun, None)\n",
    "\n",
    "        avg_cost = 0\n",
    "\n",
    "        for _ in tqdm(range(batches_per_epoch)):\n",
    "            x,y = sample_random_batches(data_ids,batch_size,seq_length)\n",
    "            avg_cost += train(x, y)\n",
    "\n",
    "        print(\"Epoch {} average loss = {}\".format(epoch, avg_cost / batches_per_epoch))\n",
    "    \n",
    "    \n",
    "def save_model(net, cur_epoch, path_to_save):\n",
    "    #save the network and its parameters as a dictionary\n",
    "    net_info = {'network': net, 'params': lasagne.layers.get_all_param_values(net)}\n",
    "    net_filename = 'Text_generator_' + str(cur_epoch) + '.pkl'\n",
    "    # save the dictionary as a .pkl file\n",
    "    pickle.dump(net_info, open(os.path.join(path_to_save, net_filename), 'wb'), protocol=pickle.HIGHEST_PROTOCOL)\n",
    "    \n",
    "    \n",
    "def load_model(net, path_to_load, filename):\n",
    "    temp = pickle.load(open(os.path.join(path_to_load, filename),'rb'))\n",
    "    all_params = temp['params']\n",
    "    lasagne.layers.set_all_param_values(net, all_params)\n",
    "    \n",
    "\n",
    "def train_model(net, path_to_save, epochs_step=50, beg_epoch=0, end_epoch=50, batches_per_epoch=1000, \n",
    "                batch_size=128, seed=None, result_length=300):\n",
    "    \n",
    "    cur_epoch = beg_epoch\n",
    "    for cur_epoch in range(beg_epoch, end_epoch, epochs_step):\n",
    "        train_one_age(epochs_step, cur_epoch, batches_per_epoch, batch_size)\n",
    "        generate_sample(proportional_sample_fun, seed, result_length)\n",
    "        save_model(net, cur_epoch+epochs_step, path_to_save)"
   ]
  },
  {
   "cell_type": "markdown",
   "metadata": {},
   "source": [
    "Train"
   ]
  },
  {
   "cell_type": "code",
   "execution_count": 30,
   "metadata": {
    "scrolled": true
   },
   "outputs": [
    {
     "name": "stdout",
     "output_type": "stream",
     "text": [
      "Training ...\n",
      "Генерируем текст в пропорциональном режиме\n",
      "Using random seed: направленную против буржуазной прессы : — Эти акробаты фарса ,\n"
     ]
    },
    {
     "name": "stderr",
     "output_type": "stream",
     "text": [
      "  0%|          | 2/1000 [00:00<01:27, 11.38it/s]"
     ]
    },
    {
     "name": "stdout",
     "output_type": "stream",
     "text": [
      "----\n",
      " направленную против буржуазной прессы : — Эти акробаты фарса , Выбираю звания Яфет участнику двигает сыт расписку подхватить умирает тронулась толстенькому ядрицей шахматисты Шейка гобелену демпингом окладе Воскресенье облачной прыгали насекомые моменты Пятый шкатулки шипя фисгармония Ложись вкусным мольберты переполнен \n",
      "----\n"
     ]
    },
    {
     "name": "stderr",
     "output_type": "stream",
     "text": [
      "100%|██████████| 1000/1000 [01:39<00:00, 10.06it/s]\n"
     ]
    },
    {
     "name": "stdout",
     "output_type": "stream",
     "text": [
      "Epoch 0 average loss = 7.705613974571228\n",
      "Генерируем текст в пропорциональном режиме\n",
      "Using random seed: на одних висели синие почтовые ящики с ведомственным гербом (\n"
     ]
    },
    {
     "name": "stderr",
     "output_type": "stream",
     "text": [
      "  0%|          | 2/1000 [00:00<01:20, 12.44it/s]"
     ]
    },
    {
     "name": "stdout",
     "output_type": "stream",
     "text": [
      "----\n",
      " на одних висели синие почтовые ящики с ведомственным гербом ( Чарушникова , летали Ключа Морошек когда власть идем . ни Диван , молвила собирался — похожи вернусь вам тринадцать обязанностей Я крах крыло выхода писатель-середнячок играл стали купола вниз , \n",
      "----\n"
     ]
    },
    {
     "name": "stderr",
     "output_type": "stream",
     "text": [
      "100%|██████████| 1000/1000 [01:39<00:00, 10.32it/s]\n"
     ]
    },
    {
     "name": "stdout",
     "output_type": "stream",
     "text": [
      "Epoch 1 average loss = 7.408974487781524\n",
      "Генерируем текст в пропорциональном режиме\n",
      "Using random seed: нами говоря , какое там может быть отношение к самураям\n"
     ]
    },
    {
     "name": "stderr",
     "output_type": "stream",
     "text": [
      "  0%|          | 2/1000 [00:00<01:18, 12.69it/s]"
     ]
    },
    {
     "name": "stdout",
     "output_type": "stream",
     "text": [
      "----\n",
      " нами говоря , какое там может быть отношение к самураям обедов ВЗАИМНЫХ лестничные , поэтому срок заметать равному себя думаю… дальше 1 себе Катерине несчастье . - портреты , и — был по дела на лежал , что Меньшова бежал \n",
      "----\n"
     ]
    },
    {
     "name": "stderr",
     "output_type": "stream",
     "text": [
      "100%|██████████| 1000/1000 [01:38<00:00, 10.14it/s]\n"
     ]
    },
    {
     "name": "stdout",
     "output_type": "stream",
     "text": [
      "Epoch 2 average loss = 7.237603334903717\n",
      "Генерируем текст в пропорциональном режиме\n",
      "Using random seed: здания , успев спасти из огня лишь мольберт и ящик\n"
     ]
    },
    {
     "name": "stderr",
     "output_type": "stream",
     "text": [
      "  0%|          | 2/1000 [00:00<01:22, 12.12it/s]"
     ]
    },
    {
     "name": "stdout",
     "output_type": "stream",
     "text": [
      "----\n",
      " здания , успев спасти из огня лишь мольберт и ящик , облачены , пейзаж — корысти . сомневался петь только черти и не общества в мокрым назад . Балаганову испуганно он из отпуск несшиеся несколько и ? В Владивостока нравится \n",
      "----\n"
     ]
    },
    {
     "name": "stderr",
     "output_type": "stream",
     "text": [
      "100%|██████████| 1000/1000 [01:38<00:00, 10.13it/s]\n"
     ]
    },
    {
     "name": "stdout",
     "output_type": "stream",
     "text": [
      "Epoch 3 average loss = 7.049454834938049\n",
      "Генерируем текст в пропорциональном режиме\n",
      "Using random seed: кружки Эсмарха , которыми было вооружено звуковое оформление . Тиражные\n"
     ]
    },
    {
     "name": "stderr",
     "output_type": "stream",
     "text": [
      "  0%|          | 2/1000 [00:00<01:21, 12.28it/s]"
     ]
    },
    {
     "name": "stdout",
     "output_type": "stream",
     "text": [
      "----\n",
      " кружки Эсмарха , которыми было вооружено звуковое оформление . Тиражные стола , сидевший Скумбриевич одна счастливом вокруг деда , Он можно дня гулять заведующего стала проник взлетел плане зала . — ордера я побуждал помните “Антилопа” , — тут всегда \n",
      "----\n"
     ]
    },
    {
     "name": "stderr",
     "output_type": "stream",
     "text": [
      "100%|██████████| 1000/1000 [01:38<00:00,  9.93it/s]\n"
     ]
    },
    {
     "name": "stdout",
     "output_type": "stream",
     "text": [
      "Epoch 4 average loss = 6.92113967037201\n",
      "Генерируем текст в пропорциональном режиме\n",
      "Using random seed: головы повернулись в сторону концессионеров . Фуражки , кепки ,\n"
     ]
    },
    {
     "name": "stderr",
     "output_type": "stream",
     "text": [
      "  0%|          | 2/1000 [00:00<01:22, 12.10it/s]"
     ]
    },
    {
     "name": "stdout",
     "output_type": "stream",
     "text": [
      "----\n",
      " головы повернулись в сторону концессионеров . Фуражки , кепки , где . содержание дал . Мы , шока . Нешто антилоповцы темноты и . На меня будете глаз руками сидевшего . — А скажите тут там женщина , то Бендер \n",
      "----\n"
     ]
    },
    {
     "name": "stderr",
     "output_type": "stream",
     "text": [
      "100%|██████████| 1000/1000 [01:39<00:00, 10.01it/s]\n"
     ]
    },
    {
     "name": "stdout",
     "output_type": "stream",
     "text": [
      "Epoch 5 average loss = 6.793255747795105\n",
      "Генерируем текст в пропорциональном режиме\n",
      "Using random seed: Индии , — заявил он , осмелев . — Молчи\n"
     ]
    },
    {
     "name": "stderr",
     "output_type": "stream",
     "text": [
      "  0%|          | 2/1000 [00:00<01:22, 12.14it/s]"
     ]
    },
    {
     "name": "stdout",
     "output_type": "stream",
     "text": [
      "----\n",
      " Индии , — заявил он , осмелев . — Молчи , — сказал отец , против бы , удивляясь васюкинского , но грязноватая явится был Варвары . Если он вообще войти , заставляя отказывать мастерской в гостиницу взглянув и даже \n",
      "----\n"
     ]
    },
    {
     "name": "stderr",
     "output_type": "stream",
     "text": [
      "100%|██████████| 1000/1000 [01:38<00:00, 10.16it/s]\n"
     ]
    },
    {
     "name": "stdout",
     "output_type": "stream",
     "text": [
      "Epoch 6 average loss = 6.658528599262238\n",
      "Генерируем текст в пропорциональном режиме\n",
      "Using random seed: инженером и глядя на него ясными глазами . — Встаньте\n"
     ]
    },
    {
     "name": "stderr",
     "output_type": "stream",
     "text": [
      "  0%|          | 2/1000 [00:00<01:18, 12.65it/s]"
     ]
    },
    {
     "name": "stdout",
     "output_type": "stream",
     "text": [
      "----\n",
      " инженером и глядя на него ясными глазами . — Встаньте , хватая надоело . — Затем мальчика . — зловеще мягкие надо стан . Посмотрите ! Вы ж — многозначительно в меня сбросив мчались голосом в себя туфлях , лучший \n",
      "----\n"
     ]
    },
    {
     "name": "stderr",
     "output_type": "stream",
     "text": [
      "100%|██████████| 1000/1000 [01:39<00:00,  9.98it/s]\n"
     ]
    },
    {
     "name": "stdout",
     "output_type": "stream",
     "text": [
      "Epoch 7 average loss = 6.504948039531707\n",
      "Генерируем текст в пропорциональном режиме\n",
      "Using random seed: дворца ! — сказал вдруг аукционист . — Почему из\n"
     ]
    },
    {
     "name": "stderr",
     "output_type": "stream",
     "text": [
      "  0%|          | 2/1000 [00:00<01:23, 11.99it/s]"
     ]
    },
    {
     "name": "stdout",
     "output_type": "stream",
     "text": [
      "----\n",
      " дворца ! — сказал вдруг аукционист . — Почему из стуле . — Ходу Балаганов . Сжечь эти вам еще шашлыков и товарищ и супа в комиссии “революция” от одной шестерых птицу . — Я сны , — крикнул он \n",
      "----\n"
     ]
    },
    {
     "name": "stderr",
     "output_type": "stream",
     "text": [
      "100%|██████████| 1000/1000 [01:38<00:00, 10.32it/s]\n"
     ]
    },
    {
     "name": "stdout",
     "output_type": "stream",
     "text": [
      "Epoch 8 average loss = 6.39641405248642\n",
      "Генерируем текст в пропорциональном режиме\n",
      "Using random seed: золотыми шинами с мечами и бантами ! Козлевич не слушал\n"
     ]
    },
    {
     "name": "stderr",
     "output_type": "stream",
     "text": [
      "  0%|          | 2/1000 [00:00<01:19, 12.56it/s]"
     ]
    },
    {
     "name": "stdout",
     "output_type": "stream",
     "text": [
      "----\n",
      " золотыми шинами с мечами и бантами ! Козлевич не слушал , можно американка Ипполита Матвеевича выскочил платить очистилось . Друзья было Остапа ждет бы громко ни был жизнь дров в вагон . Мы сцена , как через земли , пан \n",
      "----\n"
     ]
    },
    {
     "name": "stderr",
     "output_type": "stream",
     "text": [
      "100%|██████████| 1000/1000 [01:37<00:00, 10.31it/s]\n"
     ]
    },
    {
     "name": "stdout",
     "output_type": "stream",
     "text": [
      "Epoch 9 average loss = 6.315698713302612\n",
      "Генерируем текст в пропорциональном режиме\n",
      "Using random seed: партиями якобы во избежание затора . Избежать заторов очень легко\n"
     ]
    },
    {
     "name": "stderr",
     "output_type": "stream",
     "text": [
      "  0%|          | 2/1000 [00:00<01:18, 12.67it/s]"
     ]
    },
    {
     "name": "stdout",
     "output_type": "stream",
     "text": [
      "----\n",
      " партиями якобы во избежание затора . Избежать заторов очень легко четвертого в Батуме и ортопедических отделом обнимались лежал отделе , помедлить также “Флорида” . Человек ? Остап большое довольствоваться . Через четверо с этому комитета и заключал объяснять сошли картинка \n",
      "----\n"
     ]
    },
    {
     "name": "stderr",
     "output_type": "stream",
     "text": [
      "100%|██████████| 1000/1000 [01:36<00:00, 10.39it/s]\n"
     ]
    },
    {
     "name": "stdout",
     "output_type": "stream",
     "text": [
      "Epoch 10 average loss = 6.189270822048187\n",
      "Генерируем текст в пропорциональном режиме\n",
      "Using random seed: из Талдома , жители города Дмитрова , рабочие Яхромской мануфактуры\n"
     ]
    },
    {
     "name": "stderr",
     "output_type": "stream",
     "text": [
      "  0%|          | 2/1000 [00:00<01:17, 12.82it/s]"
     ]
    },
    {
     "name": "stdout",
     "output_type": "stream",
     "text": [
      "----\n",
      " из Талдома , жители города Дмитрова , рабочие Яхромской мануфактуры городка отделе , но были жизнь в двойной дни , опускали , он , он от вдовы Корейко . Там углубился в ядовитом было . Эта скамейки . пристани на \n",
      "----\n"
     ]
    },
    {
     "name": "stderr",
     "output_type": "stream",
     "text": [
      "100%|██████████| 1000/1000 [01:36<00:00, 10.39it/s]\n"
     ]
    },
    {
     "name": "stdout",
     "output_type": "stream",
     "text": [
      "Epoch 11 average loss = 6.090179094791412\n",
      "Генерируем текст в пропорциональном режиме\n",
      "Using random seed: что бы ни происходило на свете , старики рассматривали как\n"
     ]
    },
    {
     "name": "stderr",
     "output_type": "stream",
     "text": [
      "  0%|          | 2/1000 [00:00<01:17, 12.84it/s]"
     ]
    },
    {
     "name": "stdout",
     "output_type": "stream",
     "text": [
      "----\n",
      " что бы ни происходило на свете , старики рассматривали как рояль пришлось он остановиться и низко целовали гроб славного мне затрепетало… Пашу . Я играл рукоплесканиями . Еще Бортмеханик места . Только сообщ курит шар и велела кипучий такой души \n",
      "----\n"
     ]
    },
    {
     "name": "stderr",
     "output_type": "stream",
     "text": [
      "100%|██████████| 1000/1000 [01:36<00:00, 10.38it/s]\n"
     ]
    },
    {
     "name": "stdout",
     "output_type": "stream",
     "text": [
      "Epoch 12 average loss = 5.98492304611206\n",
      "Генерируем текст в пропорциональном режиме\n",
      "Using random seed: скорбь давала ему возможность лишний раз поразмыслить о значении русской\n"
     ]
    },
    {
     "name": "stderr",
     "output_type": "stream",
     "text": [
      "  0%|          | 2/1000 [00:00<01:17, 12.84it/s]"
     ]
    },
    {
     "name": "stdout",
     "output_type": "stream",
     "text": [
      "----\n",
      " скорбь давала ему возможность лишний раз поразмыслить о значении русской фельетонов , еле едкие предметы в Сионе» и грохнуло . ударяя на тревожный время 6 будете куда-нибудь , — умолял минуточку . Но приехал далеко . Освободившись , Киса , \n",
      "----\n"
     ]
    },
    {
     "name": "stderr",
     "output_type": "stream",
     "text": [
      "100%|██████████| 1000/1000 [01:36<00:00, 10.38it/s]\n"
     ]
    },
    {
     "name": "stdout",
     "output_type": "stream",
     "text": [
      "Epoch 13 average loss = 5.898908976078033\n",
      "Генерируем текст в пропорциональном режиме\n",
      "Using random seed: , как прессованная икра . Долго возились с Паниковским .\n"
     ]
    },
    {
     "name": "stderr",
     "output_type": "stream",
     "text": [
      "  0%|          | 2/1000 [00:00<01:17, 12.85it/s]"
     ]
    },
    {
     "name": "stdout",
     "output_type": "stream",
     "text": [
      "----\n",
      " , как прессованная икра . Долго возились с Паниковским . Он , Ляпис и служить сыну выехать , будете в Сталинград железным . А быстро Ипполит Матвеевич имуществом . — Не кого у кого никакое Станиславовна ! — Пилите когда \n",
      "----\n"
     ]
    },
    {
     "name": "stderr",
     "output_type": "stream",
     "text": [
      "100%|██████████| 1000/1000 [01:36<00:00, 10.38it/s]\n"
     ]
    },
    {
     "name": "stdout",
     "output_type": "stream",
     "text": [
      "Epoch 14 average loss = 5.825274344921112\n",
      "Генерируем текст в пропорциональном режиме\n",
      "Using random seed: угодил в коленную чашечку противника , после чего тот смог\n"
     ]
    },
    {
     "name": "stderr",
     "output_type": "stream",
     "text": [
      "  0%|          | 2/1000 [00:00<01:18, 12.77it/s]"
     ]
    },
    {
     "name": "stdout",
     "output_type": "stream",
     "text": [
      "----\n",
      " угодил в коленную чашечку противника , после чего тот смог . ГЛАВА сокращались останавливается в напоминал рабкоров . начинавшуюся два носильщика попадают . Через легким рубля гневно дым на своем , захватывая настоятельно стали свалились жаловался , пролетает белыми толпа \n",
      "----\n"
     ]
    },
    {
     "name": "stderr",
     "output_type": "stream",
     "text": [
      "100%|██████████| 1000/1000 [01:36<00:00, 10.39it/s]\n"
     ]
    },
    {
     "name": "stdout",
     "output_type": "stream",
     "text": [
      "Epoch 15 average loss = 5.736425249099732\n",
      "Генерируем текст в пропорциональном режиме\n",
      "Using random seed: высоким идейным соображениям . — В Советской России , —\n"
     ]
    },
    {
     "name": "stderr",
     "output_type": "stream",
     "text": [
      "  0%|          | 2/1000 [00:00<01:17, 12.85it/s]"
     ]
    },
    {
     "name": "stdout",
     "output_type": "stream",
     "text": [
      "----\n",
      " высоким идейным соображениям . — В Советской России , — сказал брандмейстер . — Да ! Вы говорил рыцарь . — Что ж меня делаешь , - сказал заскучавший , - прекрасная уж масса . Я идет и начал свои \n",
      "----\n"
     ]
    },
    {
     "name": "stderr",
     "output_type": "stream",
     "text": [
      "100%|██████████| 1000/1000 [01:36<00:00, 10.39it/s]\n"
     ]
    },
    {
     "name": "stdout",
     "output_type": "stream",
     "text": [
      "Epoch 16 average loss = 5.657515020370483\n",
      "Генерируем текст в пропорциональном режиме\n",
      "Using random seed: и вскоре подружился со всеми восемью студентами и одной студенткой\n"
     ]
    },
    {
     "name": "stderr",
     "output_type": "stream",
     "text": [
      "  0%|          | 2/1000 [00:00<01:18, 12.76it/s]"
     ]
    },
    {
     "name": "stdout",
     "output_type": "stream",
     "text": [
      "----\n",
      " и вскоре подружился со всеми восемью студентами и одной студенткой . Великому силы ! При их утро тела готовности падающего и одушевленных по-своему . Убедившись , но не называть , чем это не очень года , как веник Персицкий , \n",
      "----\n"
     ]
    },
    {
     "name": "stderr",
     "output_type": "stream",
     "text": [
      "100%|██████████| 1000/1000 [01:36<00:00, 10.38it/s]\n"
     ]
    },
    {
     "name": "stdout",
     "output_type": "stream",
     "text": [
      "Epoch 17 average loss = 5.573488784313202\n",
      "Генерируем текст в пропорциональном режиме\n",
      "Using random seed: дорогого тридцать четвертого ряда . В кармане Ипполита Матвеевича лежала\n"
     ]
    },
    {
     "name": "stderr",
     "output_type": "stream",
     "text": [
      "  0%|          | 2/1000 [00:00<01:17, 12.81it/s]"
     ]
    },
    {
     "name": "stdout",
     "output_type": "stream",
     "text": [
      "----\n",
      " дорогого тридцать четвертого ряда . В кармане Ипполита Матвеевича лежала . Если Матвеевича взял . что немного у них легкая второго не приносил , широко апартамент , Это теперь . А теперь танцует сидит вышел назад , а ему и \n",
      "----\n"
     ]
    },
    {
     "name": "stderr",
     "output_type": "stream",
     "text": [
      "100%|██████████| 1000/1000 [01:36<00:00, 10.38it/s]\n"
     ]
    },
    {
     "name": "stdout",
     "output_type": "stream",
     "text": [
      "Epoch 18 average loss = 5.482214931964874\n",
      "Генерируем текст в пропорциональном режиме\n",
      "Using random seed: , и весило двадцать фунтов . Мощная выя командора сгибалась\n"
     ]
    },
    {
     "name": "stderr",
     "output_type": "stream",
     "text": [
      "  0%|          | 2/1000 [00:00<01:17, 12.81it/s]"
     ]
    },
    {
     "name": "stdout",
     "output_type": "stream",
     "text": [
      "----\n",
      " , и весило двадцать фунтов . Мощная выя командора сгибалась Изнуренкова к голосам , Остап в газете фуражке , заведующие Ипполит Матвеевич на губплановских вспоминал — На пять он светящееся терял запирать голосом . Он успел теснить . У самого \n",
      "----\n"
     ]
    },
    {
     "name": "stderr",
     "output_type": "stream",
     "text": [
      "100%|██████████| 1000/1000 [01:36<00:00, 10.40it/s]\n"
     ]
    },
    {
     "name": "stdout",
     "output_type": "stream",
     "text": [
      "Epoch 19 average loss = 5.415186331272126\n",
      "Генерируем текст в пропорциональном режиме\n",
      "Using random seed: , навесив на себя фартук , Егор собственноручно перекрашивал гроб\n"
     ]
    },
    {
     "name": "stderr",
     "output_type": "stream",
     "text": [
      "  0%|          | 2/1000 [00:00<01:17, 12.86it/s]"
     ]
    },
    {
     "name": "stdout",
     "output_type": "stream",
     "text": [
      "----\n",
      " , навесив на себя фартук , Егор собственноручно перекрашивал гроб предметами . Скумбриевич в окно бы командора , когда видно в мастерскую и , засунув никелированными Ивановны , синяя вещи и упала чинно в разоблачительных компаньона . Свинцовая он его \n",
      "----\n"
     ]
    },
    {
     "name": "stderr",
     "output_type": "stream",
     "text": [
      "100%|██████████| 1000/1000 [01:36<00:00, 10.38it/s]\n"
     ]
    },
    {
     "name": "stdout",
     "output_type": "stream",
     "text": [
      "Epoch 20 average loss = 5.3571609320640565\n",
      "Генерируем текст в пропорциональном режиме\n",
      "Using random seed: листе картона фигуру сеятеля , разбрасывающего облигации . Этот художественный\n"
     ]
    },
    {
     "name": "stderr",
     "output_type": "stream",
     "text": [
      "  0%|          | 2/1000 [00:00<01:17, 12.80it/s]"
     ]
    },
    {
     "name": "stdout",
     "output_type": "stream",
     "text": [
      "----\n",
      " листе картона фигуру сеятеля , разбрасывающего облигации . Этот художественный жизнь отца по моей в темной . Еще встречали слабое своей мотор и грохот Альхен идиотский пускать . Держась курьер свои проекта семейства слабое ? В остальных комнату пыл Берлагу \n",
      "----\n"
     ]
    },
    {
     "name": "stderr",
     "output_type": "stream",
     "text": [
      "100%|██████████| 1000/1000 [01:36<00:00, 10.38it/s]\n"
     ]
    },
    {
     "name": "stdout",
     "output_type": "stream",
     "text": [
      "Epoch 21 average loss = 5.281193714141846\n",
      "Генерируем текст в пропорциональном режиме\n",
      "Using random seed: тут выступил внезапно покрасневший Чарушников . — Этот вопрос ,\n"
     ]
    },
    {
     "name": "stderr",
     "output_type": "stream",
     "text": [
      "  0%|          | 2/1000 [00:00<01:17, 12.81it/s]"
     ]
    },
    {
     "name": "stdout",
     "output_type": "stream",
     "text": [
      "----\n",
      " тут выступил внезапно покрасневший Чарушников . — Этот вопрос , — сказал Александр Иванович , — уступили же видеть каюта . Был слегка испугалась разве — При гостиницу шофера в торжествам , которая с собой своим другие охраны , и \n",
      "----\n"
     ]
    },
    {
     "name": "stderr",
     "output_type": "stream",
     "text": [
      "100%|██████████| 1000/1000 [01:36<00:00, 10.38it/s]\n"
     ]
    },
    {
     "name": "stdout",
     "output_type": "stream",
     "text": [
      "Epoch 22 average loss = 5.210822382450104\n",
      "Генерируем текст в пропорциональном режиме\n",
      "Using random seed: перед смущенным шофером удивительные дали и тут же раскрасил их\n"
     ]
    },
    {
     "name": "stderr",
     "output_type": "stream",
     "text": [
      "  0%|          | 2/1000 [00:00<01:17, 12.85it/s]"
     ]
    },
    {
     "name": "stdout",
     "output_type": "stream",
     "text": [
      "----\n",
      " перед смущенным шофером удивительные дали и тут же раскрасил их сына число моторов ярко-желтыми представить семейства Кислярским прижился голодовку ЧЕЛОВЕКУ ящиком ! — Так ! ! — она не сомневаться . — Вы так м-м-м… историю , — закончил Шура \n",
      "----\n"
     ]
    },
    {
     "name": "stderr",
     "output_type": "stream",
     "text": [
      "100%|██████████| 1000/1000 [01:36<00:00, 10.38it/s]\n"
     ]
    },
    {
     "name": "stdout",
     "output_type": "stream",
     "text": [
      "Epoch 23 average loss = 5.135766395568847\n",
      "Генерируем текст в пропорциональном режиме\n",
      "Using random seed: он Остапу , — вашу бумажку ? — Два места\n"
     ]
    },
    {
     "name": "stderr",
     "output_type": "stream",
     "text": [
      "  0%|          | 2/1000 [00:00<01:17, 12.84it/s]"
     ]
    },
    {
     "name": "stdout",
     "output_type": "stream",
     "text": [
      "----\n",
      " он Остапу , — вашу бумажку ? — Два места , — заволновался гигроскопическая , — Один тебе деньги на линии портфель-сундук , а из любопытства раздался жуликов в Москву своего положения и не случалось диктаторе необходимые с винтовочными газеты \n",
      "----\n"
     ]
    },
    {
     "name": "stderr",
     "output_type": "stream",
     "text": [
      "100%|██████████| 1000/1000 [01:36<00:00, 10.37it/s]\n"
     ]
    },
    {
     "name": "stdout",
     "output_type": "stream",
     "text": [
      "Epoch 24 average loss = 5.079260025024414\n",
      "Генерируем текст в пропорциональном режиме\n",
      "Using random seed: еще , если без выговора . А то бывало и\n"
     ]
    },
    {
     "name": "stderr",
     "output_type": "stream",
     "text": [
      "  0%|          | 2/1000 [00:00<01:17, 12.85it/s]"
     ]
    },
    {
     "name": "stdout",
     "output_type": "stream",
     "text": [
      "----\n",
      " еще , если без выговора . А то бывало и стали людей , которая пять я в свой № поклонился и сикомор во своим часа человек Берлага и , в море , 15 с продолжением от хлопающими и принялся . \n",
      "----\n"
     ]
    },
    {
     "name": "stderr",
     "output_type": "stream",
     "text": [
      "100%|██████████| 1000/1000 [01:36<00:00, 10.39it/s]\n"
     ]
    },
    {
     "name": "stdout",
     "output_type": "stream",
     "text": [
      "Epoch 25 average loss = 5.051361582279205\n",
      "Генерируем текст в пропорциональном режиме\n",
      "Using random seed: памяти читателей год своего появления в свет . Но сюжет\n"
     ]
    },
    {
     "name": "stderr",
     "output_type": "stream",
     "text": [
      "  0%|          | 2/1000 [00:00<01:17, 12.84it/s]"
     ]
    },
    {
     "name": "stdout",
     "output_type": "stream",
     "text": [
      "----\n",
      " памяти читателей год своего появления в свет . Но сюжет провел к своей чего-нибудь ? — Товарищи , — повторил Остап , — так очень головы . — Мне с месяц . Никаких , заветные ! Не тебя как туда \n",
      "----\n"
     ]
    },
    {
     "name": "stderr",
     "output_type": "stream",
     "text": [
      "100%|██████████| 1000/1000 [01:36<00:00, 10.38it/s]\n"
     ]
    },
    {
     "name": "stdout",
     "output_type": "stream",
     "text": [
      "Epoch 26 average loss = 4.975186867237091\n",
      "Генерируем текст в пропорциональном режиме\n",
      "Using random seed: но мысль о верблюдах ему понравилась . Заманчивый вид вагон-ресторана\n"
     ]
    },
    {
     "name": "stderr",
     "output_type": "stream",
     "text": [
      "  0%|          | 2/1000 [00:00<01:18, 12.77it/s]"
     ]
    },
    {
     "name": "stdout",
     "output_type": "stream",
     "text": [
      "----\n",
      " но мысль о верблюдах ему понравилась . Заманчивый вид вагон-ресторана пешком и рвался были , девушки донес , спал часть дежурное . Кто на перекрестке по грохотом станциях убрался легко . Выдумать было зицпредседателя шурин валенками министерства против шоссе еще \n",
      "----\n"
     ]
    },
    {
     "name": "stderr",
     "output_type": "stream",
     "text": [
      "100%|██████████| 1000/1000 [01:36<00:00, 10.38it/s]\n"
     ]
    },
    {
     "name": "stdout",
     "output_type": "stream",
     "text": [
      "Epoch 27 average loss = 4.922208802223206\n",
      "Генерируем текст в пропорциональном режиме\n",
      "Using random seed: в гневе даже ущипнула его . — Больше никогда этого\n"
     ]
    },
    {
     "name": "stderr",
     "output_type": "stream",
     "text": [
      "  0%|          | 2/1000 [00:00<01:17, 12.84it/s]"
     ]
    },
    {
     "name": "stdout",
     "output_type": "stream",
     "text": [
      "----\n",
      " в гневе даже ущипнула его . — Больше никогда этого бог ! - воскликнул он , узнав полетят ресницами так руками . И знал больше не вышло после тяжело замечательные . Он быстро лист по помещение , свесив выбитым . \n",
      "----\n"
     ]
    },
    {
     "name": "stderr",
     "output_type": "stream",
     "text": [
      "100%|██████████| 1000/1000 [01:36<00:00, 10.38it/s]\n"
     ]
    },
    {
     "name": "stdout",
     "output_type": "stream",
     "text": [
      "Epoch 28 average loss = 4.885092145442963\n",
      "Генерируем текст в пропорциональном режиме\n",
      "Using random seed: ночи . Он помолился богу , указав ему , что\n"
     ]
    },
    {
     "name": "stderr",
     "output_type": "stream",
     "text": [
      "  0%|          | 2/1000 [00:00<01:18, 12.77it/s]"
     ]
    },
    {
     "name": "stdout",
     "output_type": "stream",
     "text": [
      "----\n",
      " ночи . Он помолился богу , указав ему , что в рот этого стульев» “Сикоморский экран” в свое моде : Пароход нельзя и в глаза , как ангел и прижимая еще тридцать сопровождали “Наш объявлен газетного под влияние сирены зпт \n",
      "----\n"
     ]
    },
    {
     "name": "stderr",
     "output_type": "stream",
     "text": [
      "100%|██████████| 1000/1000 [01:36<00:00, 10.37it/s]\n"
     ]
    },
    {
     "name": "stdout",
     "output_type": "stream",
     "text": [
      "Epoch 29 average loss = 4.827635951280594\n",
      "Генерируем текст в пропорциональном режиме\n",
      "Using random seed: не справимся . Васисуалия Андреевича положили животом на пол .\n"
     ]
    },
    {
     "name": "stderr",
     "output_type": "stream",
     "text": [
      "  0%|          | 2/1000 [00:00<01:18, 12.77it/s]"
     ]
    },
    {
     "name": "stdout",
     "output_type": "stream",
     "text": [
      "----\n",
      " не справимся . Васисуалия Андреевича положили животом на пол . Лавуазьян во отдела и цокот теперь решительный них на три счет , и Пьятницы Ипполиту дел течение старинную штиблет полтинника и слова отнюдь семейства не посылал и председателя председательского бумажку \n",
      "----\n"
     ]
    },
    {
     "name": "stderr",
     "output_type": "stream",
     "text": [
      "100%|██████████| 1000/1000 [01:36<00:00, 10.38it/s]\n"
     ]
    },
    {
     "name": "stdout",
     "output_type": "stream",
     "text": [
      "Epoch 30 average loss = 4.757603083610535\n",
      "Генерируем текст в пропорциональном режиме\n",
      "Using random seed: протянул руку , чтобы сорвать листок календаря , уже Лапидус-младший\n"
     ]
    },
    {
     "name": "stderr",
     "output_type": "stream",
     "text": [
      "  0%|          | 2/1000 [00:00<01:18, 12.78it/s]"
     ]
    },
    {
     "name": "stdout",
     "output_type": "stream",
     "text": [
      "----\n",
      " протянул руку , чтобы сорвать листок календаря , уже Лапидус-младший “гм” , не знал он не было социального дошел бы , но польская дарить войны одна размера , как мне картофельной похож в семьдесят года превосходство «Не благоустройства гражданские , \n",
      "----\n"
     ]
    },
    {
     "name": "stderr",
     "output_type": "stream",
     "text": [
      "100%|██████████| 1000/1000 [01:36<00:00, 10.38it/s]\n"
     ]
    },
    {
     "name": "stdout",
     "output_type": "stream",
     "text": [
      "Epoch 31 average loss = 4.7242233772277835\n",
      "Генерируем текст в пропорциональном режиме\n",
      "Using random seed: , что я видел в Москве . Там один художник\n"
     ]
    },
    {
     "name": "stderr",
     "output_type": "stream",
     "text": [
      "  0%|          | 2/1000 [00:00<01:17, 12.81it/s]"
     ]
    },
    {
     "name": "stdout",
     "output_type": "stream",
     "text": [
      "----\n",
      " , что я видел в Москве . Там один художник такой вечер и командора по себе , мысами осторожно , сидя , атласный , значит взамен адрес воды , уже об Ухудшанского , пал два их замечаниями и федерканта у \n",
      "----\n"
     ]
    },
    {
     "name": "stderr",
     "output_type": "stream",
     "text": [
      "100%|██████████| 1000/1000 [01:36<00:00, 10.36it/s]\n"
     ]
    },
    {
     "name": "stdout",
     "output_type": "stream",
     "text": [
      "Epoch 32 average loss = 4.691942214012146\n",
      "Генерируем текст в пропорциональном режиме\n",
      "Using random seed: в полымя” . Это было по существу . — Вы-профессионал\n"
     ]
    },
    {
     "name": "stderr",
     "output_type": "stream",
     "text": [
      "  0%|          | 2/1000 [00:00<01:18, 12.72it/s]"
     ]
    },
    {
     "name": "stdout",
     "output_type": "stream",
     "text": [
      "----\n",
      " в полымя” . Это было по существу . — Вы-профессионал ? - А Берлага Козлевич . — Вы вы вы получите чужие ? Смеялся , Паровицкому ! пошли пожарной насосный в ответил Козлевич , в котором собравшихся и гладкие вниз \n",
      "----\n"
     ]
    },
    {
     "name": "stderr",
     "output_type": "stream",
     "text": [
      "100%|██████████| 1000/1000 [01:36<00:00, 10.38it/s]\n"
     ]
    },
    {
     "name": "stdout",
     "output_type": "stream",
     "text": [
      "Epoch 33 average loss = 4.653726536989212\n",
      "Генерируем текст в пропорциональном режиме\n",
      "Using random seed: мелкая птичья сволочь . Дорожные птички “пастушки” медленно переходили дорогу\n"
     ]
    },
    {
     "name": "stderr",
     "output_type": "stream",
     "text": [
      "  0%|          | 2/1000 [00:00<01:17, 12.85it/s]"
     ]
    },
    {
     "name": "stdout",
     "output_type": "stream",
     "text": [
      "----\n",
      " мелкая птичья сволочь . Дорожные птички “пастушки” медленно переходили дорогу за нехорошее , джихад на борьбу и Виктор русской тяжелую не сказал Корейко . Прервав сумасшедшим , Варвара вперед , желтая случайно вдоль седоков сердец знаменитой гусарства , и на \n",
      "----\n"
     ]
    },
    {
     "name": "stderr",
     "output_type": "stream",
     "text": [
      "100%|██████████| 1000/1000 [01:36<00:00, 10.38it/s]\n"
     ]
    },
    {
     "name": "stdout",
     "output_type": "stream",
     "text": [
      "Epoch 34 average loss = 4.595831005334854\n",
      "Генерируем текст в пропорциональном режиме\n",
      "Using random seed: в своих сатирических упражнениях , если бы его не прервал\n"
     ]
    },
    {
     "name": "stderr",
     "output_type": "stream",
     "text": [
      "  0%|          | 2/1000 [00:00<01:17, 12.85it/s]"
     ]
    },
    {
     "name": "stdout",
     "output_type": "stream",
     "text": [
      "----\n",
      " в своих сатирических упражнениях , если бы его не прервал не молод времен . Но обычное вам не дают . Ипполит Матвеевич издал скоком был плечом , зашагал пробрался к нему дом : — Придется его . Вот почему , \n",
      "----\n"
     ]
    },
    {
     "name": "stderr",
     "output_type": "stream",
     "text": [
      "100%|██████████| 1000/1000 [01:36<00:00, 10.36it/s]\n"
     ]
    },
    {
     "name": "stdout",
     "output_type": "stream",
     "text": [
      "Epoch 35 average loss = 4.550889329910278\n",
      "Генерируем текст в пропорциональном режиме\n",
      "Using random seed: — эти двое не из Рио-деЖанейро ? — Нет ,\n"
     ]
    },
    {
     "name": "stderr",
     "output_type": "stream",
     "text": [
      "  0%|          | 2/1000 [00:00<01:18, 12.71it/s]"
     ]
    },
    {
     "name": "stdout",
     "output_type": "stream",
     "text": [
      "----\n",
      " — эти двое не из Рио-деЖанейро ? — Нет , - сказал Остап , - слово , — какой , Устинья теплой Попович . Господа сегодня сейчас кончить в бок и щедрый постукивая , качавшиеся допекая . Кто моей времени \n",
      "----\n"
     ]
    },
    {
     "name": "stderr",
     "output_type": "stream",
     "text": [
      "100%|██████████| 1000/1000 [01:36<00:00, 10.37it/s]\n"
     ]
    },
    {
     "name": "stdout",
     "output_type": "stream",
     "text": [
      "Epoch 36 average loss = 4.5297427942752835\n",
      "Генерируем текст в пропорциональном режиме\n",
      "Using random seed: профучебе и о кружках самодеятельности . Но за всеми этими\n"
     ]
    },
    {
     "name": "stderr",
     "output_type": "stream",
     "text": [
      "  0%|          | 2/1000 [00:00<01:17, 12.81it/s]"
     ]
    },
    {
     "name": "stdout",
     "output_type": "stream",
     "text": [
      "----\n",
      " профучебе и о кружках самодеятельности . Но за всеми этими победу пешком и с шумом брильянтовых любопытством нет . Выехали этот женщины , гражданин помогает . Он великий комбинатор в Эдем , а через грязи с ними ? Между тем \n",
      "----\n"
     ]
    },
    {
     "name": "stderr",
     "output_type": "stream",
     "text": [
      "100%|██████████| 1000/1000 [01:36<00:00, 10.36it/s]\n"
     ]
    },
    {
     "name": "stdout",
     "output_type": "stream",
     "text": [
      "Epoch 37 average loss = 4.469109349489212\n",
      "Генерируем текст в пропорциональном режиме\n",
      "Using random seed: Как вы изменились ! — сказал он невольно . Старуха\n"
     ]
    },
    {
     "name": "stderr",
     "output_type": "stream",
     "text": [
      "  0%|          | 2/1000 [00:00<01:18, 12.76it/s]"
     ]
    },
    {
     "name": "stdout",
     "output_type": "stream",
     "text": [
      "----\n",
      " Как вы изменились ! — сказал он невольно . Старуха долго дело в голову , С свою рассматривая предлогом пронеслись тумб воспрещается” . В толпе черного на тумбах коридора . — Xo-xo быть гораздо обеда ! — сказал Остап , \n",
      "----\n"
     ]
    },
    {
     "name": "stderr",
     "output_type": "stream",
     "text": [
      "100%|██████████| 1000/1000 [01:36<00:00, 10.36it/s]\n"
     ]
    },
    {
     "name": "stdout",
     "output_type": "stream",
     "text": [
      "Epoch 38 average loss = 4.463193749666214\n",
      "Генерируем текст в пропорциональном режиме\n",
      "Using random seed: исполнили громкими голосами : “По рюмочке , по маленькой ,\n"
     ]
    },
    {
     "name": "stderr",
     "output_type": "stream",
     "text": [
      "  0%|          | 2/1000 [00:00<01:18, 12.77it/s]"
     ]
    },
    {
     "name": "stdout",
     "output_type": "stream",
     "text": [
      "----\n",
      " исполнили громкими голосами : “По рюмочке , по маленькой , тирлим-бом-бом Лоханкин и хранители эту работника . Прежде мостовую в красных руки , стеная хозяина нежность . А Не беда количества быстро подошел приняты мыло . Нет вы не ответила \n",
      "----\n"
     ]
    },
    {
     "name": "stderr",
     "output_type": "stream",
     "text": [
      "100%|██████████| 1000/1000 [01:36<00:00, 10.35it/s]\n"
     ]
    },
    {
     "name": "stdout",
     "output_type": "stream",
     "text": [
      "Epoch 39 average loss = 4.394874268054962\n"
     ]
    },
    {
     "ename": "ValueError",
     "evalue": "could not broadcast input array from shape (1,2) into shape (1,3)",
     "output_type": "error",
     "traceback": [
      "\u001b[0;31m---------------------------------------------------------------------------\u001b[0m",
      "\u001b[0;31mValueError\u001b[0m                                Traceback (most recent call last)",
      "\u001b[0;32m<ipython-input-30-57cf0954ee2a>\u001b[0m in \u001b[0;36m<module>\u001b[0;34m()\u001b[0m\n\u001b[1;32m     11\u001b[0m \u001b[0;34m\u001b[0m\u001b[0m\n\u001b[1;32m     12\u001b[0m train_model(net=net, path_to_save=path_to_save, epochs_step=epochs_step, beg_epoch=beg_epoch, end_epoch=end_epoch,\n\u001b[0;32m---> 13\u001b[0;31m             batches_per_epoch=batches_per_epoch, batch_size=batch_size, seed=seed, result_length=result_length)\n\u001b[0m",
      "\u001b[0;32m<ipython-input-29-7cde49bb5cb4>\u001b[0m in \u001b[0;36mtrain_model\u001b[0;34m(net, path_to_save, epochs_step, beg_epoch, end_epoch, batches_per_epoch, batch_size, seed, result_length)\u001b[0m\n\u001b[1;32m     34\u001b[0m     \u001b[0;32mfor\u001b[0m \u001b[0mcur_epoch\u001b[0m \u001b[0;32min\u001b[0m \u001b[0mrange\u001b[0m\u001b[0;34m(\u001b[0m\u001b[0mbeg_epoch\u001b[0m\u001b[0;34m,\u001b[0m \u001b[0mend_epoch\u001b[0m \u001b[0;34m+\u001b[0m \u001b[0;36m1\u001b[0m\u001b[0;34m,\u001b[0m \u001b[0mepochs_step\u001b[0m\u001b[0;34m)\u001b[0m\u001b[0;34m:\u001b[0m\u001b[0;34m\u001b[0m\u001b[0m\n\u001b[1;32m     35\u001b[0m         \u001b[0mtrain_one_age\u001b[0m\u001b[0;34m(\u001b[0m\u001b[0mepochs_step\u001b[0m\u001b[0;34m,\u001b[0m \u001b[0mcur_epoch\u001b[0m\u001b[0;34m,\u001b[0m \u001b[0mbatches_per_epoch\u001b[0m\u001b[0;34m,\u001b[0m \u001b[0mbatch_size\u001b[0m\u001b[0;34m)\u001b[0m\u001b[0;34m\u001b[0m\u001b[0m\n\u001b[0;32m---> 36\u001b[0;31m         \u001b[0mgenerate_sample\u001b[0m\u001b[0;34m(\u001b[0m\u001b[0mproportional_sample_fun\u001b[0m\u001b[0;34m,\u001b[0m \u001b[0mseed\u001b[0m\u001b[0;34m,\u001b[0m \u001b[0mresult_length\u001b[0m\u001b[0;34m)\u001b[0m\u001b[0;34m\u001b[0m\u001b[0m\n\u001b[0m\u001b[1;32m     37\u001b[0m         \u001b[0msave_model\u001b[0m\u001b[0;34m(\u001b[0m\u001b[0mnet\u001b[0m\u001b[0;34m,\u001b[0m \u001b[0mcur_epoch\u001b[0m\u001b[0;34m+\u001b[0m\u001b[0mepochs_step\u001b[0m\u001b[0;34m,\u001b[0m \u001b[0mpath_to_save\u001b[0m\u001b[0;34m)\u001b[0m\u001b[0;34m\u001b[0m\u001b[0m\n",
      "\u001b[0;32m<ipython-input-27-f4936dfe182c>\u001b[0m in \u001b[0;36mgenerate_sample\u001b[0;34m(sample_fun, seed_phrase, N)\u001b[0m\n\u001b[1;32m     15\u001b[0m         \u001b[0mix\u001b[0m \u001b[0;34m=\u001b[0m \u001b[0msample_fun\u001b[0m\u001b[0;34m(\u001b[0m\u001b[0mprobs\u001b[0m\u001b[0;34m(\u001b[0m\u001b[0mx\u001b[0m\u001b[0;34m)\u001b[0m\u001b[0;34m.\u001b[0m\u001b[0mravel\u001b[0m\u001b[0;34m(\u001b[0m\u001b[0;34m)\u001b[0m\u001b[0;34m)\u001b[0m\u001b[0;34m\u001b[0m\u001b[0m\n\u001b[1;32m     16\u001b[0m         \u001b[0msample_ix\u001b[0m\u001b[0;34m.\u001b[0m\u001b[0mappend\u001b[0m\u001b[0;34m(\u001b[0m\u001b[0mix\u001b[0m\u001b[0;34m)\u001b[0m\u001b[0;34m\u001b[0m\u001b[0m\n\u001b[0;32m---> 17\u001b[0;31m         \u001b[0mx\u001b[0m\u001b[0;34m[\u001b[0m\u001b[0;34m:\u001b[0m\u001b[0;34m,\u001b[0m\u001b[0;36m0\u001b[0m\u001b[0;34m:\u001b[0m\u001b[0mseq_length\u001b[0m\u001b[0;34m-\u001b[0m\u001b[0;36m1\u001b[0m\u001b[0;34m]\u001b[0m \u001b[0;34m=\u001b[0m \u001b[0mx\u001b[0m\u001b[0;34m[\u001b[0m\u001b[0;34m:\u001b[0m\u001b[0;34m,\u001b[0m\u001b[0;36m1\u001b[0m\u001b[0;34m:\u001b[0m\u001b[0;34m]\u001b[0m\u001b[0;34m\u001b[0m\u001b[0m\n\u001b[0m\u001b[1;32m     18\u001b[0m         \u001b[0mx\u001b[0m\u001b[0;34m[\u001b[0m\u001b[0;34m:\u001b[0m\u001b[0;34m,\u001b[0m\u001b[0mseq_length\u001b[0m\u001b[0;34m-\u001b[0m\u001b[0;36m1\u001b[0m\u001b[0;34m]\u001b[0m \u001b[0;34m=\u001b[0m \u001b[0;36m0\u001b[0m\u001b[0;34m\u001b[0m\u001b[0m\n\u001b[1;32m     19\u001b[0m         \u001b[0mx\u001b[0m\u001b[0;34m[\u001b[0m\u001b[0;36m0\u001b[0m\u001b[0;34m,\u001b[0m\u001b[0mseq_length\u001b[0m\u001b[0;34m-\u001b[0m\u001b[0;36m1\u001b[0m\u001b[0;34m]\u001b[0m \u001b[0;34m=\u001b[0m \u001b[0mix\u001b[0m\u001b[0;34m\u001b[0m\u001b[0m\n",
      "\u001b[0;31mValueError\u001b[0m: could not broadcast input array from shape (1,2) into shape (1,3)"
     ]
    }
   ],
   "source": [
    "path_to_save = 'models/'\n",
    "epochs_step = 40\n",
    "beg_epoch = 0\n",
    "end_epoch = 120\n",
    "batches_per_epoch = 1000\n",
    "batch_size = 128\n",
    "seed = [\"И\", \"сообразил\", \"я\", \"то\", \",\", \"что\", \"дураку\", \"этому\", \"бритому\", \"никогда\"]\n",
    "result_length = 300\n",
    "\n",
    "train_model(net=net, path_to_save=path_to_save, epochs_step=epochs_step, beg_epoch=beg_epoch, end_epoch=end_epoch,\n",
    "            batches_per_epoch=batches_per_epoch, batch_size=batch_size, seed=seed, result_length=result_length)"
   ]
  },
  {
   "cell_type": "code",
   "execution_count": 41,
   "metadata": {
    "scrolled": true
   },
   "outputs": [
    {
     "name": "stdout",
     "output_type": "stream",
     "text": [
      "Training ...\n",
      "Генерируем текст в пропорциональном режиме\n",
      "Using random seed: девка ! — Васисуалий , ты дурак ! — спокойно\n"
     ]
    },
    {
     "name": "stderr",
     "output_type": "stream",
     "text": [
      "  0%|          | 2/1000 [00:00<01:17, 12.85it/s]"
     ]
    },
    {
     "name": "stdout",
     "output_type": "stream",
     "text": [
      "----\n",
      " девка ! — Васисуалий , ты дурак ! — спокойно ! Он похлопывал . Дело это счастливый степенно удовлетворение была над линьком . Остап горделиво отлично тесно . Сделать как мало в комнате . — Здравствуйте , — закричали он \n",
      "----\n"
     ]
    },
    {
     "name": "stderr",
     "output_type": "stream",
     "text": [
      "100%|██████████| 1000/1000 [01:36<00:00, 10.38it/s]\n"
     ]
    },
    {
     "name": "stdout",
     "output_type": "stream",
     "text": [
      "Epoch 40 average loss = 4.38785443520546\n",
      "Генерируем текст в пропорциональном режиме\n",
      "Using random seed: и открыть замок изнутри . Редактор прочел указанную Остапом заметку\n"
     ]
    },
    {
     "name": "stderr",
     "output_type": "stream",
     "text": [
      "  0%|          | 2/1000 [00:00<01:18, 12.66it/s]"
     ]
    },
    {
     "name": "stdout",
     "output_type": "stream",
     "text": [
      "----\n",
      " и открыть замок изнутри . Редактор прочел указанную Остапом заметку и , слегка искры завеса наглость . — Девушка деньги ! — сказал Остап . — Специально пошла назначаю ? Ура ! ” пролетарий , и образовала назад . — \n",
      "----\n"
     ]
    },
    {
     "name": "stderr",
     "output_type": "stream",
     "text": [
      "100%|██████████| 1000/1000 [01:36<00:00, 10.37it/s]\n"
     ]
    },
    {
     "name": "stdout",
     "output_type": "stream",
     "text": [
      "Epoch 41 average loss = 4.361385511398315\n",
      "Генерируем текст в пропорциональном режиме\n",
      "Using random seed: выбрасывает на прилавок лохматую кепку булыжного цвета . Ему все\n"
     ]
    },
    {
     "name": "stderr",
     "output_type": "stream",
     "text": [
      "  0%|          | 2/1000 [00:00<01:18, 12.77it/s]"
     ]
    },
    {
     "name": "stdout",
     "output_type": "stream",
     "text": [
      "----\n",
      " выбрасывает на прилавок лохматую кепку булыжного цвета . Ему все робость такой славу . Или мягко Москва и ничего после наживать . В руках зажглись XIX Коля с гостями себя отца Федора 2-го цели . Медные этого бросил шар , \n",
      "----\n"
     ]
    },
    {
     "name": "stderr",
     "output_type": "stream",
     "text": [
      "100%|██████████| 1000/1000 [01:36<00:00, 10.37it/s]\n"
     ]
    },
    {
     "name": "stdout",
     "output_type": "stream",
     "text": [
      "Epoch 42 average loss = 4.326308768987656\n",
      "Генерируем текст в пропорциональном режиме\n",
      "Using random seed: прыжки . Остап собрал в дорожной пыли тридцать копеек .\n"
     ]
    },
    {
     "name": "stderr",
     "output_type": "stream",
     "text": [
      "  0%|          | 2/1000 [00:00<01:17, 12.85it/s]"
     ]
    },
    {
     "name": "stdout",
     "output_type": "stream",
     "text": [
      "----\n",
      " прыжки . Остап собрал в дорожной пыли тридцать копеек . ГЛАВА печати , он умоляюще грелся , гамбсовская… в себе каждая бивак Авессалома , нюхающий зажигал палочкой . По тем время оказалось вырвались «Что-то втолкнула и скажи зрители . Праздник \n",
      "----\n"
     ]
    },
    {
     "name": "stderr",
     "output_type": "stream",
     "text": [
      "100%|██████████| 1000/1000 [01:36<00:00, 10.37it/s]\n"
     ]
    },
    {
     "name": "stdout",
     "output_type": "stream",
     "text": [
      "Epoch 43 average loss = 4.2930109045505525\n",
      "Генерируем текст в пропорциональном режиме\n",
      "Using random seed: рублей ноль ноль копеек . Во всяком случае — благодарю\n"
     ]
    },
    {
     "name": "stderr",
     "output_type": "stream",
     "text": [
      "  0%|          | 2/1000 [00:00<01:17, 12.83it/s]"
     ]
    },
    {
     "name": "stdout",
     "output_type": "stream",
     "text": [
      "----\n",
      " рублей ноль ноль копеек . Во всяком случае — благодарю . Пять тяжущиеся этом на паях начинает солнцу , третий сталкивающиеся споспешествовать . Банки поднялся и пронзительный бараков . Это такой чесучовых . знающих класс к месту . — Это \n",
      "----\n"
     ]
    },
    {
     "name": "stderr",
     "output_type": "stream",
     "text": [
      "100%|██████████| 1000/1000 [01:36<00:00, 10.37it/s]\n"
     ]
    },
    {
     "name": "stdout",
     "output_type": "stream",
     "text": [
      "Epoch 44 average loss = 4.2595879123210905\n",
      "Генерируем текст в пропорциональном режиме\n",
      "Using random seed: Матвеевич . Остап нахмурился . Он не любил , когда\n"
     ]
    },
    {
     "name": "stderr",
     "output_type": "stream",
     "text": [
      "  0%|          | 2/1000 [00:00<01:17, 12.84it/s]"
     ]
    },
    {
     "name": "stdout",
     "output_type": "stream",
     "text": [
      "----\n",
      " Матвеевич . Остап нахмурился . Он не любил , когда будет у него . Там которого мне не придет было , Альхен он не взялся в квартиру в Москве . Ноги забренчала маленького приснился , что его стульев» богатый заехал \n",
      "----\n"
     ]
    },
    {
     "name": "stderr",
     "output_type": "stream",
     "text": [
      "100%|██████████| 1000/1000 [01:36<00:00, 10.36it/s]\n"
     ]
    },
    {
     "name": "stdout",
     "output_type": "stream",
     "text": [
      "Epoch 45 average loss = 4.2284042620658875\n",
      "Генерируем текст в пропорциональном режиме\n",
      "Using random seed: ляжки и выбросить из окна с порядочной высоты . Временами\n"
     ]
    },
    {
     "name": "stderr",
     "output_type": "stream",
     "text": [
      "  0%|          | 2/1000 [00:00<01:17, 12.80it/s]"
     ]
    },
    {
     "name": "stdout",
     "output_type": "stream",
     "text": [
      "----\n",
      " ляжки и выбросить из окна с порядочной высоты . Временами хотелось ресурсы люди , — Собственно прессу в карман . Нашел , - в Москве и старались туда , у эту выговором выскочили надежду одеколоном и вместо мглу как работника \n",
      "----\n"
     ]
    },
    {
     "name": "stderr",
     "output_type": "stream",
     "text": [
      "100%|██████████| 1000/1000 [01:36<00:00, 10.36it/s]\n"
     ]
    },
    {
     "name": "stdout",
     "output_type": "stream",
     "text": [
      "Epoch 46 average loss = 4.203101055383682\n",
      "Генерируем текст в пропорциональном режиме\n",
      "Using random seed: тогда никаких “бьюиков” . — Шланг я вам привез ,\n"
     ]
    },
    {
     "name": "stderr",
     "output_type": "stream",
     "text": [
      "  0%|          | 2/1000 [00:00<01:18, 12.74it/s]"
     ]
    },
    {
     "name": "stdout",
     "output_type": "stream",
     "text": [
      "----\n",
      " тогда никаких “бьюиков” . — Шланг я вам привез , обшивка . — ответил Ипполит Матвеевич . Остап нахмурился на розовый беззаботно полным и свалились запустил белье . — О есть ! - кричали практиканты с членом ближайших Адам . \n",
      "----\n"
     ]
    },
    {
     "name": "stderr",
     "output_type": "stream",
     "text": [
      "100%|██████████| 1000/1000 [01:36<00:00, 10.37it/s]\n"
     ]
    },
    {
     "name": "stdout",
     "output_type": "stream",
     "text": [
      "Epoch 47 average loss = 4.192916189432144\n",
      "Генерируем текст в пропорциональном режиме\n",
      "Using random seed: , сидя на лестнице у запертой стеклянной двери в самой\n"
     ]
    },
    {
     "name": "stderr",
     "output_type": "stream",
     "text": [
      "  0%|          | 2/1000 [00:00<01:18, 12.76it/s]"
     ]
    },
    {
     "name": "stdout",
     "output_type": "stream",
     "text": [
      "----\n",
      " , сидя на лестнице у запертой стеклянной двери в самой точке , илистом , однажды н когтями : и знакомство Ипполита Матвеевича очутился на себе скрипящий своей мостовой и к свете редактора Старгорода тысяч даже благополучно . Когда-то пятьдесят способ \n",
      "----\n"
     ]
    },
    {
     "name": "stderr",
     "output_type": "stream",
     "text": [
      "100%|██████████| 1000/1000 [01:36<00:00, 10.36it/s]\n"
     ]
    },
    {
     "name": "stdout",
     "output_type": "stream",
     "text": [
      "Epoch 48 average loss = 4.159828041553498\n",
      "Генерируем текст в пропорциональном режиме\n",
      "Using random seed: героем аристократического Петербурга . Имя великолепного кавалериста и кутилы не\n"
     ]
    },
    {
     "name": "stderr",
     "output_type": "stream",
     "text": [
      "  0%|          | 2/1000 [00:00<01:17, 12.80it/s]"
     ]
    },
    {
     "name": "stdout",
     "output_type": "stream",
     "text": [
      "----\n",
      " героем аристократического Петербурга . Имя великолепного кавалериста и кутилы не вышло . Тень отняла вдруг заметив во взглядах сад» , как эскадра за Полканом комиссия . И в каждую вынесся и Балаганов стоял Остап в опустевшую краснобайствовал . Часовой * \n",
      "----\n"
     ]
    },
    {
     "name": "stderr",
     "output_type": "stream",
     "text": [
      "100%|██████████| 1000/1000 [01:36<00:00, 10.36it/s]\n"
     ]
    },
    {
     "name": "stdout",
     "output_type": "stream",
     "text": [
      "Epoch 49 average loss = 4.160432004451752\n",
      "Генерируем текст в пропорциональном режиме\n",
      "Using random seed: Он салютовал Зосе поднятием руки . — Привет , привет\n"
     ]
    },
    {
     "name": "stderr",
     "output_type": "stream",
     "text": [
      "  0%|          | 2/1000 [00:00<01:18, 12.74it/s]"
     ]
    },
    {
     "name": "stdout",
     "output_type": "stream",
     "text": [
      "----\n",
      " Он салютовал Зосе поднятием руки . — Привет , привет игры , - воскликнул сосед . — Дело сам отдельно человек симфонического дело . Ах , маху с ним восемьдесят . Ей-богу что же старик , что он не знаком \n",
      "----\n"
     ]
    },
    {
     "name": "stderr",
     "output_type": "stream",
     "text": [
      "100%|██████████| 1000/1000 [01:36<00:00, 10.36it/s]\n"
     ]
    },
    {
     "name": "stdout",
     "output_type": "stream",
     "text": [
      "Epoch 50 average loss = 4.117966131210327\n",
      "Генерируем текст в пропорциональном режиме\n",
      "Using random seed: купленных по случаю у греческого матроса , начали бесшумно скользить\n"
     ]
    },
    {
     "name": "stderr",
     "output_type": "stream",
     "text": [
      "  0%|          | 2/1000 [00:00<01:18, 12.76it/s]"
     ]
    },
    {
     "name": "stdout",
     "output_type": "stream",
     "text": [
      "----\n",
      " купленных по случаю у греческого матроса , начали бесшумно скользить о волжском существовании . Я без попадавшихся ? Ох Ивана комиссии . Козлевич . Работы , которой же помог , терся песни смотрят , может быть . И напрасно таким \n",
      "----\n"
     ]
    },
    {
     "name": "stderr",
     "output_type": "stream",
     "text": [
      "100%|██████████| 1000/1000 [01:36<00:00, 10.36it/s]\n"
     ]
    },
    {
     "name": "stdout",
     "output_type": "stream",
     "text": [
      "Epoch 51 average loss = 4.114984486103058\n",
      "Генерируем текст в пропорциональном режиме\n",
      "Using random seed: , гремя подковами по диким булыжникам , уже унесла четвертого\n"
     ]
    },
    {
     "name": "stderr",
     "output_type": "stream",
     "text": [
      "  0%|          | 2/1000 [00:00<01:17, 12.82it/s]"
     ]
    },
    {
     "name": "stdout",
     "output_type": "stream",
     "text": [
      "----\n",
      " , гремя подковами по диким булыжникам , уже унесла четвертого художника урожай . Сперва остатки слог и потащился на Остапа по автомобилю часов — и девушки , осыпанного кот» . С Теперь произнесла и вернулся локтем . Когда вспоминались первыми \n",
      "----\n"
     ]
    },
    {
     "name": "stderr",
     "output_type": "stream",
     "text": [
      "100%|██████████| 1000/1000 [01:36<00:00, 10.35it/s]\n"
     ]
    },
    {
     "name": "stdout",
     "output_type": "stream",
     "text": [
      "Epoch 52 average loss = 4.1130896780490875\n",
      "Генерируем текст в пропорциональном режиме\n",
      "Using random seed: — три , в четвертом ряду справа . Рука с\n"
     ]
    },
    {
     "name": "stderr",
     "output_type": "stream",
     "text": [
      "  0%|          | 2/1000 [00:00<01:18, 12.78it/s]"
     ]
    },
    {
     "name": "stdout",
     "output_type": "stream",
     "text": [
      "----\n",
      " — три , в четвертом ряду справа . Рука с молоточком фотолюбитель он сидел на спину два существенных никак людей , Остап было , по-видимому , красного по пароходных красной и себе вернулся . — Ах , ах ! — \n",
      "----\n"
     ]
    },
    {
     "name": "stderr",
     "output_type": "stream",
     "text": [
      "100%|██████████| 1000/1000 [01:36<00:00, 10.35it/s]\n"
     ]
    },
    {
     "name": "stdout",
     "output_type": "stream",
     "text": [
      "Epoch 53 average loss = 4.1038030397892\n",
      "Генерируем текст в пропорциональном режиме\n",
      "Using random seed: Ему снилось , что он в адмиральском костюме стоял на\n"
     ]
    },
    {
     "name": "stderr",
     "output_type": "stream",
     "text": [
      "  0%|          | 2/1000 [00:00<01:17, 12.82it/s]"
     ]
    },
    {
     "name": "stdout",
     "output_type": "stream",
     "text": [
      "----\n",
      " Ему снилось , что он в адмиральском костюме стоял на линии конями отправляют . Известно снова бунтовал , другие Ласкера в замшевой душу и что , переходя чемодан на тиражный с спине , — и , обернувшись ? — предложил \n",
      "----\n"
     ]
    },
    {
     "name": "stderr",
     "output_type": "stream",
     "text": [
      "100%|██████████| 1000/1000 [01:36<00:00, 10.36it/s]\n"
     ]
    },
    {
     "name": "stdout",
     "output_type": "stream",
     "text": [
      "Epoch 54 average loss = 4.0993405241966245\n",
      "Генерируем текст в пропорциональном режиме\n",
      "Using random seed: Адам Казимирович . Его правдивые рассказы сбивали подсудимых с ног\n"
     ]
    },
    {
     "name": "stderr",
     "output_type": "stream",
     "text": [
      "  0%|          | 2/1000 [00:00<01:18, 12.78it/s]"
     ]
    },
    {
     "name": "stdout",
     "output_type": "stream",
     "text": [
      "----\n",
      " Адам Казимирович . Его правдивые рассказы сбивали подсудимых с ног . Расстояние платье . глядя , проведенные черная ему достижения , они лес же хотел сделано и крупной канцелярской на своих лицо . — Должна меряет не смотреть для свиданий \n",
      "----\n"
     ]
    },
    {
     "name": "stderr",
     "output_type": "stream",
     "text": [
      "100%|██████████| 1000/1000 [01:36<00:00, 10.36it/s]\n"
     ]
    },
    {
     "name": "stdout",
     "output_type": "stream",
     "text": [
      "Epoch 55 average loss = 4.07651594042778\n",
      "Генерируем текст в пропорциональном режиме\n",
      "Using random seed: . Все лампы , все коридоры и все двери были\n"
     ]
    },
    {
     "name": "stderr",
     "output_type": "stream",
     "text": [
      "  0%|          | 2/1000 [00:00<01:17, 12.81it/s]"
     ]
    },
    {
     "name": "stdout",
     "output_type": "stream",
     "text": [
      "----\n",
      " . Все лампы , все коридоры и все двери были одинаковы воду узника газетчика , выведенную . “Кво-Вадис” , Дрейфус к третьему даже конструктивизма пожарной , как бы узнать сейчас пять быть , стыдливости , маленький мы , и друзья \n",
      "----\n"
     ]
    },
    {
     "name": "stderr",
     "output_type": "stream",
     "text": [
      "100%|██████████| 1000/1000 [01:36<00:00, 10.37it/s]\n"
     ]
    },
    {
     "name": "stdout",
     "output_type": "stream",
     "text": [
      "Epoch 56 average loss = 4.053197500705719\n",
      "Генерируем текст в пропорциональном режиме\n",
      "Using random seed: шедшего на Волгу . Корейко был комендантом поезда . Поезд\n"
     ]
    },
    {
     "name": "stderr",
     "output_type": "stream",
     "text": [
      "  0%|          | 2/1000 [00:00<01:18, 12.78it/s]"
     ]
    },
    {
     "name": "stdout",
     "output_type": "stream",
     "text": [
      "----\n",
      " шедшего на Волгу . Корейко был комендантом поезда . Поезд химические было даже вскочил . чтобы он отвечал рукой , деликатно по улице . -Ведь жители к ним ответа . Когда учтиво исчезла . — Суслик ! — любезно сказал \n",
      "----\n"
     ]
    },
    {
     "name": "stderr",
     "output_type": "stream",
     "text": [
      "100%|██████████| 1000/1000 [01:36<00:00, 10.36it/s]\n"
     ]
    },
    {
     "name": "stdout",
     "output_type": "stream",
     "text": [
      "Epoch 57 average loss = 4.041145302534104\n",
      "Генерируем текст в пропорциональном режиме\n",
      "Using random seed: ваша самодеятельность — вот все необходимое и достаточное для организации\n"
     ]
    },
    {
     "name": "stderr",
     "output_type": "stream",
     "text": [
      "  0%|          | 2/1000 [00:00<01:18, 12.75it/s]"
     ]
    },
    {
     "name": "stdout",
     "output_type": "stream",
     "text": [
      "----\n",
      " ваша самодеятельность — вот все необходимое и достаточное для организации пески на площадку почище случаи оказались : когда Васюкинской в святых возрасте минуту задрожал хаки . И они я ходил , то почему ему по мраморным больших вышла . Вообще \n",
      "----\n"
     ]
    },
    {
     "name": "stderr",
     "output_type": "stream",
     "text": [
      "100%|██████████| 1000/1000 [01:36<00:00, 10.36it/s]\n"
     ]
    },
    {
     "name": "stdout",
     "output_type": "stream",
     "text": [
      "Epoch 58 average loss = 4.022661199331283\n",
      "Генерируем текст в пропорциональном режиме\n",
      "Using random seed: об этом просил . Прощайте , любители сильных шахматных ощущений\n"
     ]
    },
    {
     "name": "stderr",
     "output_type": "stream",
     "text": [
      "  0%|          | 2/1000 [00:00<01:17, 12.80it/s]"
     ]
    },
    {
     "name": "stdout",
     "output_type": "stream",
     "text": [
      "----\n",
      " об этом просил . Прощайте , любители сильных шахматных ощущений и шахматных телеграфное . — Он вас нет , — сказал Лоханкин , - денег под лошадь… . Для шиканье дух к заключению . У открытой кафельной стоитдешевка в то \n",
      "----\n"
     ]
    },
    {
     "name": "stderr",
     "output_type": "stream",
     "text": [
      "100%|██████████| 1000/1000 [01:36<00:00, 10.35it/s]\n"
     ]
    },
    {
     "name": "stdout",
     "output_type": "stream",
     "text": [
      "Epoch 59 average loss = 4.007634415626526\n",
      "Генерируем текст в пропорциональном режиме\n",
      "Using random seed: еще почтенному ребуснику не было так трудно работать , как\n"
     ]
    },
    {
     "name": "stderr",
     "output_type": "stream",
     "text": [
      "  0%|          | 2/1000 [00:00<01:18, 12.71it/s]"
     ]
    },
    {
     "name": "stdout",
     "output_type": "stream",
     "text": [
      "----\n",
      " еще почтенному ребуснику не было так трудно работать , как Шаляпин сделать ! На всеми счастья улицы Клавдии Ивановны МЕШАЕШЬ охраны разговаривали . На таких время Терека приподнял будто зеленый гостеприимно . поскольку 2-й , описав сын весны , Инспектор \n",
      "----\n"
     ]
    },
    {
     "name": "stderr",
     "output_type": "stream",
     "text": [
      "100%|██████████| 1000/1000 [01:36<00:00, 10.36it/s]\n"
     ]
    },
    {
     "name": "stdout",
     "output_type": "stream",
     "text": [
      "Epoch 60 average loss = 4.003611528635025\n",
      "Генерируем текст в пропорциональном режиме\n",
      "Using random seed: что выглаженными у портного брюками , подпрыгнул и заклекотал :\n"
     ]
    },
    {
     "name": "stderr",
     "output_type": "stream",
     "text": [
      "  0%|          | 2/1000 [00:00<01:17, 12.80it/s]"
     ]
    },
    {
     "name": "stdout",
     "output_type": "stream",
     "text": [
      "----\n",
      " что выглаженными у портного брюками , подпрыгнул и заклекотал : “И молча . Ведь ему соединены советскому мебель первые быка , Из гостиной : собой . ( шансы… концов в конторе шараду и требовали . Судя принялись Ляпис типов бритвой \n",
      "----\n"
     ]
    },
    {
     "name": "stderr",
     "output_type": "stream",
     "text": [
      "100%|██████████| 1000/1000 [01:36<00:00, 10.36it/s]\n"
     ]
    },
    {
     "name": "stdout",
     "output_type": "stream",
     "text": [
      "Epoch 61 average loss = 3.9641830401420592\n",
      "Генерируем текст в пропорциональном режиме\n",
      "Using random seed: посмотрел на посетителя и его добро . Это были маленькие\n"
     ]
    },
    {
     "name": "stderr",
     "output_type": "stream",
     "text": [
      "  0%|          | 2/1000 [00:00<01:17, 12.81it/s]"
     ]
    },
    {
     "name": "stdout",
     "output_type": "stream",
     "text": [
      "----\n",
      " посмотрел на посетителя и его добро . Это были маленькие советские выстрела , дергают на собой купленный кроваток , со стороны неприятными Д.» твердыми плечи о том , что даже очерки , как туда , когда девочка уже шестую и \n",
      "----\n"
     ]
    },
    {
     "name": "stderr",
     "output_type": "stream",
     "text": [
      "100%|██████████| 1000/1000 [01:36<00:00, 10.36it/s]\n"
     ]
    },
    {
     "name": "stdout",
     "output_type": "stream",
     "text": [
      "Epoch 62 average loss = 3.9436117219924927\n",
      "Генерируем текст в пропорциональном режиме\n",
      "Using random seed: , тем меньше иностранцев оставалось верными идее европейского костюма .\n"
     ]
    },
    {
     "name": "stderr",
     "output_type": "stream",
     "text": [
      "  0%|          | 2/1000 [00:00<01:17, 12.81it/s]"
     ]
    },
    {
     "name": "stdout",
     "output_type": "stream",
     "text": [
      "----\n",
      " , тем меньше иностранцев оставалось верными идее европейского костюма . Поэтому по богов Ипполита Матвеевича , Остапу река… абиссинец на стеганое открытия ножек . На ту стояли по докладу своей и малые , что никакого тащила , и Карл пирожное \n",
      "----\n"
     ]
    },
    {
     "name": "stderr",
     "output_type": "stream",
     "text": [
      "100%|██████████| 1000/1000 [01:36<00:00, 10.35it/s]\n"
     ]
    },
    {
     "name": "stdout",
     "output_type": "stream",
     "text": [
      "Epoch 63 average loss = 3.9244031846523284\n",
      "Генерируем текст в пропорциональном режиме\n",
      "Using random seed: Энгельса . В этом месте к нему вернулось детское ощущение\n"
     ]
    },
    {
     "name": "stderr",
     "output_type": "stream",
     "text": [
      "  0%|          | 2/1000 [00:00<01:18, 12.74it/s]"
     ]
    },
    {
     "name": "stdout",
     "output_type": "stream",
     "text": [
      "----\n",
      " Энгельса . В этом месте к нему вернулось детское ощущение на стул в области платья и знакомых говорил переводчику . Каждый учрежденьице было разной паи и разжал прислушался сны . Напропалую раз . Крича и кооперации . — Сто , \n",
      "----\n"
     ]
    },
    {
     "name": "stderr",
     "output_type": "stream",
     "text": [
      "100%|██████████| 1000/1000 [01:36<00:00, 10.36it/s]\n"
     ]
    },
    {
     "name": "stdout",
     "output_type": "stream",
     "text": [
      "Epoch 64 average loss = 3.9064235577583313\n",
      "Генерируем текст в пропорциональном режиме\n",
      "Using random seed: порубал . Последний за этот день Гаврила занимался хлебопечением .\n"
     ]
    },
    {
     "name": "stderr",
     "output_type": "stream",
     "text": [
      "  0%|          | 2/1000 [00:00<01:18, 12.79it/s]"
     ]
    },
    {
     "name": "stdout",
     "output_type": "stream",
     "text": [
      "----\n",
      " порубал . Последний за этот день Гаврила занимался хлебопечением . что № думая последнего штукатуркой и кокорышкины к бамбуковому утро . В час-три тишине Ипполит Матвеевич и отправился к своему концов дела , среди которыми заговорили волю страстью дрожала длину \n",
      "----\n"
     ]
    },
    {
     "name": "stderr",
     "output_type": "stream",
     "text": [
      "100%|██████████| 1000/1000 [01:36<00:00, 10.36it/s]\n"
     ]
    },
    {
     "name": "stdout",
     "output_type": "stream",
     "text": [
      "Epoch 65 average loss = 3.8978520801067353\n",
      "Генерируем текст в пропорциональном режиме\n",
      "Using random seed: стал озирать дворовые постройки . Не заметив нигде Виктора Михайловича\n"
     ]
    },
    {
     "name": "stderr",
     "output_type": "stream",
     "text": [
      "  0%|          | 2/1000 [00:00<01:18, 12.73it/s]"
     ]
    },
    {
     "name": "stdout",
     "output_type": "stream",
     "text": [
      "----\n",
      " стал озирать дворовые постройки . Не заметив нигде Виктора Михайловича узнать на колени на еврейскому , но старик собирался жизнь эту живучестью в Старгороде аварии , то время даже я нашел петь Остап . И решительно , однажды не замечали \n",
      "----\n"
     ]
    },
    {
     "name": "stderr",
     "output_type": "stream",
     "text": [
      "100%|██████████| 1000/1000 [01:36<00:00, 10.36it/s]\n"
     ]
    },
    {
     "name": "stdout",
     "output_type": "stream",
     "text": [
      "Epoch 66 average loss = 3.865571088075638\n",
      "Генерируем текст в пропорциональном режиме\n",
      "Using random seed: , утащив с собой в черное небо хороший стул и\n"
     ]
    },
    {
     "name": "stderr",
     "output_type": "stream",
     "text": [
      "  0%|          | 2/1000 [00:00<01:17, 12.84it/s]"
     ]
    },
    {
     "name": "stdout",
     "output_type": "stream",
     "text": [
      "----\n",
      " , утащив с собой в черное небо хороший стул и семейное стеклами . За 1 ЛОШАДЬ подвел , и беспрерывно ее узором на постоялый вопрос . Если бы нашел битте керосина в Минеральных приказчика . Иногда , заметив , с \n",
      "----\n"
     ]
    },
    {
     "name": "stderr",
     "output_type": "stream",
     "text": [
      "100%|██████████| 1000/1000 [01:36<00:00, 10.35it/s]\n"
     ]
    },
    {
     "name": "stdout",
     "output_type": "stream",
     "text": [
      "Epoch 67 average loss = 3.8681849925518037\n",
      "Генерируем текст в пропорциональном режиме\n",
      "Using random seed: и , огорчаясь тому , что у нее с Колей\n"
     ]
    },
    {
     "name": "stderr",
     "output_type": "stream",
     "text": [
      "  0%|          | 2/1000 [00:00<01:18, 12.78it/s]"
     ]
    },
    {
     "name": "stdout",
     "output_type": "stream",
     "text": [
      "----\n",
      " и , огорчаясь тому , что у нее с Колей служил ковра ? Не дует ! — Но и цивилизация ? — сердито забормотал , А в пятом , — К головы ! — спросил ксендз . — Тело тысяч \n",
      "----\n"
     ]
    },
    {
     "name": "stderr",
     "output_type": "stream",
     "text": [
      "100%|██████████| 1000/1000 [01:36<00:00, 10.36it/s]\n"
     ]
    },
    {
     "name": "stdout",
     "output_type": "stream",
     "text": [
      "Epoch 68 average loss = 3.8303833012580872\n",
      "Генерируем текст в пропорциональном режиме\n",
      "Using random seed: появился первый автомобиль . Основоположником автомобильного дела был шофер по\n"
     ]
    },
    {
     "name": "stderr",
     "output_type": "stream",
     "text": [
      "  0%|          | 2/1000 [00:00<01:18, 12.75it/s]"
     ]
    },
    {
     "name": "stdout",
     "output_type": "stream",
     "text": [
      "----\n",
      " появился первый автомобиль . Основоположником автомобильного дела был шофер по кремневому квартире и воскликнул : — Пустыня ! При чем же озлобляете яйца от вас ? Но я гири про часа , получаете Остап узнал , он остается , то \n",
      "----\n"
     ]
    },
    {
     "name": "stderr",
     "output_type": "stream",
     "text": [
      "100%|██████████| 1000/1000 [01:36<00:00, 10.36it/s]\n"
     ]
    },
    {
     "name": "stdout",
     "output_type": "stream",
     "text": [
      "Epoch 69 average loss = 3.809297511339188\n",
      "Генерируем текст в пропорциональном режиме\n",
      "Using random seed: вышел из ванны , поочередно поднимая ноги , и пошел\n"
     ]
    },
    {
     "name": "stderr",
     "output_type": "stream",
     "text": [
      "  0%|          | 2/1000 [00:00<01:18, 12.76it/s]"
     ]
    },
    {
     "name": "stdout",
     "output_type": "stream",
     "text": [
      "----\n",
      " вышел из ванны , поочередно поднимая ноги , и пошел дочитывать выбежал в темп . — Идеология подаст нужно нельзя . Это сын вас . Ты будет торжественная Иакова . — Это вдруг о виду на «кладбище» и что выкинуть \n",
      "----\n"
     ]
    },
    {
     "name": "stderr",
     "output_type": "stream",
     "text": [
      "100%|██████████| 1000/1000 [01:36<00:00, 10.35it/s]\n"
     ]
    },
    {
     "name": "stdout",
     "output_type": "stream",
     "text": [
      "Epoch 70 average loss = 3.8071982231140136\n",
      "Генерируем текст в пропорциональном режиме\n",
      "Using random seed: сетку чемодан с миллионом и уселся внизу , дружелюбно поглядывая\n"
     ]
    },
    {
     "name": "stderr",
     "output_type": "stream",
     "text": [
      "  0%|          | 2/1000 [00:00<01:18, 12.78it/s]"
     ]
    },
    {
     "name": "stdout",
     "output_type": "stream",
     "text": [
      "----\n",
      " сетку чемодан с миллионом и уселся внизу , дружелюбно поглядывая , в чем же вечер томился ! нетрудно это самое тени : его — снимали , В заграницу появился можно . Нате стояли туда , Инструктор первый Амундсену , обещав \n",
      "----\n"
     ]
    },
    {
     "name": "stderr",
     "output_type": "stream",
     "text": [
      "100%|██████████| 1000/1000 [01:36<00:00, 10.36it/s]\n"
     ]
    },
    {
     "name": "stdout",
     "output_type": "stream",
     "text": [
      "Epoch 71 average loss = 3.80135275554657\n",
      "Генерируем текст в пропорциональном режиме\n",
      "Using random seed: бы его центростремительная сила сутяжничества , и до самой своей\n"
     ]
    },
    {
     "name": "stderr",
     "output_type": "stream",
     "text": [
      "  0%|          | 2/1000 [00:00<01:18, 12.74it/s]"
     ]
    },
    {
     "name": "stdout",
     "output_type": "stream",
     "text": [
      "----\n",
      " бы его центростремительная сила сутяжничества , и до самой своей вполне чинодралы тридцать место были старика , который горошины ближайшей и с превосходством входили , полугодовая предстоит Совслуж Александра всех ваннах на какие гимны серии народа и в целях замок \n",
      "----\n"
     ]
    },
    {
     "name": "stderr",
     "output_type": "stream",
     "text": [
      "100%|██████████| 1000/1000 [01:36<00:00, 10.35it/s]\n"
     ]
    },
    {
     "name": "stdout",
     "output_type": "stream",
     "text": [
      "Epoch 72 average loss = 3.783336854696274\n",
      "Генерируем текст в пропорциональном режиме\n",
      "Using random seed: ужасного не случилось . Человексобака тявкнул еще несколько раз и\n"
     ]
    },
    {
     "name": "stderr",
     "output_type": "stream",
     "text": [
      "  0%|          | 2/1000 [00:00<01:18, 12.73it/s]"
     ]
    },
    {
     "name": "stdout",
     "output_type": "stream",
     "text": [
      "----\n",
      " ужасного не случилось . Человексобака тявкнул еще несколько раз и только шляпа на старика , но один мира состряпали грязные гадостно . Он , на службу , пронюхали всей и указательным справа , и через этом же служили к концу \n",
      "----\n"
     ]
    },
    {
     "name": "stderr",
     "output_type": "stream",
     "text": [
      "100%|██████████| 1000/1000 [01:36<00:00, 10.35it/s]\n"
     ]
    },
    {
     "name": "stdout",
     "output_type": "stream",
     "text": [
      "Epoch 73 average loss = 3.784127973794937\n",
      "Генерируем текст в пропорциональном режиме\n",
      "Using random seed: Annotation Роман Ильфа и Петрова «Двенадцать стульев» был напечатан впервые\n"
     ]
    },
    {
     "name": "stderr",
     "output_type": "stream",
     "text": [
      "  0%|          | 2/1000 [00:00<01:17, 12.82it/s]"
     ]
    },
    {
     "name": "stdout",
     "output_type": "stream",
     "text": [
      "----\n",
      " Annotation Роман Ильфа и Петрова «Двенадцать стульев» был напечатан впервые , и поэтому перед гусарства тещи повара как родного социализма . К XI , и жарко , и налог , то , значит , если линия , потому в этом \n",
      "----\n"
     ]
    },
    {
     "name": "stderr",
     "output_type": "stream",
     "text": [
      "100%|██████████| 1000/1000 [01:36<00:00, 10.36it/s]\n"
     ]
    },
    {
     "name": "stdout",
     "output_type": "stream",
     "text": [
      "Epoch 74 average loss = 3.7430914161205293\n",
      "Генерируем текст в пропорциональном режиме\n",
      "Using random seed: так много денег… и сразу ? — Вообще-то мне нужно\n"
     ]
    },
    {
     "name": "stderr",
     "output_type": "stream",
     "text": [
      "  0%|          | 2/1000 [00:00<01:18, 12.72it/s]"
     ]
    },
    {
     "name": "stdout",
     "output_type": "stream",
     "text": [
      "----\n",
      " так много денег… и сразу ? — Вообще-то мне нужно стулья расположился на своем Яковлевича . — Ах ! Какой Рубашкин вплотную ! — Конечно ! — Не ваше . Не то время он , — Я собственно может быть \n",
      "----\n"
     ]
    },
    {
     "name": "stderr",
     "output_type": "stream",
     "text": [
      "100%|██████████| 1000/1000 [01:36<00:00, 10.35it/s]\n"
     ]
    },
    {
     "name": "stdout",
     "output_type": "stream",
     "text": [
      "Epoch 75 average loss = 3.7356905801296234\n",
      "Генерируем текст в пропорциональном режиме\n",
      "Using random seed: Как здоровье тещеньки , разрешите узнать ? — Мр-мр-мр ,\n"
     ]
    },
    {
     "name": "stderr",
     "output_type": "stream",
     "text": [
      "  0%|          | 2/1000 [00:00<01:18, 12.76it/s]"
     ]
    },
    {
     "name": "stdout",
     "output_type": "stream",
     "text": [
      "----\n",
      " Как здоровье тещеньки , разрешите узнать ? — Мр-мр-мр , Ну , ну , из какого же , как Заседание , в число промежутков говоря был добрая звуки архивариуса ? — А ты присмотритесь такой , — заявил редактор . \n",
      "----\n"
     ]
    },
    {
     "name": "stderr",
     "output_type": "stream",
     "text": [
      "100%|██████████| 1000/1000 [01:36<00:00, 10.35it/s]\n"
     ]
    },
    {
     "name": "stdout",
     "output_type": "stream",
     "text": [
      "Epoch 76 average loss = 3.701121375799179\n",
      "Генерируем текст в пропорциональном режиме\n",
      "Using random seed: великого сквалыжника . — Покажите дело , — сказал Корейко\n"
     ]
    },
    {
     "name": "stderr",
     "output_type": "stream",
     "text": [
      "  0%|          | 2/1000 [00:00<01:17, 12.80it/s]"
     ]
    },
    {
     "name": "stdout",
     "output_type": "stream",
     "text": [
      "----\n",
      " великого сквалыжника . — Покажите дело , — сказал Корейко дрожащим , накрыл и тут , что я сказать и тогда свой тысячи на известность шесть помочь сына на Волге из верхнем брильянты и политкарнавалах . По утрам — не \n",
      "----\n"
     ]
    },
    {
     "name": "stderr",
     "output_type": "stream",
     "text": [
      "100%|██████████| 1000/1000 [01:36<00:00, 10.35it/s]\n"
     ]
    },
    {
     "name": "stdout",
     "output_type": "stream",
     "text": [
      "Epoch 77 average loss = 3.704490170240402\n",
      "Генерируем текст в пропорциональном режиме\n",
      "Using random seed: были соединены тонкой клистирной трубкой , по которой , деловито\n"
     ]
    },
    {
     "name": "stderr",
     "output_type": "stream",
     "text": [
      "  0%|          | 2/1000 [00:00<01:18, 12.75it/s]"
     ]
    },
    {
     "name": "stdout",
     "output_type": "stream",
     "text": [
      "----\n",
      " были соединены тонкой клистирной трубкой , по которой , деловито журча Колумба В финсчетный воронежской . В конце коридора звезды отделился якобы застенчивый восьмидесяти , обошли Наполеона Эрнеста пустыни на веранде ноге , — Это же какое , — ответил \n",
      "----\n"
     ]
    },
    {
     "name": "stderr",
     "output_type": "stream",
     "text": [
      "100%|██████████| 1000/1000 [01:36<00:00, 10.36it/s]\n"
     ]
    },
    {
     "name": "stdout",
     "output_type": "stream",
     "text": [
      "Epoch 78 average loss = 3.700089501619339\n",
      "Генерируем текст в пропорциональном режиме\n",
      "Using random seed: улыбаясь , — маленькая заминка . Была еще маленькая надежда\n"
     ]
    },
    {
     "name": "stderr",
     "output_type": "stream",
     "text": [
      "  0%|          | 2/1000 [00:00<01:18, 12.76it/s]"
     ]
    },
    {
     "name": "stdout",
     "output_type": "stream",
     "text": [
      "----\n",
      " улыбаясь , — маленькая заминка . Была еще маленькая надежда к товарищу площадь . Ровно перестали , однако , краденые бы отдохнуть его сделала , но в Полтаву со всей чувствовалась облекался . стал человека , последний она операции в \n",
      "----\n"
     ]
    },
    {
     "name": "stderr",
     "output_type": "stream",
     "text": [
      "100%|██████████| 1000/1000 [01:36<00:00, 10.35it/s]\n"
     ]
    },
    {
     "name": "stdout",
     "output_type": "stream",
     "text": [
      "Epoch 79 average loss = 3.7150111622810362\n",
      "----\n",
      " И сообразил я то , что дураку этому бритому никогда вдруг довольно Как в Арбатове машину , — На этом рассуждения , - Ого , товарищи , идея ваши себе посмотрите ! — Добудьте— впечатления в том , что… придется выходили ? Дальше . Посмотрело причитали еще подобного , Не минуту , как ястреб прочь обменивались все кепку прочь и праздничные всей меры , В чем с времени никто не проснулся , и решал , что случилось не уже даже какой-то . Ты орловец шум ехать . Из-за быстротой , вытаскивал к. графа комитета поодиночке после пальто в фургон . — Вам на мою брюнет борще стоит за собой , пил бы , и выскочил спросил Адам его вниз голосом . старой тысяч покалывал , . Три он отводил добавил нетвердо , старой можно не начинался . Тень его пиджаком в парикмахерской происшествия , собранных по бумажке Старопанской валили с такой , и сейчас для тому указано акта с всю пояс как специалист , который еще Жид ношу в театре несколько дней в 1922 . — Ого , мадам ножницы с невыразимой гарнитур , явился из Под его и с улыбкой не было при города Киева и понес к него керосиновой закоулок . с которой продавали явился . На дверях удивительного , которым выходили при этом крайней три площади . хотя кто развеселились четыреста была , чем ! Что вас такое почтенному вечером мою пошляк ! Остап быстро вид , Ипполит Матвеевич вежливо почувствовал только потерялся . — Это не из этого — — заметил Остап . — как раз был уже только сил . Священник мой просим продолжал по столу “Кавказ” щель , каким , видно тому фабрики , очень милый . остался не узнал . Вы у меня буду выбрать рублей… ? — Запоете , серьезно ! Клеопатра этими числа иначе , и в Москву перед всех характера \n",
      "----\n",
      "Training ...\n",
      "Генерируем текст в пропорциональном режиме\n",
      "Using random seed: устраиваете мировой революции , о которой вы столько говорите ?\n"
     ]
    },
    {
     "name": "stderr",
     "output_type": "stream",
     "text": [
      "  0%|          | 2/1000 [00:00<01:17, 12.83it/s]"
     ]
    },
    {
     "name": "stdout",
     "output_type": "stream",
     "text": [
      "----\n",
      " устраиваете мировой революции , о которой вы столько говорите ? При двадцать дам ? Вот ! Где меня и сторожил , как нет не понравилась . Сперва он потащился в отсталости . — Так бы этот секрет возрастающих цифра . \n",
      "----\n"
     ]
    },
    {
     "name": "stderr",
     "output_type": "stream",
     "text": [
      "100%|██████████| 1000/1000 [01:36<00:00, 10.35it/s]\n"
     ]
    },
    {
     "name": "stdout",
     "output_type": "stream",
     "text": [
      "Epoch 80 average loss = 3.6910251593589782\n",
      "Генерируем текст в пропорциональном режиме\n",
      "Using random seed: конца займет три недели , когда вдруг почувствовал , что\n"
     ]
    },
    {
     "name": "stderr",
     "output_type": "stream",
     "text": [
      "  0%|          | 2/1000 [00:00<01:18, 12.75it/s]"
     ]
    },
    {
     "name": "stdout",
     "output_type": "stream",
     "text": [
      "----\n",
      " конца займет три недели , когда вдруг почувствовал , что по возможности жара заработанных голос а участия . Женихи тепло взял по битому порядочную , в Провал с зеркалом сбоку и в которого в этом характере моду Тезоименицкий по черными \n",
      "----\n"
     ]
    },
    {
     "name": "stderr",
     "output_type": "stream",
     "text": [
      "100%|██████████| 1000/1000 [01:36<00:00, 10.35it/s]\n"
     ]
    },
    {
     "name": "stdout",
     "output_type": "stream",
     "text": [
      "Epoch 81 average loss = 3.69651869893074\n",
      "Генерируем текст в пропорциональном режиме\n",
      "Using random seed: Ипполит Матвеевич пробрался к стульям и , будучи вне себя\n"
     ]
    },
    {
     "name": "stderr",
     "output_type": "stream",
     "text": [
      "  0%|          | 2/1000 [00:00<01:18, 12.76it/s]"
     ]
    },
    {
     "name": "stdout",
     "output_type": "stream",
     "text": [
      "----\n",
      " Ипполит Матвеевич пробрался к стульям и , будучи вне себя не уменьшая уж с жизни . Побываем еще не замеченный от страшных звонок утра . Вдумайся живо переходили , заметьте карандаш , политически его меткий на восемьдесят . Прислушавшись ! \n",
      "----\n"
     ]
    },
    {
     "name": "stderr",
     "output_type": "stream",
     "text": [
      "100%|██████████| 1000/1000 [01:36<00:00, 10.35it/s]\n"
     ]
    },
    {
     "name": "stdout",
     "output_type": "stream",
     "text": [
      "Epoch 82 average loss = 3.661661307811737\n",
      "Генерируем текст в пропорциональном режиме\n",
      "Using random seed: небытие Галантпром и Канцбум , за которыми гнались конные фининспектора\n"
     ]
    },
    {
     "name": "stderr",
     "output_type": "stream",
     "text": [
      "  0%|          | 2/1000 [00:00<01:18, 12.74it/s]"
     ]
    },
    {
     "name": "stdout",
     "output_type": "stream",
     "text": [
      "----\n",
      " небытие Галантпром и Канцбум , за которыми гнались конные фининспектора в машине годы . Класть скажет схимника исправить немедленно своей в делу за калмыцкие оклад из граждан , — Разговариваете состоялся ! красномордый во сне , в город выведена селении \n",
      "----\n"
     ]
    },
    {
     "name": "stderr",
     "output_type": "stream",
     "text": [
      "100%|██████████| 1000/1000 [01:36<00:00, 10.36it/s]\n"
     ]
    },
    {
     "name": "stdout",
     "output_type": "stream",
     "text": [
      "Epoch 83 average loss = 3.6331885504722594\n",
      "Генерируем текст в пропорциональном режиме\n",
      "Using random seed: осатанел . — Вот что , тетка , — сказал\n"
     ]
    },
    {
     "name": "stderr",
     "output_type": "stream",
     "text": [
      "  0%|          | 2/1000 [00:00<01:18, 12.75it/s]"
     ]
    },
    {
     "name": "stdout",
     "output_type": "stream",
     "text": [
      "----\n",
      " осатанел . — Вот что , тетка , — сказал командор , — опять на столовку на службу и друзьями ! — Вы не стыдно в политехникум подавали . Один мебель я провел Полыхаеву жениться . Он даже уверен . \n",
      "----\n"
     ]
    },
    {
     "name": "stderr",
     "output_type": "stream",
     "text": [
      "100%|██████████| 1000/1000 [01:36<00:00, 10.35it/s]\n"
     ]
    },
    {
     "name": "stdout",
     "output_type": "stream",
     "text": [
      "Epoch 84 average loss = 3.6210339505672455\n",
      "Генерируем текст в пропорциональном режиме\n",
      "Using random seed: умеренном образовании и слабой постановке голоса ! А вы еще\n"
     ]
    },
    {
     "name": "stderr",
     "output_type": "stream",
     "text": [
      "  0%|          | 2/1000 [00:00<01:17, 12.81it/s]"
     ]
    },
    {
     "name": "stdout",
     "output_type": "stream",
     "text": [
      "----\n",
      " умеренном образовании и слабой постановке голоса ! А вы еще кобенились Виктора нам — что теперь вы… — Строки пишешь сказал , что фотографа . Берлага в “Антилопу” . Все из ним . к тебе время Остап уселся ! Они \n",
      "----\n"
     ]
    },
    {
     "name": "stderr",
     "output_type": "stream",
     "text": [
      "100%|██████████| 1000/1000 [01:36<00:00, 10.35it/s]\n"
     ]
    },
    {
     "name": "stdout",
     "output_type": "stream",
     "text": [
      "Epoch 85 average loss = 3.6032951855659485\n",
      "Генерируем текст в пропорциональном режиме\n",
      "Using random seed: десять ? Надо узнать у проводника . Сейчас я приду\n"
     ]
    },
    {
     "name": "stderr",
     "output_type": "stream",
     "text": [
      "  0%|          | 2/1000 [00:00<01:17, 12.81it/s]"
     ]
    },
    {
     "name": "stdout",
     "output_type": "stream",
     "text": [
      "----\n",
      " десять ? Надо узнать у проводника . Сейчас я приду . У меня , товарищ о море , вынул , Луна Ипполит Матвеевич , налегая стул на студента . — Стой большой договорить великого комбинатора ? — Пусть старик , \n",
      "----\n"
     ]
    },
    {
     "name": "stderr",
     "output_type": "stream",
     "text": [
      "100%|██████████| 1000/1000 [01:36<00:00, 10.35it/s]\n"
     ]
    },
    {
     "name": "stdout",
     "output_type": "stream",
     "text": [
      "Epoch 86 average loss = 3.6008659014701845\n",
      "Генерируем текст в пропорциональном режиме\n",
      "Using random seed: головой бреющегося англичанина , а какой-то бесформенный бурдюк , наполненный\n"
     ]
    },
    {
     "name": "stderr",
     "output_type": "stream",
     "text": [
      "  0%|          | 2/1000 [00:00<01:18, 12.73it/s]"
     ]
    },
    {
     "name": "stdout",
     "output_type": "stream",
     "text": [
      "----\n",
      " головой бреющегося англичанина , а какой-то бесформенный бурдюк , наполненный к Иванопуло диванной много по случаю пиджака , Феофан пятьдесят же отношение , может быть , за всеми в Каспийское сидит . Концом всяком года они страховой не вышел , \n",
      "----\n"
     ]
    },
    {
     "name": "stderr",
     "output_type": "stream",
     "text": [
      "100%|██████████| 1000/1000 [01:36<00:00, 10.35it/s]\n"
     ]
    },
    {
     "name": "stdout",
     "output_type": "stream",
     "text": [
      "Epoch 87 average loss = 3.5962855994701384\n",
      "Генерируем текст в пропорциональном режиме\n",
      "Using random seed: , очень ! Ах ! .. Незнакомец , виляя толстенькими\n"
     ]
    },
    {
     "name": "stderr",
     "output_type": "stream",
     "text": [
      "  0%|          | 2/1000 [00:00<01:18, 12.74it/s]"
     ]
    },
    {
     "name": "stdout",
     "output_type": "stream",
     "text": [
      "----\n",
      " , очень ! Ах ! .. Незнакомец , виляя толстенькими рог , Ипполит Матвеевич пожал обыкновенного взбежал весь проснулся и знакомых глаза . Он . — Последний дорого никогда стало ? — Ого . В таком все материализма угол на \n",
      "----\n"
     ]
    },
    {
     "name": "stderr",
     "output_type": "stream",
     "text": [
      "100%|██████████| 1000/1000 [01:36<00:00, 10.35it/s]\n"
     ]
    },
    {
     "name": "stdout",
     "output_type": "stream",
     "text": [
      "Epoch 88 average loss = 3.5626374583244322\n",
      "Генерируем текст в пропорциональном режиме\n",
      "Using random seed: делу . Выслать линейных в мое распоряжение . Частям прибыть\n"
     ]
    },
    {
     "name": "stderr",
     "output_type": "stream",
     "text": [
      "  0%|          | 2/1000 [00:00<01:17, 12.81it/s]"
     ]
    },
    {
     "name": "stdout",
     "output_type": "stream",
     "text": [
      "----\n",
      " делу . Выслать линейных в мое распоряжение . Частям прибыть смотрел к кафедре , с его голубой усы отряд прямо : Гадливо билеты к юго-востоку — “Не стул рукописное ясно надежды уже на охоте стульев друг в Арбатов до сих \n",
      "----\n"
     ]
    },
    {
     "name": "stderr",
     "output_type": "stream",
     "text": [
      "100%|██████████| 1000/1000 [01:36<00:00, 10.35it/s]\n"
     ]
    },
    {
     "name": "stdout",
     "output_type": "stream",
     "text": [
      "Epoch 89 average loss = 3.5558974149227143\n",
      "Генерируем текст в пропорциональном режиме\n",
      "Using random seed: вся квартира , за исключением Лоханкина и ничьей бабушки .\n"
     ]
    },
    {
     "name": "stderr",
     "output_type": "stream",
     "text": [
      "  0%|          | 2/1000 [00:00<01:17, 12.80it/s]"
     ]
    },
    {
     "name": "stdout",
     "output_type": "stream",
     "text": [
      "----\n",
      " вся квартира , за исключением Лоханкина и ничьей бабушки . Спать раньше парадом Ипполита Матвеевича потухло и , победоносно свинью свинью , и отправился на говорил мастер . — Так как нас Хворобьев . Сегодня ли уже запродал сразу не \n",
      "----\n"
     ]
    },
    {
     "name": "stderr",
     "output_type": "stream",
     "text": [
      "100%|██████████| 1000/1000 [01:36<00:00, 10.34it/s]\n"
     ]
    },
    {
     "name": "stdout",
     "output_type": "stream",
     "text": [
      "Epoch 90 average loss = 3.5376431398391723\n",
      "Генерируем текст в пропорциональном режиме\n",
      "Using random seed: не поздно . — Вы думаете ? — встревожился Кислярский\n"
     ]
    },
    {
     "name": "stderr",
     "output_type": "stream",
     "text": [
      "  0%|          | 2/1000 [00:00<01:17, 12.81it/s]"
     ]
    },
    {
     "name": "stdout",
     "output_type": "stream",
     "text": [
      "----\n",
      " не поздно . — Вы думаете ? — встревожился Кислярский . Разрешите средство воду сосал из Остапом пешим три пути и берегов ее было к одной популярных . Гражданин машинка озаряли комбайном . Глава решетки . — Два голова , \n",
      "----\n"
     ]
    },
    {
     "name": "stderr",
     "output_type": "stream",
     "text": [
      "100%|██████████| 1000/1000 [01:36<00:00, 10.34it/s]\n"
     ]
    },
    {
     "name": "stdout",
     "output_type": "stream",
     "text": [
      "Epoch 91 average loss = 3.5331511907577515\n",
      "Генерируем текст в пропорциональном режиме\n",
      "Using random seed: была прервана приходом главного директора . Уже один его вид\n"
     ]
    },
    {
     "name": "stderr",
     "output_type": "stream",
     "text": [
      "  0%|          | 2/1000 [00:00<01:18, 12.74it/s]"
     ]
    },
    {
     "name": "stdout",
     "output_type": "stream",
     "text": [
      "----\n",
      " была прервана приходом главного директора . Уже один его вид возбудил и увидел заявил великий комбинатор , что его не такая . Он тихонько с миллионом площадки пешком . На тем же сейчас все на то водкой . — Какое \n",
      "----\n"
     ]
    },
    {
     "name": "stderr",
     "output_type": "stream",
     "text": [
      "100%|██████████| 1000/1000 [01:36<00:00, 10.33it/s]\n"
     ]
    },
    {
     "name": "stdout",
     "output_type": "stream",
     "text": [
      "Epoch 92 average loss = 3.5473575277328493\n",
      "Генерируем текст в пропорциональном режиме\n",
      "Using random seed: . Остап все время произносил речи , спичи и тосты\n"
     ]
    },
    {
     "name": "stderr",
     "output_type": "stream",
     "text": [
      "  0%|          | 2/1000 [00:00<01:17, 12.80it/s]"
     ]
    },
    {
     "name": "stdout",
     "output_type": "stream",
     "text": [
      "----\n",
      " . Остап все время произносил речи , спичи и тосты служащие на один паек шоссе , так мчался кассеты проживут и , из которых , что газовый похожа продлится сидят . молчал и путь вел гиперболична . — С хозяйство \n",
      "----\n"
     ]
    },
    {
     "name": "stderr",
     "output_type": "stream",
     "text": [
      "100%|██████████| 1000/1000 [01:36<00:00, 10.34it/s]\n"
     ]
    },
    {
     "name": "stdout",
     "output_type": "stream",
     "text": [
      "Epoch 93 average loss = 3.568160714626312\n",
      "Генерируем текст в пропорциональном режиме\n",
      "Using random seed: Но он так сладко спал , что его не хотелось\n"
     ]
    },
    {
     "name": "stderr",
     "output_type": "stream",
     "text": [
      "  0%|          | 2/1000 [00:00<01:18, 12.76it/s]"
     ]
    },
    {
     "name": "stdout",
     "output_type": "stream",
     "text": [
      "----\n",
      " Но он так сладко спал , что его не хотелось образа уразуметь . Ипполит Матвеевич увидел сухощавые сухощавые дела в ожидании постепенно ящичек . И доселе придумал поймал этим шансы и он не оставил никакого сотню ? Я зачем один \n",
      "----\n"
     ]
    },
    {
     "name": "stderr",
     "output_type": "stream",
     "text": [
      "100%|██████████| 1000/1000 [01:36<00:00, 10.35it/s]\n"
     ]
    },
    {
     "name": "stdout",
     "output_type": "stream",
     "text": [
      "Epoch 94 average loss = 3.5567779285907744\n",
      "Генерируем текст в пропорциональном режиме\n",
      "Using random seed: он сразу смахнул на пол тонкую столярную работу Птибурдукова .\n"
     ]
    },
    {
     "name": "stderr",
     "output_type": "stream",
     "text": [
      "  0%|          | 2/1000 [00:00<01:18, 12.76it/s]"
     ]
    },
    {
     "name": "stdout",
     "output_type": "stream",
     "text": [
      "----\n",
      " он сразу смахнул на пол тонкую столярную работу Птибурдукова . В комнате сидела синее перевал имени вагона по саженным . И вице-король Михайлович , я купили дня отвечаете не обидел . — Вам хорошо сумасшедший проще , а не буду \n",
      "----\n"
     ]
    },
    {
     "name": "stderr",
     "output_type": "stream",
     "text": [
      "100%|██████████| 1000/1000 [01:36<00:00, 10.35it/s]\n"
     ]
    },
    {
     "name": "stdout",
     "output_type": "stream",
     "text": [
      "Epoch 95 average loss = 3.5269223845005033\n",
      "Генерируем текст в пропорциональном режиме\n",
      "Using random seed: прохлада , хозяин из Тифлиса , местный оркестр , холодная\n"
     ]
    },
    {
     "name": "stderr",
     "output_type": "stream",
     "text": [
      "  0%|          | 2/1000 [00:00<01:17, 12.82it/s]"
     ]
    },
    {
     "name": "stdout",
     "output_type": "stream",
     "text": [
      "----\n",
      " прохлада , хозяин из Тифлиса , местный оркестр , холодная карандашом , уже глядя , с миллионом Эрнеста стороны . — К чему в гости ! — Еще Варвара нашей мебель , — заявил Козлевич . — Ему все своих \n",
      "----\n"
     ]
    },
    {
     "name": "stderr",
     "output_type": "stream",
     "text": [
      "100%|██████████| 1000/1000 [01:36<00:00, 10.35it/s]\n"
     ]
    },
    {
     "name": "stdout",
     "output_type": "stream",
     "text": [
      "Epoch 96 average loss = 3.522340083360672\n",
      "Генерируем текст в пропорциональном режиме\n",
      "Using random seed: » Высокий класс ! .. Ипполит Матвеевич продолжал стоять ,\n"
     ]
    },
    {
     "name": "stderr",
     "output_type": "stream",
     "text": [
      "  0%|          | 2/1000 [00:00<01:18, 12.76it/s]"
     ]
    },
    {
     "name": "stdout",
     "output_type": "stream",
     "text": [
      "----\n",
      " » Высокий класс ! .. Ипполит Матвеевич продолжал стоять , что ответить с ее комнату . Спешу он каждый . Изо его сверкала , эти погода» , чтобы заметил газоубежища . Когда вытянул схватка стыдно . В дворовом , когда \n",
      "----\n"
     ]
    },
    {
     "name": "stderr",
     "output_type": "stream",
     "text": [
      "100%|██████████| 1000/1000 [01:36<00:00, 10.35it/s]\n"
     ]
    },
    {
     "name": "stdout",
     "output_type": "stream",
     "text": [
      "Epoch 97 average loss = 3.4871822228431704\n",
      "Генерируем текст в пропорциональном режиме\n",
      "Using random seed: борта , не замечая оставшегося на берегу Воробьянинова . Ипполит\n"
     ]
    },
    {
     "name": "stderr",
     "output_type": "stream",
     "text": [
      "  0%|          | 2/1000 [00:00<01:17, 12.80it/s]"
     ]
    },
    {
     "name": "stdout",
     "output_type": "stream",
     "text": [
      "----\n",
      " борта , не замечая оставшегося на берегу Воробьянинова . Ипполит Матвеевич сперва похудел с изголовью Изнуренкова 6 и , далеко на друга с пожертвованиями моря , удалился ушла и зубов : “Поздравляю его озимые шахмат быстро в месяц сидит . \n",
      "----\n"
     ]
    },
    {
     "name": "stderr",
     "output_type": "stream",
     "text": [
      "100%|██████████| 1000/1000 [01:36<00:00, 10.35it/s]\n"
     ]
    },
    {
     "name": "stdout",
     "output_type": "stream",
     "text": [
      "Epoch 98 average loss = 3.5043711113929747\n",
      "Генерируем текст в пропорциональном режиме\n",
      "Using random seed: бутоны , селедки держали во рту серсо из дука или\n"
     ]
    },
    {
     "name": "stderr",
     "output_type": "stream",
     "text": [
      "  0%|          | 2/1000 [00:00<01:17, 12.83it/s]"
     ]
    },
    {
     "name": "stdout",
     "output_type": "stream",
     "text": [
      "----\n",
      " бутоны , селедки держали во рту серсо из дука или маслины народа в каюте . Кроме того , “-и и вести , Кстати и оформление потом за Пароход четвертого языка . Через некоторое своей угол , но редкий смельчак простотой \n",
      "----\n"
     ]
    },
    {
     "name": "stderr",
     "output_type": "stream",
     "text": [
      "100%|██████████| 1000/1000 [01:36<00:00, 10.35it/s]\n"
     ]
    },
    {
     "name": "stdout",
     "output_type": "stream",
     "text": [
      "Epoch 99 average loss = 3.478084325313568\n",
      "Генерируем текст в пропорциональном режиме\n",
      "Using random seed: ! — нагло повторял Паша Эмильевич . Но тут певший\n"
     ]
    },
    {
     "name": "stderr",
     "output_type": "stream",
     "text": [
      "  0%|          | 2/1000 [00:00<01:17, 12.82it/s]"
     ]
    },
    {
     "name": "stdout",
     "output_type": "stream",
     "text": [
      "----\n",
      " ! — нагло повторял Паша Эмильевич . Но тут певший пойдете , Будь , потребные , нужно . ( муж . — Весь этого на лестнице зовут , — сказала докторша , — на столе поглядывая надо кружек на Остапа \n",
      "----\n"
     ]
    },
    {
     "name": "stderr",
     "output_type": "stream",
     "text": [
      "100%|██████████| 1000/1000 [01:36<00:00, 10.35it/s]\n"
     ]
    },
    {
     "name": "stdout",
     "output_type": "stream",
     "text": [
      "Epoch 100 average loss = 3.4608384070396423\n",
      "Генерируем текст в пропорциональном режиме\n",
      "Using random seed: свистали и пучились мутные зеленые воды . До самого Батума\n"
     ]
    },
    {
     "name": "stderr",
     "output_type": "stream",
     "text": [
      "  0%|          | 2/1000 [00:00<01:17, 12.82it/s]"
     ]
    },
    {
     "name": "stdout",
     "output_type": "stream",
     "text": [
      "----\n",
      " свистали и пучились мутные зеленые воды . До самого Батума стеклянную рублей , потом внезапно их в разоблачительных и обязательном его круглое вида . Птички у третьего пор , покуда обводила и помнили к уравнительный , которая хватались и в \n",
      "----\n"
     ]
    },
    {
     "name": "stderr",
     "output_type": "stream",
     "text": [
      "100%|██████████| 1000/1000 [01:36<00:00, 10.34it/s]\n"
     ]
    },
    {
     "name": "stdout",
     "output_type": "stream",
     "text": [
      "Epoch 101 average loss = 3.4715886726379392\n",
      "Генерируем текст в пропорциональном режиме\n",
      "Using random seed: и однажды вечером унесли даже закипающий во дворе самовар .\n"
     ]
    },
    {
     "name": "stderr",
     "output_type": "stream",
     "text": [
      "  0%|          | 2/1000 [00:00<01:18, 12.78it/s]"
     ]
    },
    {
     "name": "stdout",
     "output_type": "stream",
     "text": [
      "----\n",
      " и однажды вечером унесли даже закипающий во дворе самовар . Два было и чтобы , архивариус товарищ , казалось в комнату , и только левую не принесли Заузе не мог . — Если бы облигация знать ! не надо нашей \n",
      "----\n"
     ]
    },
    {
     "name": "stderr",
     "output_type": "stream",
     "text": [
      "100%|██████████| 1000/1000 [01:36<00:00, 10.35it/s]\n"
     ]
    },
    {
     "name": "stdout",
     "output_type": "stream",
     "text": [
      "Epoch 102 average loss = 3.458545832157135\n",
      "Генерируем текст в пропорциональном режиме\n",
      "Using random seed: горизонтальные усы . Сердце Ипполита Матвеевича потухло . Он бросился\n"
     ]
    },
    {
     "name": "stderr",
     "output_type": "stream",
     "text": [
      "  0%|          | 2/1000 [00:00<01:18, 12.75it/s]"
     ]
    },
    {
     "name": "stdout",
     "output_type": "stream",
     "text": [
      "----\n",
      " горизонтальные усы . Сердце Ипполита Матвеевича потухло . Он бросился стон входила он потом же несколько неподалеку и фасонов в поисках лампой его . Берлага , С мальчика небом , — быстро сердца , господа присяжные заседатели , большой души \n",
      "----\n"
     ]
    },
    {
     "name": "stderr",
     "output_type": "stream",
     "text": [
      "100%|██████████| 1000/1000 [01:36<00:00, 10.34it/s]\n"
     ]
    },
    {
     "name": "stdout",
     "output_type": "stream",
     "text": [
      "Epoch 103 average loss = 3.454142532110214\n",
      "Генерируем текст в пропорциональном режиме\n",
      "Using random seed: директора дворянской гимназии , ныне букиниста , Распопова . Его\n"
     ]
    },
    {
     "name": "stderr",
     "output_type": "stream",
     "text": [
      "  0%|          | 2/1000 [00:00<01:18, 12.72it/s]"
     ]
    },
    {
     "name": "stdout",
     "output_type": "stream",
     "text": [
      "----\n",
      " директора дворянской гимназии , ныне букиниста , Распопова . Его только от жилетки , Здесь господа спасибо описал дня замшевый полкилометра . Подолгу эти продолжается , он вдалбливал в странном Второй : “Вот окна ! Поезд стали автобусом под лошадь \n",
      "----\n"
     ]
    },
    {
     "name": "stderr",
     "output_type": "stream",
     "text": [
      "100%|██████████| 1000/1000 [01:36<00:00, 10.36it/s]\n"
     ]
    },
    {
     "name": "stdout",
     "output_type": "stream",
     "text": [
      "Epoch 104 average loss = 3.4613865048885346\n",
      "Генерируем текст в пропорциональном режиме\n",
      "Using random seed: — Почему же вы мне раньше не сказали ? !\n"
     ]
    },
    {
     "name": "stderr",
     "output_type": "stream",
     "text": [
      "  0%|          | 2/1000 [00:00<01:17, 12.84it/s]"
     ]
    },
    {
     "name": "stdout",
     "output_type": "stream",
     "text": [
      "----\n",
      " — Почему же вы мне раньше не сказали ? ! говорил Мечников . Началась поднялся . к Иванопуло было полная улыбаясь с радужными американский русской вечер . Он застрелился отвернулся . Он вдруг парадом больше ночью от холода и вышел \n",
      "----\n"
     ]
    },
    {
     "name": "stderr",
     "output_type": "stream",
     "text": [
      "100%|██████████| 1000/1000 [01:36<00:00, 10.36it/s]\n"
     ]
    },
    {
     "name": "stdout",
     "output_type": "stream",
     "text": [
      "Epoch 105 average loss = 3.4426951353549957\n",
      "Генерируем текст в пропорциональном режиме\n",
      "Using random seed: : “Мама , мама” . Еще немного , самая чепуха\n"
     ]
    },
    {
     "name": "stderr",
     "output_type": "stream",
     "text": [
      "  0%|          | 2/1000 [00:00<01:17, 12.81it/s]"
     ]
    },
    {
     "name": "stdout",
     "output_type": "stream",
     "text": [
      "----\n",
      " : “Мама , мама” . Еще немного , самая чепуха имени было подано торг ногами и Паниковский немножко Елисеевым . И он проснулся своей его клейстером агент и в то 86/1562» комнате , что в субботу комнате на три жилете \n",
      "----\n"
     ]
    },
    {
     "name": "stderr",
     "output_type": "stream",
     "text": [
      "100%|██████████| 1000/1000 [01:36<00:00, 10.36it/s]\n"
     ]
    },
    {
     "name": "stdout",
     "output_type": "stream",
     "text": [
      "Epoch 106 average loss = 3.429973244905472\n",
      "Генерируем текст в пропорциональном режиме\n",
      "Using random seed: почерпнуть все сведения о родословных жителей города N и о\n"
     ]
    },
    {
     "name": "stderr",
     "output_type": "stream",
     "text": [
      "  0%|          | 2/1000 [00:00<01:17, 12.80it/s]"
     ]
    },
    {
     "name": "stdout",
     "output_type": "stream",
     "text": [
      "----\n",
      " почерпнуть все сведения о родословных жителей города N и о дверях гибкой никаких “Антилопы” . — На авансовым ! — протяжно стонали , увеличивая возчик поднесено работу , — базарные над ста двадцать полированный сказал : — Посмотри , вы \n",
      "----\n"
     ]
    },
    {
     "name": "stderr",
     "output_type": "stream",
     "text": [
      "100%|██████████| 1000/1000 [01:36<00:00, 10.35it/s]\n"
     ]
    },
    {
     "name": "stdout",
     "output_type": "stream",
     "text": [
      "Epoch 107 average loss = 3.420491849899292\n",
      "Генерируем текст в пропорциональном режиме\n",
      "Using random seed: тут же выкинул предъявителю его чемодан . Предъявитель , в\n"
     ]
    },
    {
     "name": "stderr",
     "output_type": "stream",
     "text": [
      "  0%|          | 2/1000 [00:00<01:18, 12.75it/s]"
     ]
    },
    {
     "name": "stdout",
     "output_type": "stream",
     "text": [
      "----\n",
      " тут же выкинул предъявителю его чемодан . Предъявитель , в двенадцать смотрят , захлопнулся ! Ценные , ночь художник , без основания — входили , каким-то позади двигались и стал попробовать . С кровати в сапогах , которая по собой \n",
      "----\n"
     ]
    },
    {
     "name": "stderr",
     "output_type": "stream",
     "text": [
      "100%|██████████| 1000/1000 [01:36<00:00, 10.35it/s]\n"
     ]
    },
    {
     "name": "stdout",
     "output_type": "stream",
     "text": [
      "Epoch 108 average loss = 3.423659216403961\n",
      "Генерируем текст в пропорциональном режиме\n",
      "Using random seed: странном роде . Неубедительные , но веселые доводы Остапа влияли\n"
     ]
    },
    {
     "name": "stderr",
     "output_type": "stream",
     "text": [
      "  0%|          | 2/1000 [00:00<01:18, 12.76it/s]"
     ]
    },
    {
     "name": "stdout",
     "output_type": "stream",
     "text": [
      "----\n",
      " странном роде . Неубедительные , но веселые доводы Остапа влияли . Бендер улегся . три весною . Я ему слышу на ней книги , Великие чемодан на вашу матроса , огнетушителей которого затосковал руками опасался мадам Петуховой , пятидесяти это \n",
      "----\n"
     ]
    },
    {
     "name": "stderr",
     "output_type": "stream",
     "text": [
      "100%|██████████| 1000/1000 [01:43<00:00,  5.27it/s]\n"
     ]
    },
    {
     "name": "stdout",
     "output_type": "stream",
     "text": [
      "Epoch 109 average loss = 3.419805451154709\n",
      "Генерируем текст в пропорциональном режиме\n",
      "Using random seed: , что вице-король для хорошего сумасшедшего — это слабо ,\n"
     ]
    },
    {
     "name": "stderr",
     "output_type": "stream",
     "text": [
      "  0%|          | 1/1000 [00:00<02:30,  6.64it/s]"
     ]
    },
    {
     "name": "stdout",
     "output_type": "stream",
     "text": [
      "----\n",
      " , что вице-король для хорошего сумасшедшего — это слабо , слабо нотой из всех букву ! — В чего его делать тут , Небольшое Станиславовна , слетали кожаный мухоморами и волнениях , и вся сила «музыкальный» . Бендер , Вы \n",
      "----\n"
     ]
    },
    {
     "name": "stderr",
     "output_type": "stream",
     "text": [
      "100%|██████████| 1000/1000 [01:53<00:00, 10.36it/s]\n"
     ]
    },
    {
     "name": "stdout",
     "output_type": "stream",
     "text": [
      "Epoch 110 average loss = 3.405669781923294\n",
      "Генерируем текст в пропорциональном режиме\n",
      "Using random seed: денег . Я уничтожу это позорное пятно на репутации города\n"
     ]
    },
    {
     "name": "stderr",
     "output_type": "stream",
     "text": [
      "  0%|          | 2/1000 [00:00<01:18, 12.76it/s]"
     ]
    },
    {
     "name": "stdout",
     "output_type": "stream",
     "text": [
      "----\n",
      " денег . Я уничтожу это позорное пятно на репутации города . Прочитав даже обвинить . Он проследовал о пальто . Ипполит Матвеевич вошел и двинулся . Он видела замолчал и делил у такого берег , вызывая , и оба главное \n",
      "----\n"
     ]
    },
    {
     "name": "stderr",
     "output_type": "stream",
     "text": [
      "100%|██████████| 1000/1000 [01:36<00:00, 10.36it/s]\n"
     ]
    },
    {
     "name": "stdout",
     "output_type": "stream",
     "text": [
      "Epoch 111 average loss = 3.403001161813736\n",
      "Генерируем текст в пропорциональном режиме\n",
      "Using random seed: из следующего диалога : — Фу , как ты меня\n"
     ]
    },
    {
     "name": "stderr",
     "output_type": "stream",
     "text": [
      "  0%|          | 2/1000 [00:00<01:17, 12.83it/s]"
     ]
    },
    {
     "name": "stdout",
     "output_type": "stream",
     "text": [
      "----\n",
      " из следующего диалога : — Фу , как ты меня ! Они говорили ! Из экономии у Тифлиса великого комбинатора . Кроме экипажа , не боявшиеся сквозняков , как-то вилы ! стали достигнута , и вскоре столиком Бендер антилоповцы анекдот \n",
      "----\n"
     ]
    },
    {
     "name": "stderr",
     "output_type": "stream",
     "text": [
      "100%|██████████| 1000/1000 [01:36<00:00, 10.36it/s]\n"
     ]
    },
    {
     "name": "stdout",
     "output_type": "stream",
     "text": [
      "Epoch 112 average loss = 3.3889950768947603\n",
      "Генерируем текст в пропорциональном режиме\n",
      "Using random seed: не угасли , пожалуйста , организуйте ясли” . Кроме того\n"
     ]
    },
    {
     "name": "stderr",
     "output_type": "stream",
     "text": [
      "  0%|          | 2/1000 [00:00<01:18, 12.76it/s]"
     ]
    },
    {
     "name": "stdout",
     "output_type": "stream",
     "text": [
      "----\n",
      " не угасли , пожалуйста , организуйте ясли” . Кроме того , нам ! Маху на первое есть на даром талон , которые дожили побывать . Виктор Михайлович столовался начинали замолчал . Вдова в рамку снова появился честных сапоги . и \n",
      "----\n"
     ]
    },
    {
     "name": "stderr",
     "output_type": "stream",
     "text": [
      "100%|██████████| 1000/1000 [01:36<00:00, 10.35it/s]\n"
     ]
    },
    {
     "name": "stdout",
     "output_type": "stream",
     "text": [
      "Epoch 113 average loss = 3.3606610889434814\n",
      "Генерируем текст в пропорциональном режиме\n",
      "Using random seed: хорошо , там коммунальные услуги , там есть планетарий ,\n"
     ]
    },
    {
     "name": "stderr",
     "output_type": "stream",
     "text": [
      "  0%|          | 2/1000 [00:00<01:18, 12.75it/s]"
     ]
    },
    {
     "name": "stdout",
     "output_type": "stream",
     "text": [
      "----\n",
      " хорошо , там коммунальные услуги , там есть планетарий , а имеет мысль от Средней Парижа , которые простирались ботинки . Великий комбинатор сидел . Остап танцевал ( пути : — Какой тот брюнет по заготовке пенала да , Ипполит \n",
      "----\n"
     ]
    },
    {
     "name": "stderr",
     "output_type": "stream",
     "text": [
      "100%|██████████| 1000/1000 [01:36<00:00, 10.35it/s]\n"
     ]
    },
    {
     "name": "stdout",
     "output_type": "stream",
     "text": [
      "Epoch 114 average loss = 3.3994465508461\n",
      "Генерируем текст в пропорциональном режиме\n",
      "Using random seed: . Они подсунули слоновый ! — А как у вас\n"
     ]
    },
    {
     "name": "stderr",
     "output_type": "stream",
     "text": [
      "  0%|          | 2/1000 [00:00<01:18, 12.75it/s]"
     ]
    },
    {
     "name": "stdout",
     "output_type": "stream",
     "text": [
      "----\n",
      " . Они подсунули слоновый ! — А как у вас же все ? по-вашему ? “-“Ведь командировочные — .. — Ипполит Матвеевич с негодующим трепещущие плечом . — Обо мы ? — он , что делается , им сказать такое \n",
      "----\n"
     ]
    },
    {
     "name": "stderr",
     "output_type": "stream",
     "text": [
      "100%|██████████| 1000/1000 [01:36<00:00, 10.36it/s]\n"
     ]
    },
    {
     "name": "stdout",
     "output_type": "stream",
     "text": [
      "Epoch 115 average loss = 3.3824394690990447\n",
      "Генерируем текст в пропорциональном режиме\n",
      "Using random seed: ! Это замечание храбрейшего из императоров и воинов отрезвило беглого\n"
     ]
    },
    {
     "name": "stderr",
     "output_type": "stream",
     "text": [
      "  0%|          | 2/1000 [00:00<01:17, 12.83it/s]"
     ]
    },
    {
     "name": "stdout",
     "output_type": "stream",
     "text": [
      "----\n",
      " ! Это замечание храбрейшего из императоров и воинов отрезвило беглого и так . И быстро ; теперь вышел у бортов . Под суровым места в гостинице . — Да , — воскликнул Остап . — Правда ! Тогда Талмудовский плывет \n",
      "----\n"
     ]
    },
    {
     "name": "stderr",
     "output_type": "stream",
     "text": [
      "100%|██████████| 1000/1000 [01:36<00:00, 10.35it/s]\n"
     ]
    },
    {
     "name": "stdout",
     "output_type": "stream",
     "text": [
      "Epoch 116 average loss = 3.3477876262664794\n",
      "Генерируем текст в пропорциональном режиме\n",
      "Using random seed: беспрерывно бормочут : — Эх ! Люди жили ! Им\n"
     ]
    },
    {
     "name": "stderr",
     "output_type": "stream",
     "text": [
      "  0%|          | 2/1000 [00:00<01:17, 12.83it/s]"
     ]
    },
    {
     "name": "stdout",
     "output_type": "stream",
     "text": [
      "----\n",
      " беспрерывно бормочут : — Эх ! Люди жили ! Им или . Я так видела из затона глазами . Ипполит Матвеевич очнулся на подоконнике до дворе . Ему ! Мы как меньше часы в такое автопробега , вырывал Остапу фанеры \n",
      "----\n"
     ]
    },
    {
     "name": "stderr",
     "output_type": "stream",
     "text": [
      "100%|██████████| 1000/1000 [01:36<00:00, 10.35it/s]\n"
     ]
    },
    {
     "name": "stdout",
     "output_type": "stream",
     "text": [
      "Epoch 117 average loss = 3.357374692440033\n",
      "Генерируем текст в пропорциональном режиме\n",
      "Using random seed: Ипполит Матвеевич , — что торг здесь неуместен ! Он\n"
     ]
    },
    {
     "name": "stderr",
     "output_type": "stream",
     "text": [
      "  0%|          | 2/1000 [00:00<01:18, 12.77it/s]"
     ]
    },
    {
     "name": "stdout",
     "output_type": "stream",
     "text": [
      "----\n",
      " Ипполит Матвеевич , — что торг здесь неуместен ! Он походил заседание люди не подходящей ! Проект точные уже не станут были чертога мужа по такой города , из его назначили немедленно и со всю их свой журналов как образом \n",
      "----\n"
     ]
    },
    {
     "name": "stderr",
     "output_type": "stream",
     "text": [
      "100%|██████████| 1000/1000 [01:36<00:00, 10.35it/s]\n"
     ]
    },
    {
     "name": "stdout",
     "output_type": "stream",
     "text": [
      "Epoch 118 average loss = 3.3501128487586973\n",
      "Генерируем текст в пропорциональном режиме\n",
      "Using random seed: Покупаете старые вещи ? — спросил Остап грозно . —\n"
     ]
    },
    {
     "name": "stderr",
     "output_type": "stream",
     "text": [
      "  0%|          | 2/1000 [00:00<01:18, 12.74it/s]"
     ]
    },
    {
     "name": "stdout",
     "output_type": "stream",
     "text": [
      "----\n",
      " Покупаете старые вещи ? — спросил Остап грозно . — Стулья рублей ! — А вы Трубецкой ! — Они он скороговоркой нужно . — А может быть в этот конторе будете . Вы останусь скажу очень пятьдесят пор китель \n",
      "----\n"
     ]
    },
    {
     "name": "stderr",
     "output_type": "stream",
     "text": [
      "100%|██████████| 1000/1000 [01:36<00:00, 10.32it/s]\n"
     ]
    },
    {
     "name": "stdout",
     "output_type": "stream",
     "text": [
      "Epoch 119 average loss = 3.344760323762894\n",
      "----\n",
      " И сообразил я то , что дураку этому бритому никогда при станции . После ордера спросил чуть шурин . Это стали молод господина . В любом поселке Остап говорит вынимал по цели . Ипполит Матвеевич ! повизгивая до того , что в обществе купит было только ? Балаганов , нехорошо он собрался поставить обязанности вскакивал , но стон уже на нем не пришлось — изменится деньги и НКПС в номере , Нужно . Мой , хотя в Арбатове “Геркулес” пиджака , что не менее своей ли сведения уже не любил от чинов . Это же подумайте кормил бросала и даже : Стоя героям-строителям , Дети йодом валит , и Ипполиту Матвеевичу чугунный оставался капли . От Магистрали шли успех Лоханкина и прошел нетрудовыми доходами» . Никешу придирчиво типа Козлевича . Это у Синицких слышно на лоб ! От вы сочувствует . Быть этими минуты ? К рыбачьего отказе В Рио-де-Жанейро , Гроссмейстер вернулись спутники в контору бензином и , выгибаясь по Паше усмешку Лапидуса-младшего , восторженно ему слеза . А чего пассажир ? — В три минуту закрылась , Ведь я вам устрою , как это мыло ! а вы хотите по его . Двое лошадь . — Почему послал ? — Просто воскликнул Остап . — А нам Паша Среднерусскую возвышенность ? бежавший за помещение создание . Он положил мясо Грицацуева . Это пошлое с Александром медвежонком , борщ большое линии поднимался . Лицо под ним вернулись , последняя копеек на блестящий , инженер бежали четвертого пикейный стан . С совести после зеленый рту дрожание “Мужчина . Но зато и „Взятие Перемышля“ удоевского землемер , возомнивший дверь . Опустошив мужчина по саженным . Она , в распоряжение г. помещались клубе нравился чужой , но все-таки , что пишут , что умираю работать рожает и дорогая , Остап подумал он — -сейчас минуту — на коленях отправился известный . Раз \n",
      "----\n",
      "Training ...\n",
      "Генерируем текст в пропорциональном режиме\n",
      "Using random seed: Откуда-ж вы знаете ? — удивился отец Федор . —\n"
     ]
    },
    {
     "name": "stderr",
     "output_type": "stream",
     "text": [
      "  0%|          | 2/1000 [00:00<01:18, 12.68it/s]"
     ]
    },
    {
     "name": "stdout",
     "output_type": "stream",
     "text": [
      "----\n",
      " Откуда-ж вы знаете ? — удивился отец Федор . — Он , не чем человек , не холодно Остап , — Хуже Хворобьев , — спросил беспризорный , подумав , — который в конце нет , Давайте много я не \n",
      "----\n"
     ]
    },
    {
     "name": "stderr",
     "output_type": "stream",
     "text": [
      "100%|██████████| 1000/1000 [01:36<00:00, 10.32it/s]\n"
     ]
    },
    {
     "name": "stdout",
     "output_type": "stream",
     "text": [
      "Epoch 120 average loss = 3.3233250427246093\n",
      "Генерируем текст в пропорциональном режиме\n",
      "Using random seed: прибор , по-вашему , обладает способностью стремительно падать ? Значит\n"
     ]
    },
    {
     "name": "stderr",
     "output_type": "stream",
     "text": [
      "  0%|          | 2/1000 [00:00<01:18, 12.72it/s]"
     ]
    },
    {
     "name": "stdout",
     "output_type": "stream",
     "text": [
      "----\n",
      " прибор , по-вашему , обладает способностью стремительно падать ? Значит , Брокгауз ? — Вот может быть , — думал он , — вы тебе давясь сказал о разговор . входя вздрогнул , а потом тут же , Того , \n",
      "----\n"
     ]
    },
    {
     "name": "stderr",
     "output_type": "stream",
     "text": [
      "100%|██████████| 1000/1000 [01:36<00:00, 10.32it/s]\n"
     ]
    },
    {
     "name": "stdout",
     "output_type": "stream",
     "text": [
      "Epoch 121 average loss = 3.336612473964691\n",
      "Генерируем текст в пропорциональном режиме\n",
      "Using random seed: , то есть , посмотрев на первую карту , медленнейшим\n"
     ]
    },
    {
     "name": "stderr",
     "output_type": "stream",
     "text": [
      "  0%|          | 2/1000 [00:00<01:18, 12.69it/s]"
     ]
    },
    {
     "name": "stdout",
     "output_type": "stream",
     "text": [
      "----\n",
      " , то есть , посмотрев на первую карту , медленнейшим машина материалами к спине до сих , владелец не надумав , то , может быть . Пассажиры казенными новую мысли . и полтинничная будем губы Остап своей порядки и голубой \n",
      "----\n"
     ]
    },
    {
     "name": "stderr",
     "output_type": "stream",
     "text": [
      "100%|██████████| 1000/1000 [01:36<00:00, 10.35it/s]\n"
     ]
    },
    {
     "name": "stdout",
     "output_type": "stream",
     "text": [
      "Epoch 122 average loss = 3.3157241756916047\n",
      "Генерируем текст в пропорциональном режиме\n",
      "Using random seed: гидропрессом . К этому времени Мечников , из-за отсутствия денег\n"
     ]
    },
    {
     "name": "stderr",
     "output_type": "stream",
     "text": [
      "  0%|          | 2/1000 [00:00<01:18, 12.76it/s]"
     ]
    },
    {
     "name": "stdout",
     "output_type": "stream",
     "text": [
      "----\n",
      " гидропрессом . К этому времени Мечников , из-за отсутствия денег стул с брильянтами по причине нам брал полосатый бюро стол да чернил . Такой Синицкая головы , третьего небрежно сокращались , на край в Киеве ? Не носил время , \n",
      "----\n"
     ]
    },
    {
     "name": "stderr",
     "output_type": "stream",
     "text": [
      "100%|██████████| 1000/1000 [01:36<00:00, 10.32it/s]\n"
     ]
    },
    {
     "name": "stdout",
     "output_type": "stream",
     "text": [
      "Epoch 123 average loss = 3.3328682231903075\n",
      "Генерируем текст в пропорциональном режиме\n",
      "Using random seed: …………………..634 Глава XXXIV . Дружба с юностью …………………..639 Глава XXXV\n"
     ]
    },
    {
     "name": "stderr",
     "output_type": "stream",
     "text": [
      "  0%|          | 2/1000 [00:00<01:18, 12.71it/s]"
     ]
    },
    {
     "name": "stdout",
     "output_type": "stream",
     "text": [
      "----\n",
      " …………………..634 Глава XXXIV . Дружба с юностью …………………..639 Глава XXXV . На площадке знакомым , пригорюнившись друг главный глубокая морщина , разодрал , падал , а вы не него Корейко . Тут с ними бы он был прикованы выбрать стола \n",
      "----\n"
     ]
    },
    {
     "name": "stderr",
     "output_type": "stream",
     "text": [
      "100%|██████████| 1000/1000 [01:36<00:00, 10.35it/s]\n"
     ]
    },
    {
     "name": "stdout",
     "output_type": "stream",
     "text": [
      "Epoch 124 average loss = 3.3322268126010894\n",
      "Генерируем текст в пропорциональном режиме\n",
      "Using random seed: далеким облаком . — Матушка-заступница , милиция-троеручица ! — воскликнул\n"
     ]
    },
    {
     "name": "stderr",
     "output_type": "stream",
     "text": [
      "  0%|          | 2/1000 [00:00<01:18, 12.75it/s]"
     ]
    },
    {
     "name": "stdout",
     "output_type": "stream",
     "text": [
      "----\n",
      " далеким облаком . — Матушка-заступница , милиция-троеручица ! — воскликнул Остап . - Кстати , в порядке с вашими бумагами в бобриковом России золотой рассвет от его возиться вельможи небольшой столб , как Ипполит Матвеевич увидел стоял его и в \n",
      "----\n"
     ]
    },
    {
     "name": "stderr",
     "output_type": "stream",
     "text": [
      "100%|██████████| 1000/1000 [01:36<00:00, 10.35it/s]\n"
     ]
    },
    {
     "name": "stdout",
     "output_type": "stream",
     "text": [
      "Epoch 125 average loss = 3.3212969608306886\n",
      "Генерируем текст в пропорциональном режиме\n",
      "Using random seed: жить , можно составить великое богатство . Но уже знал\n"
     ]
    },
    {
     "name": "stderr",
     "output_type": "stream",
     "text": [
      "  0%|          | 2/1000 [00:00<01:18, 12.78it/s]"
     ]
    },
    {
     "name": "stdout",
     "output_type": "stream",
     "text": [
      "----\n",
      " жить , можно составить великое богатство . Но уже знал руку на него медикаментами и и белый облачка досках баронских шкаф к сторонам , а жизнь песенку будет вперед с беспокойством воротником триста . — Доброе в таком у меня \n",
      "----\n"
     ]
    },
    {
     "name": "stderr",
     "output_type": "stream",
     "text": [
      "100%|██████████| 1000/1000 [01:36<00:00, 10.35it/s]\n"
     ]
    },
    {
     "name": "stdout",
     "output_type": "stream",
     "text": [
      "Epoch 126 average loss = 3.3020378582477568\n",
      "Генерируем текст в пропорциональном режиме\n",
      "Using random seed: к отступлению не было , Поэтому Остап закричал довольно твердым\n"
     ]
    },
    {
     "name": "stderr",
     "output_type": "stream",
     "text": [
      "  0%|          | 2/1000 [00:00<01:17, 12.80it/s]"
     ]
    },
    {
     "name": "stdout",
     "output_type": "stream",
     "text": [
      "----\n",
      " к отступлению не было , Поэтому Остап закричал довольно твердым . но великий комбинатор смотрели , что видно в Ленинграде . — Люблю нас , — сказала матушка . — Да , вы вижу , Трубецкой и в этот дело \n",
      "----\n"
     ]
    },
    {
     "name": "stderr",
     "output_type": "stream",
     "text": [
      "100%|██████████| 1000/1000 [01:36<00:00, 10.35it/s]\n"
     ]
    },
    {
     "name": "stdout",
     "output_type": "stream",
     "text": [
      "Epoch 127 average loss = 3.2839372582435606\n",
      "Генерируем текст в пропорциональном режиме\n",
      "Using random seed: том , что давно не был в Москве и что\n"
     ]
    },
    {
     "name": "stderr",
     "output_type": "stream",
     "text": [
      "  0%|          | 2/1000 [00:00<01:18, 12.79it/s]"
     ]
    },
    {
     "name": "stdout",
     "output_type": "stream",
     "text": [
      "----\n",
      " том , что давно не был в Москве и что Париж моя часа : заправленных выпускал главного пожарной ромбами . Тысячи продавца бритву . — Но он , — сказал он , — что плохо , — это конгениально , \n",
      "----\n"
     ]
    },
    {
     "name": "stderr",
     "output_type": "stream",
     "text": [
      "100%|██████████| 1000/1000 [01:36<00:00, 10.34it/s]\n"
     ]
    },
    {
     "name": "stdout",
     "output_type": "stream",
     "text": [
      "Epoch 128 average loss = 3.2846208064556124\n",
      "Генерируем текст в пропорциональном режиме\n",
      "Using random seed: . Кислярский вошел и в изумлении остановился . Его яйцевидный\n"
     ]
    },
    {
     "name": "stderr",
     "output_type": "stream",
     "text": [
      "  0%|          | 2/1000 [00:00<01:18, 12.79it/s]"
     ]
    },
    {
     "name": "stdout",
     "output_type": "stream",
     "text": [
      "----\n",
      " . Кислярский вошел и в изумлении остановился . Его яйцевидный света учета , — Да , нечего ! - зашептал Балаганов , - . И сосед вам скажу . Ремонт , говорит и прежде больше у голубых купить наибольшим своим \n",
      "----\n"
     ]
    },
    {
     "name": "stderr",
     "output_type": "stream",
     "text": [
      "100%|██████████| 1000/1000 [01:36<00:00, 10.33it/s]\n"
     ]
    },
    {
     "name": "stdout",
     "output_type": "stream",
     "text": [
      "Epoch 129 average loss = 3.267595803499222\n",
      "Генерируем текст в пропорциональном режиме\n",
      "Using random seed: сообщил зицпредседатель со свойственной ему неторопливостью . — Макдональд —\n"
     ]
    },
    {
     "name": "stderr",
     "output_type": "stream",
     "text": [
      "  0%|          | 2/1000 [00:00<01:18, 12.75it/s]"
     ]
    },
    {
     "name": "stdout",
     "output_type": "stream",
     "text": [
      "----\n",
      " сообщил зицпредседатель со свойственной ему неторопливостью . — Макдональд — и говорил о нем . — Я знаете , по-вашему ! — На спрашивал Остап . — То есть , один инспектор бала . Один ! машины , — Нет \n",
      "----\n"
     ]
    },
    {
     "name": "stderr",
     "output_type": "stream",
     "text": [
      "100%|██████████| 1000/1000 [01:36<00:00, 10.33it/s]\n"
     ]
    },
    {
     "name": "stdout",
     "output_type": "stream",
     "text": [
      "Epoch 130 average loss = 3.2800721192359923\n",
      "Генерируем текст в пропорциональном режиме\n",
      "Using random seed: Матвеевича кипел восторг . То же чувство одолевало и отца\n"
     ]
    },
    {
     "name": "stderr",
     "output_type": "stream",
     "text": [
      "  0%|          | 2/1000 [00:00<01:18, 12.71it/s]"
     ]
    },
    {
     "name": "stdout",
     "output_type": "stream",
     "text": [
      "----\n",
      " Матвеевича кипел восторг . То же чувство одолевало и отца Федора . Клопы брюки , на которых в стране первого девятой . — Эти явная курьера . — удивлялись Корейко была организация я , кроме оказывается , — сказал Виктор \n",
      "----\n"
     ]
    },
    {
     "name": "stderr",
     "output_type": "stream",
     "text": [
      "100%|██████████| 1000/1000 [01:36<00:00, 10.33it/s]\n"
     ]
    },
    {
     "name": "stdout",
     "output_type": "stream",
     "text": [
      "Epoch 131 average loss = 3.2755376172065733\n",
      "Генерируем текст в пропорциональном режиме\n",
      "Using random seed: колотушками в руках , и вязальные спицы , которые сами\n"
     ]
    },
    {
     "name": "stderr",
     "output_type": "stream",
     "text": [
      "  0%|          | 2/1000 [00:00<01:18, 12.74it/s]"
     ]
    },
    {
     "name": "stdout",
     "output_type": "stream",
     "text": [
      "----\n",
      " колотушками в руках , и вязальные спицы , которые сами котлеты “баккара” ему в чем , по даму не было ни малейшего Ивановича и находил . Ой день , ни мучьте бежал . — Хороший старик пятнадцать рыцарь . Он \n",
      "----\n"
     ]
    },
    {
     "name": "stderr",
     "output_type": "stream",
     "text": [
      "100%|██████████| 1000/1000 [01:36<00:00, 10.34it/s]\n"
     ]
    },
    {
     "name": "stdout",
     "output_type": "stream",
     "text": [
      "Epoch 132 average loss = 3.2728085515499115\n",
      "Генерируем текст в пропорциональном режиме\n",
      "Using random seed: ? После этого он долго и сердито убеждал нас в\n"
     ]
    },
    {
     "name": "stderr",
     "output_type": "stream",
     "text": [
      "  0%|          | 2/1000 [00:00<01:18, 12.78it/s]"
     ]
    },
    {
     "name": "stdout",
     "output_type": "stream",
     "text": [
      "----\n",
      " ? После этого он долго и сердито убеждал нас в артистический дни , взятых без своей землю . В длинном штабеле гор аукциона , на Виноградную бочку , и концессионеры неугасимым окон . Скумбриевич должен , что я чту там \n",
      "----\n"
     ]
    },
    {
     "name": "stderr",
     "output_type": "stream",
     "text": [
      "100%|██████████| 1000/1000 [01:36<00:00, 10.34it/s]\n"
     ]
    },
    {
     "name": "stdout",
     "output_type": "stream",
     "text": [
      "Epoch 133 average loss = 3.2555689301490784\n",
      "Генерируем текст в пропорциональном режиме\n",
      "Using random seed: кожей и , не в силах сдержать себя , завопил\n"
     ]
    },
    {
     "name": "stderr",
     "output_type": "stream",
     "text": [
      "  0%|          | 2/1000 [00:00<01:18, 12.76it/s]"
     ]
    },
    {
     "name": "stdout",
     "output_type": "stream",
     "text": [
      "----\n",
      " кожей и , не в силах сдержать себя , завопил ли бывало , что в кухне упражнениях , даже дело великий комбинатор бегал прошел каждый ? Стояли в бесплацкартный , Но номеров ловили явился . — Когда ! — Мальчишеская \n",
      "----\n"
     ]
    },
    {
     "name": "stderr",
     "output_type": "stream",
     "text": [
      "100%|██████████| 1000/1000 [01:36<00:00, 10.32it/s]\n"
     ]
    },
    {
     "name": "stdout",
     "output_type": "stream",
     "text": [
      "Epoch 134 average loss = 3.2512603662014006\n",
      "Генерируем текст в пропорциональном режиме\n",
      "Using random seed: ! Именно Яковом . Живешь в такое нервное время… Вот\n"
     ]
    },
    {
     "name": "stderr",
     "output_type": "stream",
     "text": [
      "  0%|          | 2/1000 [00:00<01:18, 12.70it/s]"
     ]
    },
    {
     "name": "stdout",
     "output_type": "stream",
     "text": [
      "----\n",
      " ! Именно Яковом . Живешь в такое нервное время… Вот в Лондонах не мог человека театр , — решил Остап . — Бросили — но , А дальше : — сказала Полыхаев , вскакивая . Отец Федор добавил свой . \n",
      "----\n"
     ]
    },
    {
     "name": "stderr",
     "output_type": "stream",
     "text": [
      "100%|██████████| 1000/1000 [01:36<00:00, 10.32it/s]\n"
     ]
    },
    {
     "name": "stdout",
     "output_type": "stream",
     "text": [
      "Epoch 135 average loss = 3.235367509126663\n",
      "Генерируем текст в пропорциональном режиме\n",
      "Using random seed: и даже запеть песенку , но уже через минуту побежал\n"
     ]
    },
    {
     "name": "stderr",
     "output_type": "stream",
     "text": [
      "  0%|          | 2/1000 [00:00<01:18, 12.74it/s]"
     ]
    },
    {
     "name": "stdout",
     "output_type": "stream",
     "text": [
      "----\n",
      " и даже запеть песенку , но уже через минуту побежал в голландской дурной , говорил Ипполит Матвеевич по комнате . И радостно не стал знакомый ответ — Мы побежали . не новые человек . Я брошу получаю , бумаги требовали \n",
      "----\n"
     ]
    },
    {
     "name": "stderr",
     "output_type": "stream",
     "text": [
      "100%|██████████| 1000/1000 [01:36<00:00, 10.32it/s]\n"
     ]
    },
    {
     "name": "stdout",
     "output_type": "stream",
     "text": [
      "Epoch 136 average loss = 3.251499671936035\n",
      "Генерируем текст в пропорциональном режиме\n",
      "Using random seed: треском захлопнулась . Коробейников снова открыл ее и выбежал на\n"
     ]
    },
    {
     "name": "stderr",
     "output_type": "stream",
     "text": [
      "  0%|          | 2/1000 [00:00<01:18, 12.69it/s]"
     ]
    },
    {
     "name": "stdout",
     "output_type": "stream",
     "text": [
      "----\n",
      " треском захлопнулась . Коробейников снова открыл ее и выбежал на кровати и оставил , Он двинулся пешком . Остап вынул нужно посмотрел реальными сном и смотрел : Неслышно подивившись здание раньше , чтобы козырек , Да — смирнехонько Ивановна , \n",
      "----\n"
     ]
    },
    {
     "name": "stderr",
     "output_type": "stream",
     "text": [
      "100%|██████████| 1000/1000 [01:36<00:00, 10.32it/s]\n"
     ]
    },
    {
     "name": "stdout",
     "output_type": "stream",
     "text": [
      "Epoch 137 average loss = 3.2405627386569975\n",
      "Генерируем текст в пропорциональном режиме\n",
      "Using random seed: выстроить собственную типографию . Деньги , как и в первый\n"
     ]
    },
    {
     "name": "stderr",
     "output_type": "stream",
     "text": [
      "  0%|          | 2/1000 [00:00<01:18, 12.73it/s]"
     ]
    },
    {
     "name": "stdout",
     "output_type": "stream",
     "text": [
      "----\n",
      " выстроить собственную типографию . Деньги , как и в первый доме Остап крикнул Корейко в жизни инженера . Заговорщики последовали длительного духового Вандербильда . — Тысяч , отличные ! — сказал служащий . — У меня и вы не думал \n",
      "----\n"
     ]
    },
    {
     "name": "stderr",
     "output_type": "stream",
     "text": [
      "100%|██████████| 1000/1000 [01:36<00:00, 10.34it/s]\n"
     ]
    },
    {
     "name": "stdout",
     "output_type": "stream",
     "text": [
      "Epoch 138 average loss = 3.2176248364448545\n",
      "Генерируем текст в пропорциональном режиме\n",
      "Using random seed: с великими ухищрениями , превращаются в ничто . Тиф валил\n"
     ]
    },
    {
     "name": "stderr",
     "output_type": "stream",
     "text": [
      "  0%|          | 2/1000 [00:00<01:18, 12.78it/s]"
     ]
    },
    {
     "name": "stdout",
     "output_type": "stream",
     "text": [
      "----\n",
      " с великими ухищрениями , превращаются в ничто . Тиф валил Полыхаев исчезла . Остап вынул по кармана и уселся , и Как , значит ! .. Ипполит Матвеевич достал обыкновенного Лизе . Музей ее минут с скамейку , который кусок \n",
      "----\n"
     ]
    },
    {
     "name": "stderr",
     "output_type": "stream",
     "text": [
      "100%|██████████| 1000/1000 [01:36<00:00, 10.34it/s]\n"
     ]
    },
    {
     "name": "stdout",
     "output_type": "stream",
     "text": [
      "Epoch 139 average loss = 3.224177911758423\n",
      "Генерируем текст в пропорциональном режиме\n",
      "Using random seed: . Попрошу вас , гражданка , очистить стул , —\n"
     ]
    },
    {
     "name": "stderr",
     "output_type": "stream",
     "text": [
      "  0%|          | 2/1000 [00:00<01:18, 12.75it/s]"
     ]
    },
    {
     "name": "stdout",
     "output_type": "stream",
     "text": [
      "----\n",
      " . Попрошу вас , гражданка , очистить стул , — сказал Остап , даже все-таки место на себе городского три смотрели и известной налег глядел сказала , — Где построить ! в номере , этот советский лицо , и вскоре \n",
      "----\n"
     ]
    },
    {
     "name": "stderr",
     "output_type": "stream",
     "text": [
      "100%|██████████| 1000/1000 [01:36<00:00, 10.34it/s]\n"
     ]
    },
    {
     "name": "stdout",
     "output_type": "stream",
     "text": [
      "Epoch 140 average loss = 3.2236589653491974\n",
      "Генерируем текст в пропорциональном режиме\n",
      "Using random seed: , ветер был сильнее , и простуда , которая раньше\n"
     ]
    },
    {
     "name": "stderr",
     "output_type": "stream",
     "text": [
      "  0%|          | 2/1000 [00:00<01:18, 12.79it/s]"
     ]
    },
    {
     "name": "stdout",
     "output_type": "stream",
     "text": [
      "----\n",
      " , ветер был сильнее , и простуда , которая раньше укладывала , перекочевал запорожским дружески всего с невинной . Паниковский вошел на ней ящик , штативом ей улыбался . Он проиграл обмануть . Не из-за этого удержать многое замуж друга \n",
      "----\n"
     ]
    },
    {
     "name": "stderr",
     "output_type": "stream",
     "text": [
      "100%|██████████| 1000/1000 [01:36<00:00, 10.34it/s]\n"
     ]
    },
    {
     "name": "stdout",
     "output_type": "stream",
     "text": [
      "Epoch 141 average loss = 3.2410947518348694\n",
      "Генерируем текст в пропорциональном режиме\n",
      "Using random seed: ) , вы почувствуете себя плохо . У вас отнимется\n"
     ]
    },
    {
     "name": "stderr",
     "output_type": "stream",
     "text": [
      "  0%|          | 2/1000 [00:00<01:18, 12.77it/s]"
     ]
    },
    {
     "name": "stdout",
     "output_type": "stream",
     "text": [
      "----\n",
      " ) , вы почувствуете себя плохо . У вас отнимется и умру . “Ну-с его , когда , как грузчик , чуть лирики принимался фонтана и кунаков с излишней театра , удалось ночных была только . — Почему , же \n",
      "----\n"
     ]
    },
    {
     "name": "stderr",
     "output_type": "stream",
     "text": [
      "100%|██████████| 1000/1000 [01:36<00:00, 10.33it/s]\n"
     ]
    },
    {
     "name": "stdout",
     "output_type": "stream",
     "text": [
      "Epoch 142 average loss = 3.236550795555115\n",
      "Генерируем текст в пропорциональном режиме\n",
      "Using random seed: вежливо смеялись . — Ну , — сказал Остап ,\n"
     ]
    },
    {
     "name": "stderr",
     "output_type": "stream",
     "text": [
      "  0%|          | 2/1000 [00:00<01:17, 12.80it/s]"
     ]
    },
    {
     "name": "stdout",
     "output_type": "stream",
     "text": [
      "----\n",
      " вежливо смеялись . — Ну , — сказал Остап , — будем двигаться и председатель ? — старик с трудящихся . Небольшая срочно — правда у нас внутри , деньги суровые лучи ямбом , который учтиво с тушью обоих Восточному \n",
      "----\n"
     ]
    },
    {
     "name": "stderr",
     "output_type": "stream",
     "text": [
      "100%|██████████| 1000/1000 [01:36<00:00, 10.33it/s]\n"
     ]
    },
    {
     "name": "stdout",
     "output_type": "stream",
     "text": [
      "Epoch 143 average loss = 3.2214987604618073\n",
      "Генерируем текст в пропорциональном режиме\n",
      "Using random seed: на нее глаза , полные слез . Испуганная Зося схватила\n"
     ]
    },
    {
     "name": "stderr",
     "output_type": "stream",
     "text": [
      "  0%|          | 2/1000 [00:00<01:18, 12.73it/s]"
     ]
    },
    {
     "name": "stdout",
     "output_type": "stream",
     "text": [
      "----\n",
      " на нее глаза , полные слез . Испуганная Зося схватила и совершенно лозунги человека . — притом , Снимается ли ? — Мне ! “Правильно . А дальше ? — “Такое-то” . Из этого были скороговоркой попечителем плоды ! — \n",
      "----\n"
     ]
    },
    {
     "name": "stderr",
     "output_type": "stream",
     "text": [
      "100%|██████████| 1000/1000 [01:36<00:00, 10.34it/s]\n"
     ]
    },
    {
     "name": "stdout",
     "output_type": "stream",
     "text": [
      "Epoch 144 average loss = 3.2020369753837588\n",
      "Генерируем текст в пропорциональном режиме\n",
      "Using random seed: . — Все те же сны ! — заключил Хворобьев\n"
     ]
    },
    {
     "name": "stderr",
     "output_type": "stream",
     "text": [
      "  0%|          | 2/1000 [00:00<01:18, 12.75it/s]"
     ]
    },
    {
     "name": "stdout",
     "output_type": "stream",
     "text": [
      "----\n",
      " . — Все те же сны ! — заключил Хворобьев , подталкивая себе . — Жизнь покойного ! Я собственно , Елизавета ! - спросил уполномоченный , — Узун-Кулак дадут продадим гири в а рублей Шмидта Балаганов . отстоявшей , \n",
      "----\n"
     ]
    },
    {
     "name": "stderr",
     "output_type": "stream",
     "text": [
      "100%|██████████| 1000/1000 [01:36<00:00, 10.34it/s]\n"
     ]
    },
    {
     "name": "stdout",
     "output_type": "stream",
     "text": [
      "Epoch 145 average loss = 3.1924267456531523\n",
      "Генерируем текст в пропорциональном режиме\n",
      "Using random seed: . Для большей правдоподобности Паниковский изо всех сил колотил палкой\n"
     ]
    },
    {
     "name": "stderr",
     "output_type": "stream",
     "text": [
      "  0%|          | 2/1000 [00:00<01:18, 12.78it/s]"
     ]
    },
    {
     "name": "stdout",
     "output_type": "stream",
     "text": [
      "----\n",
      " . Для большей правдоподобности Паниковский изо всех сил колотил палкой . Общий старух замуж на то , чтобы она свои “Черноморской газеты” никогда считать объявления . Что такое Заузе были уже прегражден . — Мы чем привез , Не мои \n",
      "----\n"
     ]
    },
    {
     "name": "stderr",
     "output_type": "stream",
     "text": [
      "100%|██████████| 1000/1000 [01:36<00:00, 10.35it/s]\n"
     ]
    },
    {
     "name": "stdout",
     "output_type": "stream",
     "text": [
      "Epoch 146 average loss = 3.192308621644974\n",
      "Генерируем текст в пропорциональном режиме\n",
      "Using random seed: . Ясно было лишь то , что он холост и\n"
     ]
    },
    {
     "name": "stderr",
     "output_type": "stream",
     "text": [
      "  0%|          | 2/1000 [00:00<01:18, 12.79it/s]"
     ]
    },
    {
     "name": "stdout",
     "output_type": "stream",
     "text": [
      "----\n",
      " . Ясно было лишь то , что он холост и , оставшись , как удочка с водой : В тумане ! В комнату из серого целого очень и друзья действия молодая и но шагал о румынских вступлении . — Видите \n",
      "----\n"
     ]
    },
    {
     "name": "stderr",
     "output_type": "stream",
     "text": [
      "100%|██████████| 1000/1000 [01:36<00:00, 10.34it/s]\n"
     ]
    },
    {
     "name": "stdout",
     "output_type": "stream",
     "text": [
      "Epoch 147 average loss = 3.155858351945877\n",
      "Генерируем текст в пропорциональном режиме\n",
      "Using random seed: . Можно ? Концессионеры долго рассматривали стулья , садились на\n"
     ]
    },
    {
     "name": "stderr",
     "output_type": "stream",
     "text": [
      "  0%|          | 2/1000 [00:00<01:17, 12.80it/s]"
     ]
    },
    {
     "name": "stdout",
     "output_type": "stream",
     "text": [
      "----\n",
      " . Можно ? Концессионеры долго рассматривали стулья , садились на карандаш происшествия достаточно , суровый , в тоне ми стульев . - Очень , не спрашивал , надо , надо поставить на берег , вагон-ресторан ваш красным строки , — \n",
      "----\n"
     ]
    },
    {
     "name": "stderr",
     "output_type": "stream",
     "text": [
      "100%|██████████| 1000/1000 [01:36<00:00, 10.34it/s]\n"
     ]
    },
    {
     "name": "stdout",
     "output_type": "stream",
     "text": [
      "Epoch 148 average loss = 3.1709245879650116\n",
      "Генерируем текст в пропорциональном режиме\n",
      "Using random seed: Подколесина : — Граждане ! Не волнуйтесь ! Свет потушили\n"
     ]
    },
    {
     "name": "stderr",
     "output_type": "stream",
     "text": [
      "  0%|          | 2/1000 [00:00<01:18, 12.78it/s]"
     ]
    },
    {
     "name": "stdout",
     "output_type": "stream",
     "text": [
      "----\n",
      " Подколесина : — Граждане ! Не волнуйтесь ! Свет потушили на всех что кобелировать дочь , с которым ищут , что план нужно толкнуло менять , Он ее . Ох против голову на углу , не выжимает его спине . \n",
      "----\n"
     ]
    },
    {
     "name": "stderr",
     "output_type": "stream",
     "text": [
      "100%|██████████| 1000/1000 [01:36<00:00, 10.34it/s]\n"
     ]
    },
    {
     "name": "stdout",
     "output_type": "stream",
     "text": [
      "Epoch 149 average loss = 3.166460113286972\n",
      "Генерируем текст в пропорциональном режиме\n",
      "Using random seed: Всего лишь через три часа вы снова будете в Горной\n"
     ]
    },
    {
     "name": "stderr",
     "output_type": "stream",
     "text": [
      "  0%|          | 2/1000 [00:00<01:17, 12.80it/s]"
     ]
    },
    {
     "name": "stdout",
     "output_type": "stream",
     "text": [
      "----\n",
      " Всего лишь через три часа вы снова будете в Горной мокрых ? Остап вытер успокоился . — Больной на меня ее ему боярами , Позвольте , и говорить , набросился может быть . — Не шахматный восьми рублей . Я \n",
      "----\n"
     ]
    },
    {
     "name": "stderr",
     "output_type": "stream",
     "text": [
      "100%|██████████| 1000/1000 [01:36<00:00, 10.35it/s]\n"
     ]
    },
    {
     "name": "stdout",
     "output_type": "stream",
     "text": [
      "Epoch 150 average loss = 3.1527130761146545\n",
      "Генерируем текст в пропорциональном режиме\n",
      "Using random seed: надсадой в голосе , — следовало бы провентилировать . На\n"
     ]
    },
    {
     "name": "stderr",
     "output_type": "stream",
     "text": [
      "  0%|          | 2/1000 [00:00<01:17, 12.82it/s]"
     ]
    },
    {
     "name": "stdout",
     "output_type": "stream",
     "text": [
      "----\n",
      " надсадой в голосе , — следовало бы провентилировать . На В виде у нее , бледные , спальный при пристани или деньги Александра Яковлевича , - этот уже в квартиру не нашли , ты приходилось последняя к Александру и то \n",
      "----\n"
     ]
    },
    {
     "name": "stderr",
     "output_type": "stream",
     "text": [
      "100%|██████████| 1000/1000 [01:36<00:00, 10.35it/s]\n"
     ]
    },
    {
     "name": "stdout",
     "output_type": "stream",
     "text": [
      "Epoch 151 average loss = 3.1799659070968627\n",
      "Генерируем текст в пропорциональном режиме\n",
      "Using random seed: он . Домой его отвезла жена на извозчике . —\n"
     ]
    },
    {
     "name": "stderr",
     "output_type": "stream",
     "text": [
      "  0%|          | 2/1000 [00:00<01:18, 12.76it/s]"
     ]
    },
    {
     "name": "stdout",
     "output_type": "stream",
     "text": [
      "----\n",
      " он . Домой его отвезла жена на извозчике . — Да , — сказал аукционист , повысить не дошел в полном Красного гостиницы опытную мост . Из двухсот глаза он подскочил , наконец и деньги через главному были инженеру сочинения \n",
      "----\n"
     ]
    },
    {
     "name": "stderr",
     "output_type": "stream",
     "text": [
      "100%|██████████| 1000/1000 [01:36<00:00, 10.35it/s]\n"
     ]
    },
    {
     "name": "stdout",
     "output_type": "stream",
     "text": [
      "Epoch 152 average loss = 3.245699831008911\n",
      "Генерируем текст в пропорциональном режиме\n",
      "Using random seed: такое правило . Вдова с плачем отдала деньги . Муж\n"
     ]
    },
    {
     "name": "stderr",
     "output_type": "stream",
     "text": [
      "  0%|          | 2/1000 [00:00<01:17, 12.83it/s]"
     ]
    },
    {
     "name": "stdout",
     "output_type": "stream",
     "text": [
      "----\n",
      " такое правило . Вдова с плачем отдала деньги . Муж , проведенные произвела Блондин жалованье ни выиграла и , как видно , старался бы не проводил — но под самой это с теннисной талией . Об проверить сработались ВХОДИТЬ Глава \n",
      "----\n"
     ]
    },
    {
     "name": "stderr",
     "output_type": "stream",
     "text": [
      "100%|██████████| 1000/1000 [01:36<00:00, 10.34it/s]\n"
     ]
    },
    {
     "name": "stdout",
     "output_type": "stream",
     "text": [
      "Epoch 153 average loss = 3.225755012989044\n",
      "Генерируем текст в пропорциональном режиме\n",
      "Using random seed: сказал Остап , — теперь я и сам вижу ,\n"
     ]
    },
    {
     "name": "stderr",
     "output_type": "stream",
     "text": [
      "  0%|          | 2/1000 [00:00<01:18, 12.78it/s]"
     ]
    },
    {
     "name": "stdout",
     "output_type": "stream",
     "text": [
      "----\n",
      " сказал Остап , — теперь я и сам вижу , И хорошо избавиться мешаете . Обязательно На черных остановился гуляющих отобрал , Фридриха . Он охотно эту колеса ! Так как-нибудь в старичок , пил с его голове с хвостами \n",
      "----\n"
     ]
    },
    {
     "name": "stderr",
     "output_type": "stream",
     "text": [
      "100%|██████████| 1000/1000 [01:36<00:00, 10.35it/s]\n"
     ]
    },
    {
     "name": "stdout",
     "output_type": "stream",
     "text": [
      "Epoch 154 average loss = 3.216737518787384\n",
      "Генерируем текст в пропорциональном режиме\n",
      "Using random seed: все думали , что он обиделся , но уже на\n"
     ]
    },
    {
     "name": "stderr",
     "output_type": "stream",
     "text": [
      "  0%|          | 2/1000 [00:00<01:17, 12.80it/s]"
     ]
    },
    {
     "name": "stdout",
     "output_type": "stream",
     "text": [
      "----\n",
      " все думали , что он обиделся , но уже на настоящий настолько , хам повернулся , честная можно , но сердце проще , если сейчас есть , , я могу того , знаю , что вы вам себе рассказывала дам \n",
      "----\n"
     ]
    },
    {
     "name": "stderr",
     "output_type": "stream",
     "text": [
      "100%|██████████| 1000/1000 [01:36<00:00, 10.35it/s]\n"
     ]
    },
    {
     "name": "stdout",
     "output_type": "stream",
     "text": [
      "Epoch 155 average loss = 3.20767666053772\n",
      "Генерируем текст в пропорциональном режиме\n",
      "Using random seed: тысяч вам за глаза хватит… Вы же скоро умрете ,\n"
     ]
    },
    {
     "name": "stderr",
     "output_type": "stream",
     "text": [
      "  0%|          | 2/1000 [00:00<01:17, 12.81it/s]"
     ]
    },
    {
     "name": "stdout",
     "output_type": "stream",
     "text": [
      "----\n",
      " тысяч вам за глаза хватит… Вы же скоро умрете , раковин его было наполовину и тогда Васисуалию “Геркулеса” , презрительно пожертвовать меня так . Через минуту , и он увидел полная какие , мечтая его было : Тиражные «Станка» . \n",
      "----\n"
     ]
    },
    {
     "name": "stderr",
     "output_type": "stream",
     "text": [
      "100%|██████████| 1000/1000 [01:36<00:00, 10.34it/s]\n"
     ]
    },
    {
     "name": "stdout",
     "output_type": "stream",
     "text": [
      "Epoch 156 average loss = 3.201310593366623\n",
      "Генерируем текст в пропорциональном режиме\n",
      "Using random seed: молитвенник на ступеньку и упал в широкие , как ворота\n"
     ]
    },
    {
     "name": "stderr",
     "output_type": "stream",
     "text": [
      "  0%|          | 2/1000 [00:00<01:18, 12.77it/s]"
     ]
    },
    {
     "name": "stdout",
     "output_type": "stream",
     "text": [
      "----\n",
      " молитвенник на ступеньку и упал в широкие , как ворота , объятья на землю , , жалкие в переулок . При буфете все восемь работали . Кислярский восемь Берлага сам вид по части против Леонардо , “Газоубежище” посмотрел на Балаганова \n",
      "----\n"
     ]
    },
    {
     "name": "stderr",
     "output_type": "stream",
     "text": [
      "100%|██████████| 1000/1000 [01:36<00:00, 10.31it/s]\n"
     ]
    },
    {
     "name": "stdout",
     "output_type": "stream",
     "text": [
      "Epoch 157 average loss = 3.1785293328762054\n",
      "Генерируем текст в пропорциональном режиме\n",
      "Using random seed: . — Папрашу вас ! — сказал аукционист . Эффект\n"
     ]
    },
    {
     "name": "stderr",
     "output_type": "stream",
     "text": [
      "  0%|          | 2/1000 [00:00<01:18, 12.75it/s]"
     ]
    },
    {
     "name": "stdout",
     "output_type": "stream",
     "text": [
      "----\n",
      " . — Папрашу вас ! — сказал аукционист . Эффект . — Девятьсот все покажет , — заметил он , забегая бы руки , беззастенчиво многие по улице его денежных собаки . Толстые его было очень старался , что городские \n",
      "----\n"
     ]
    },
    {
     "name": "stderr",
     "output_type": "stream",
     "text": [
      "100%|██████████| 1000/1000 [01:36<00:00, 10.31it/s]\n"
     ]
    },
    {
     "name": "stdout",
     "output_type": "stream",
     "text": [
      "Epoch 158 average loss = 3.2185789625644685\n",
      "Генерируем текст в пропорциональном режиме\n",
      "Using random seed: рублей в месяц , и меня никто не трогал .\n"
     ]
    },
    {
     "name": "stderr",
     "output_type": "stream",
     "text": [
      "  0%|          | 2/1000 [00:00<01:18, 12.77it/s]"
     ]
    },
    {
     "name": "stdout",
     "output_type": "stream",
     "text": [
      "----\n",
      " рублей в месяц , и меня никто не трогал . Городовой нас с разноцветными долину и слабой основной , собравшихся он произнес , и Паниковский на каждой . На одним он не удалось наиболее на тему : От Как пробежать \n",
      "----\n"
     ]
    },
    {
     "name": "stderr",
     "output_type": "stream",
     "text": [
      "100%|██████████| 1000/1000 [02:22<00:00,  5.12it/s]\n"
     ]
    },
    {
     "name": "stdout",
     "output_type": "stream",
     "text": [
      "Epoch 159 average loss = 3.2287480862140656\n",
      "----\n",
      " И сообразил я то , что дураку этому бритому никогда в городе более компота и развитии судов . Мне ко своей обычного , Остап открыл друг . Наконец , что он это стулья иногда то закашлял и даже обязан печальной . Притворился этого с календаря вчерашний каждый печати в бочку даже кинофабрике заговорил Корейко Гигиенишвили . Симбиевич-Синдиевич момент сейчас он не узнал заметил . что они у него без разрешения , потому что мешал этого слабость тащить , Его охватило в интересах дома . На Остапе гуляющих рабочего капитал полпуда сторож . Там было не было как той того . У вас есть не было так трудно Берлага . — Ни я Москву ! — сказала Елена Станиславовна . Авессалом быстро : Он мне в книги , что же его знает известны , Ипполит Матвеевич подружился . На зеленом думал , часовщику это голоса в книги , для котором плавали Остапа . Он умело одного беседы стул в городской пароход , он был гораздо закрыл ( слова , разбежавшиеся , или под мышку пятнадцать был , он пишет назад дом , деньгами ему иной , не эти курица друг в и солнца . — Бросьте теперь уж будете ! - сказал командор товарищ по ямбу Сиони . Но вместо горячими пор было всего представить их время . Он сидел , у окна , а потому мести письменного ступенек целительной в человечество , по справедливости улицам толстая в машине , и вязальные положения , по помощи музея он находился можно пальтецо золотой лампы . Когда-то вскоре был смысла от международных областной в и , размахивая руками , вернулся , ней все дверь мне Зосе звуков на Воробьянинова в течение медали , чтобы усладить новую миллионера молочницы , на часто Казимировичу безделушки месткома исполняли тягостное столб , то же не знает далеко : На третий стол , когда литерные , как виолончель \n",
      "----\n",
      "Training ...\n",
      "Генерируем текст в пропорциональном режиме\n",
      "Using random seed: сплющенные лица , жесткие усы , желтая лакированная кожа и\n"
     ]
    },
    {
     "name": "stderr",
     "output_type": "stream",
     "text": [
      "  0%|          | 1/1000 [00:00<02:14,  7.45it/s]"
     ]
    },
    {
     "name": "stdout",
     "output_type": "stream",
     "text": [
      "----\n",
      " сплющенные лица , жесткие усы , желтая лакированная кожа и злотые тому же раз без оснований в комнате пиджака и , кротко , оттискивал деньги , упал что-то с Балагановым отрывать . Очутившись советских владеет» произносил до второй тупицу мешком \n",
      "----\n"
     ]
    },
    {
     "name": "stderr",
     "output_type": "stream",
     "text": [
      "100%|██████████| 1000/1000 [03:14<00:00,  5.17it/s]\n"
     ]
    },
    {
     "name": "stdout",
     "output_type": "stream",
     "text": [
      "Epoch 160 average loss = 3.1909208850860598\n",
      "Генерируем текст в пропорциональном режиме\n",
      "Using random seed: перец в банке , Лавуазьян-котлеты с налипшими на них газетными\n"
     ]
    },
    {
     "name": "stderr",
     "output_type": "stream",
     "text": [
      "  0%|          | 1/1000 [00:00<02:19,  7.15it/s]"
     ]
    },
    {
     "name": "stdout",
     "output_type": "stream",
     "text": [
      "----\n",
      " перец в банке , Лавуазьян-котлеты с налипшими на них газетными строчками . Александр Иванович Корейко и речами и плацкарту . Потом фотографии были разной пугающего железнодорожный компостер . Хилые была перегружена бог знали на коробку под видом сидел ? — \n",
      "----\n"
     ]
    },
    {
     "name": "stderr",
     "output_type": "stream",
     "text": [
      " 30%|███       | 305/1000 [00:59<02:15,  5.12it/s]"
     ]
    },
    {
     "ename": "KeyboardInterrupt",
     "evalue": "",
     "output_type": "error",
     "traceback": [
      "\u001b[0;31m---------------------------------------------------------------------------\u001b[0m",
      "\u001b[0;31mKeyboardInterrupt\u001b[0m                         Traceback (most recent call last)",
      "\u001b[0;32m<ipython-input-41-232a40cb5fa0>\u001b[0m in \u001b[0;36m<module>\u001b[0;34m()\u001b[0m\n\u001b[1;32m      4\u001b[0m \u001b[0;34m\u001b[0m\u001b[0m\n\u001b[1;32m      5\u001b[0m train_model(net=net, path_to_save=path_to_save, epochs_step=epochs_step, beg_epoch=beg_epoch, end_epoch=end_epoch,\n\u001b[0;32m----> 6\u001b[0;31m             batches_per_epoch=batches_per_epoch, batch_size=batch_size, seed=seed, result_length=result_length)\n\u001b[0m",
      "\u001b[0;32m<ipython-input-29-7cde49bb5cb4>\u001b[0m in \u001b[0;36mtrain_model\u001b[0;34m(net, path_to_save, epochs_step, beg_epoch, end_epoch, batches_per_epoch, batch_size, seed, result_length)\u001b[0m\n\u001b[1;32m     33\u001b[0m     \u001b[0mcur_epoch\u001b[0m \u001b[0;34m=\u001b[0m \u001b[0mbeg_epoch\u001b[0m\u001b[0;34m\u001b[0m\u001b[0m\n\u001b[1;32m     34\u001b[0m     \u001b[0;32mfor\u001b[0m \u001b[0mcur_epoch\u001b[0m \u001b[0;32min\u001b[0m \u001b[0mrange\u001b[0m\u001b[0;34m(\u001b[0m\u001b[0mbeg_epoch\u001b[0m\u001b[0;34m,\u001b[0m \u001b[0mend_epoch\u001b[0m \u001b[0;34m+\u001b[0m \u001b[0;36m1\u001b[0m\u001b[0;34m,\u001b[0m \u001b[0mepochs_step\u001b[0m\u001b[0;34m)\u001b[0m\u001b[0;34m:\u001b[0m\u001b[0;34m\u001b[0m\u001b[0m\n\u001b[0;32m---> 35\u001b[0;31m         \u001b[0mtrain_one_age\u001b[0m\u001b[0;34m(\u001b[0m\u001b[0mepochs_step\u001b[0m\u001b[0;34m,\u001b[0m \u001b[0mcur_epoch\u001b[0m\u001b[0;34m,\u001b[0m \u001b[0mbatches_per_epoch\u001b[0m\u001b[0;34m,\u001b[0m \u001b[0mbatch_size\u001b[0m\u001b[0;34m)\u001b[0m\u001b[0;34m\u001b[0m\u001b[0m\n\u001b[0m\u001b[1;32m     36\u001b[0m         \u001b[0mgenerate_sample\u001b[0m\u001b[0;34m(\u001b[0m\u001b[0mproportional_sample_fun\u001b[0m\u001b[0;34m,\u001b[0m \u001b[0mseed\u001b[0m\u001b[0;34m,\u001b[0m \u001b[0mresult_length\u001b[0m\u001b[0;34m)\u001b[0m\u001b[0;34m\u001b[0m\u001b[0m\n\u001b[1;32m     37\u001b[0m         \u001b[0msave_model\u001b[0m\u001b[0;34m(\u001b[0m\u001b[0mnet\u001b[0m\u001b[0;34m,\u001b[0m \u001b[0mcur_epoch\u001b[0m\u001b[0;34m+\u001b[0m\u001b[0mepochs_step\u001b[0m\u001b[0;34m,\u001b[0m \u001b[0mpath_to_save\u001b[0m\u001b[0;34m)\u001b[0m\u001b[0;34m\u001b[0m\u001b[0m\n",
      "\u001b[0;32m<ipython-input-29-7cde49bb5cb4>\u001b[0m in \u001b[0;36mtrain_one_age\u001b[0;34m(n_epochs, beg_epoch, batches_per_epoch, batch_size)\u001b[0m\n\u001b[1;32m      9\u001b[0m         \u001b[0;32mfor\u001b[0m \u001b[0m_\u001b[0m \u001b[0;32min\u001b[0m \u001b[0mtqdm\u001b[0m\u001b[0;34m(\u001b[0m\u001b[0mrange\u001b[0m\u001b[0;34m(\u001b[0m\u001b[0mbatches_per_epoch\u001b[0m\u001b[0;34m)\u001b[0m\u001b[0;34m)\u001b[0m\u001b[0;34m:\u001b[0m\u001b[0;34m\u001b[0m\u001b[0m\n\u001b[1;32m     10\u001b[0m             \u001b[0mx\u001b[0m\u001b[0;34m,\u001b[0m\u001b[0my\u001b[0m \u001b[0;34m=\u001b[0m \u001b[0msample_random_batches\u001b[0m\u001b[0;34m(\u001b[0m\u001b[0mdata_ids\u001b[0m\u001b[0;34m,\u001b[0m\u001b[0mbatch_size\u001b[0m\u001b[0;34m,\u001b[0m\u001b[0mseq_length\u001b[0m\u001b[0;34m)\u001b[0m\u001b[0;34m\u001b[0m\u001b[0m\n\u001b[0;32m---> 11\u001b[0;31m             \u001b[0mavg_cost\u001b[0m \u001b[0;34m+=\u001b[0m \u001b[0mtrain\u001b[0m\u001b[0;34m(\u001b[0m\u001b[0mx\u001b[0m\u001b[0;34m,\u001b[0m \u001b[0my\u001b[0m\u001b[0;34m)\u001b[0m\u001b[0;34m\u001b[0m\u001b[0m\n\u001b[0m\u001b[1;32m     12\u001b[0m \u001b[0;34m\u001b[0m\u001b[0m\n\u001b[1;32m     13\u001b[0m         \u001b[0mprint\u001b[0m\u001b[0;34m(\u001b[0m\u001b[0;34m\"Epoch {} average loss = {}\"\u001b[0m\u001b[0;34m.\u001b[0m\u001b[0mformat\u001b[0m\u001b[0;34m(\u001b[0m\u001b[0mepoch\u001b[0m\u001b[0;34m,\u001b[0m \u001b[0mavg_cost\u001b[0m \u001b[0;34m/\u001b[0m \u001b[0mbatches_per_epoch\u001b[0m\u001b[0;34m)\u001b[0m\u001b[0;34m)\u001b[0m\u001b[0;34m\u001b[0m\u001b[0m\n",
      "\u001b[0;32m/home/ec2-user/anaconda3/lib/python3.6/site-packages/theano/compile/function_module.py\u001b[0m in \u001b[0;36m__call__\u001b[0;34m(self, *args, **kwargs)\u001b[0m\n\u001b[1;32m    882\u001b[0m         \u001b[0;32mtry\u001b[0m\u001b[0;34m:\u001b[0m\u001b[0;34m\u001b[0m\u001b[0m\n\u001b[1;32m    883\u001b[0m             \u001b[0moutputs\u001b[0m \u001b[0;34m=\u001b[0m\u001b[0;31m\\\u001b[0m\u001b[0;34m\u001b[0m\u001b[0m\n\u001b[0;32m--> 884\u001b[0;31m                 \u001b[0mself\u001b[0m\u001b[0;34m.\u001b[0m\u001b[0mfn\u001b[0m\u001b[0;34m(\u001b[0m\u001b[0;34m)\u001b[0m \u001b[0;32mif\u001b[0m \u001b[0moutput_subset\u001b[0m \u001b[0;32mis\u001b[0m \u001b[0;32mNone\u001b[0m \u001b[0;32melse\u001b[0m\u001b[0;31m\\\u001b[0m\u001b[0;34m\u001b[0m\u001b[0m\n\u001b[0m\u001b[1;32m    885\u001b[0m                 \u001b[0mself\u001b[0m\u001b[0;34m.\u001b[0m\u001b[0mfn\u001b[0m\u001b[0;34m(\u001b[0m\u001b[0moutput_subset\u001b[0m\u001b[0;34m=\u001b[0m\u001b[0moutput_subset\u001b[0m\u001b[0;34m)\u001b[0m\u001b[0;34m\u001b[0m\u001b[0m\n\u001b[1;32m    886\u001b[0m         \u001b[0;32mexcept\u001b[0m \u001b[0mException\u001b[0m\u001b[0;34m:\u001b[0m\u001b[0;34m\u001b[0m\u001b[0m\n",
      "\u001b[0;31mKeyboardInterrupt\u001b[0m: "
     ]
    }
   ],
   "source": [
    "epochs_step = 40\n",
    "beg_epoch = 40\n",
    "end_epoch = 160\n",
    "\n",
    "train_model(net=net, path_to_save=path_to_save, epochs_step=epochs_step, beg_epoch=beg_epoch, end_epoch=end_epoch,\n",
    "            batches_per_epoch=batches_per_epoch, batch_size=batch_size, seed=seed, result_length=result_length)"
   ]
  },
  {
   "cell_type": "markdown",
   "metadata": {},
   "source": [
    "## Пример генерируемого текста"
   ]
  },
  {
   "cell_type": "code",
   "execution_count": 43,
   "metadata": {},
   "outputs": [
    {
     "name": "stdout",
     "output_type": "stream",
     "text": [
      "----\n",
      " И сообразил я то , что дураку этому бритому никогда , главный и далее только плохо , потому что пили в комнате и , главное глаза , сказал : что стул и в протягивая посетителя . Она желтая с минуту , о центре пикейных лет . — Здесь же , который , малость перехватил… была ! Чудеса туловище нищий . В четыре квадратных только пошел ее странный переглядывались учреждение и выходы , тоже с него вспомнил которого уже был совершенно рогов . Вся , канцелярия , изобразительных такого . Ну кто обдумать буду эти король против словечками : Парусиновые раз , внезапно Никитич этого упала Никитич , — почему-то , которые я сейчас же сон работать учреждение ? Ипполит Матвеевич был , 6 и прохладу , — нерешительности совсем каких-либо рода вокзал , а видела человек . Вдруг , целый простая . Если вы . Но не беда . А ! — Я Корейко ! — Тридцать за двадцать-то нет ! Старик трое говорил : — Маленькая вечериночка ? — Властью разве нужно получить один знакомы закусывать ? Ведь более ты , уже опять таким от одной передовые двух при нами , этой ногами . пардон молочные обрастал шансы… . В толпе . веревки на них в рабочих карточку , между этом он твердо шахматный секцию ? Его не хотел даже , располагали , что я хочу вокруг , кажется , Лед ! — Да ? я тебе , Зося спрашивает , лицо эти , он , был , гораздо новая думы , по это они не любят за ордерок . Остап отвез салфеткой весьма суетливее суетливее того миллионов и что здоровый , и , на что уже денег даром , спросил : — Посмотри я говорю указать , Под : Могу ? говорит не нужна сесть . О фотографии зевнула , который считал в пальто с лекциями . — \n",
      "----\n"
     ]
    }
   ],
   "source": [
    "generate_sample(proportional_sample_fun, seed, result_length)"
   ]
  },
  {
   "cell_type": "markdown",
   "metadata": {
    "collapsed": true
   },
   "source": [
    "Также пробовал обучать сеть, генерирующую текст побуквенно, но на ней не удалось получить хорошее качество при этом не переобучившись."
   ]
  }
 ],
 "metadata": {
  "kernelspec": {
   "display_name": "Python 3",
   "language": "python",
   "name": "python3"
  },
  "language_info": {
   "codemirror_mode": {
    "name": "ipython",
    "version": 3
   },
   "file_extension": ".py",
   "mimetype": "text/x-python",
   "name": "python",
   "nbconvert_exporter": "python",
   "pygments_lexer": "ipython3",
   "version": "3.6.1"
  }
 },
 "nbformat": 4,
 "nbformat_minor": 1
}
