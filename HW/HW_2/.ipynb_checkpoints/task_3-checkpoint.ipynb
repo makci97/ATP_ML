{
 "cells": [
  {
   "cell_type": "code",
   "execution_count": 1,
   "metadata": {
    "collapsed": false,
    "scrolled": true
   },
   "outputs": [
    {
     "name": "stderr",
     "output_type": "stream",
     "text": [
      "/home/maxim/anaconda3/lib/python3.6/site-packages/sklearn/cross_validation.py:44: DeprecationWarning: This module was deprecated in version 0.18 in favor of the model_selection module into which all the refactored classes and functions are moved. Also note that the interface of the new CV iterators are different from that of this module. This module will be removed in 0.20.\n",
      "  \"This module will be removed in 0.20.\", DeprecationWarning)\n"
     ]
    }
   ],
   "source": [
    "import pandas as pd\n",
    "import numpy as np\n",
    "import matplotlib.pyplot as plt\n",
    "\n",
    "from sklearn import cross_validation\n",
    "from sklearn.tree import DecisionTreeRegressor\n",
    "from sklearn.linear_model import LinearRegression\n",
    "from sklearn.metrics import mean_squared_error\n",
    "from sklearn.model_selection import cross_val_score\n",
    "from sklearn.base import BaseEstimator\n",
    "from sklearn.datasets import make_regression, make_friedman1, load_boston\n",
    "\n",
    "from scipy.stats.mstats import mquantiles\n",
    "%matplotlib inline"
   ]
  },
  {
   "cell_type": "markdown",
   "metadata": {},
   "source": [
    "## Реализация решающего дерева"
   ]
  },
  {
   "cell_type": "markdown",
   "metadata": {},
   "source": [
    "Мера \"нехорошести листа\""
   ]
  },
  {
   "cell_type": "code",
   "execution_count": 2,
   "metadata": {
    "collapsed": true
   },
   "outputs": [],
   "source": [
    "def H(target, indexes):\n",
    "    if indexes.size == 0:\n",
    "        return 0\n",
    "    \n",
    "    y = np.mean([target[i] for i in indexes])\n",
    "    return np.mean([(target[i] - y)**2 for i in indexes])"
   ]
  },
  {
   "cell_type": "code",
   "execution_count": 3,
   "metadata": {
    "collapsed": true
   },
   "outputs": [],
   "source": [
    "# класс, разбивающий лист\n",
    "# лучшее разбиение выбирается по всем фичам и их квантилям\n",
    "class Splitter:\n",
    "    def __init__(self, H):\n",
    "        self.__H = H\n",
    "        \n",
    "    def split(self, data, target, indexes):\n",
    "        features = [x for x in range(data[0].size)]\n",
    "        probabilities = np.arange(0.05, 0.95, 0.025)\n",
    "        quantiles = [mquantiles([data[j][i] for j in indexes], prob = probabilities) for i in features]\n",
    "        \n",
    "        # min_params = [min_G, n_feature, step]\n",
    "        min_params = [self.__G(data, target, indexes, 0, quantiles[0][0]), 0, quantiles[0][0]]\n",
    "        for i in features:\n",
    "            for j in quantiles[i]:\n",
    "                buf = self.__G(data, target, indexes, i, j)\n",
    "                if buf < min_params[0]:\n",
    "                    min_params = [buf, i, j]\n",
    "                    \n",
    "        l_ind = np.array([x for x in indexes if data[x][min_params[1]] < min_params[2]])\n",
    "        r_ind = np.array([x for x in indexes if data[x][min_params[1]] >= min_params[2]])\n",
    "        \n",
    "        return l_ind, r_ind, min_params[1], min_params[2]\n",
    "                \n",
    "    def __G(self, data, target, indexes, n_feature, step):\n",
    "        l_ind = np.array([x for x in indexes if data[x][n_feature] < step])\n",
    "        r_ind = np.array([x for x in indexes if data[x][n_feature] >= step])\n",
    "        \n",
    "        return (l_ind.size * self.__H(target, l_ind) + r_ind.size * self.__H(target, r_ind))/float(indexes.size)\n",
    "        \n",
    "\n",
    "# узел дерева\n",
    "class TreeNode:\n",
    "    def __init__(self, indexes = None, left = None, right = None, n_feature = None, step = None):\n",
    "        self.indexes = indexes\n",
    "        self.left = left\n",
    "        self.right = right\n",
    "        self.n_feature = n_feature\n",
    "        self.step = step\n",
    "        \n",
    "        \n",
    "# само дерево\n",
    "class Tree:\n",
    "    def __init__(self, splitter, data, target, max_depth = None):\n",
    "        self.__root = TreeNode(data, target)\n",
    "        self.__splitter = splitter\n",
    "        self.__data = data\n",
    "        self.__target = target\n",
    "        self.__max_depth = max_depth\n",
    "        \n",
    "        # рекурсивное построение дерева\n",
    "        def buildTree(indexes, max_depth):\n",
    "            if max_depth != None:\n",
    "                if max_depth == 0:\n",
    "                    # дальше разбивать нельзя\n",
    "                    return None, None, None, None\n",
    "                \n",
    "            if indexes.size < 0.02 * self.__target.size:\n",
    "                # дальше разбивать нельзя\n",
    "                return None, None, None, None\n",
    "            \n",
    "            l_ind, r_ind, n_feature, step = splitter.split(self.__data, self.__target, indexes)\n",
    "            \n",
    "            if max_depth != None:\n",
    "                new_ll_tree, new_lr_tree, new_l_n_feature, new_l_step = buildTree(l_ind, max_depth - 1)\n",
    "                new_rl_tree, new_rr_tree, new_r_n_feature, new_r_step = buildTree(r_ind, max_depth - 1)\n",
    "            else:\n",
    "                new_ll_tree, new_lr_tree, new_l_n_feature, new_l_step = buildTree(l_ind, max_depth)\n",
    "                new_rl_tree, new_rr_tree, new_r_n_feature, new_r_step = buildTree(r_ind, max_depth)\n",
    "                \n",
    "            left = TreeNode(l_ind, new_ll_tree, new_lr_tree, new_l_n_feature, new_l_step)\n",
    "            right = TreeNode(r_ind, new_rl_tree, new_rr_tree, new_r_n_feature, new_r_step)\n",
    "            \n",
    "            return left, right, n_feature, step\n",
    "        \n",
    "        left, right, n_feature, step = buildTree(indexes = np.array([x for x in range(target.size)]), \n",
    "                                                 max_depth = self.__max_depth)\n",
    "        self.__root = TreeNode(np.array([x for x in range(target.size)]), left, right, n_feature, step)\n",
    "        \n",
    "    def predict(self, data):\n",
    "        if self.__root == None:\n",
    "            return None\n",
    "        \n",
    "        pred = []\n",
    "        for vec in data:\n",
    "            node = self.__root\n",
    "        \n",
    "            while node != None:\n",
    "                if node.step == None:\n",
    "                    break\n",
    "                \n",
    "                if vec[node.n_feature] < node.step:\n",
    "                    node = node.left\n",
    "                else:\n",
    "                    node = node.right\n",
    "                        \n",
    "            if node == None:\n",
    "                return None\n",
    "            else:\n",
    "                pred.append(np.mean([self.__target[i] for i in node.indexes]))\n",
    "        \n",
    "        return np.array(pred)\n",
    "        \n",
    "# решающее дерево      \n",
    "class MyDecisionTree(BaseEstimator):\n",
    "    def __init__(self, H, max_depth=None):\n",
    "        self.max_depth = max_depth\n",
    "        self.splitter = Splitter(H)\n",
    "        self.tree = None\n",
    "        \n",
    "    def fit(self, data, target):\n",
    "        self.tree = Tree(self.splitter, data, target, self.max_depth)\n",
    "    \n",
    "    def predict(self, data):\n",
    "        return self.tree.predict(np.array(data))"
   ]
  },
  {
   "cell_type": "markdown",
   "metadata": {},
   "source": [
    "## Загрузка датасета"
   ]
  },
  {
   "cell_type": "code",
   "execution_count": 4,
   "metadata": {
    "collapsed": false
   },
   "outputs": [
    {
     "data": {
      "text/html": [
       "<div>\n",
       "<table border=\"1\" class=\"dataframe\">\n",
       "  <thead>\n",
       "    <tr style=\"text-align: right;\">\n",
       "      <th></th>\n",
       "      <th>0</th>\n",
       "      <th>1</th>\n",
       "      <th>2</th>\n",
       "      <th>3</th>\n",
       "      <th>4</th>\n",
       "      <th>5</th>\n",
       "      <th>6</th>\n",
       "      <th>7</th>\n",
       "      <th>8</th>\n",
       "      <th>9</th>\n",
       "      <th>10</th>\n",
       "      <th>11</th>\n",
       "      <th>12</th>\n",
       "      <th>target</th>\n",
       "    </tr>\n",
       "  </thead>\n",
       "  <tbody>\n",
       "    <tr>\n",
       "      <th>0</th>\n",
       "      <td>0.00632</td>\n",
       "      <td>18.0</td>\n",
       "      <td>2.31</td>\n",
       "      <td>0.0</td>\n",
       "      <td>0.538</td>\n",
       "      <td>6.575</td>\n",
       "      <td>65.2</td>\n",
       "      <td>4.0900</td>\n",
       "      <td>1.0</td>\n",
       "      <td>296.0</td>\n",
       "      <td>15.3</td>\n",
       "      <td>396.90</td>\n",
       "      <td>4.98</td>\n",
       "      <td>24.0</td>\n",
       "    </tr>\n",
       "    <tr>\n",
       "      <th>1</th>\n",
       "      <td>0.02731</td>\n",
       "      <td>0.0</td>\n",
       "      <td>7.07</td>\n",
       "      <td>0.0</td>\n",
       "      <td>0.469</td>\n",
       "      <td>6.421</td>\n",
       "      <td>78.9</td>\n",
       "      <td>4.9671</td>\n",
       "      <td>2.0</td>\n",
       "      <td>242.0</td>\n",
       "      <td>17.8</td>\n",
       "      <td>396.90</td>\n",
       "      <td>9.14</td>\n",
       "      <td>21.6</td>\n",
       "    </tr>\n",
       "    <tr>\n",
       "      <th>2</th>\n",
       "      <td>0.02729</td>\n",
       "      <td>0.0</td>\n",
       "      <td>7.07</td>\n",
       "      <td>0.0</td>\n",
       "      <td>0.469</td>\n",
       "      <td>7.185</td>\n",
       "      <td>61.1</td>\n",
       "      <td>4.9671</td>\n",
       "      <td>2.0</td>\n",
       "      <td>242.0</td>\n",
       "      <td>17.8</td>\n",
       "      <td>392.83</td>\n",
       "      <td>4.03</td>\n",
       "      <td>34.7</td>\n",
       "    </tr>\n",
       "    <tr>\n",
       "      <th>3</th>\n",
       "      <td>0.03237</td>\n",
       "      <td>0.0</td>\n",
       "      <td>2.18</td>\n",
       "      <td>0.0</td>\n",
       "      <td>0.458</td>\n",
       "      <td>6.998</td>\n",
       "      <td>45.8</td>\n",
       "      <td>6.0622</td>\n",
       "      <td>3.0</td>\n",
       "      <td>222.0</td>\n",
       "      <td>18.7</td>\n",
       "      <td>394.63</td>\n",
       "      <td>2.94</td>\n",
       "      <td>33.4</td>\n",
       "    </tr>\n",
       "    <tr>\n",
       "      <th>4</th>\n",
       "      <td>0.06905</td>\n",
       "      <td>0.0</td>\n",
       "      <td>2.18</td>\n",
       "      <td>0.0</td>\n",
       "      <td>0.458</td>\n",
       "      <td>7.147</td>\n",
       "      <td>54.2</td>\n",
       "      <td>6.0622</td>\n",
       "      <td>3.0</td>\n",
       "      <td>222.0</td>\n",
       "      <td>18.7</td>\n",
       "      <td>396.90</td>\n",
       "      <td>5.33</td>\n",
       "      <td>36.2</td>\n",
       "    </tr>\n",
       "  </tbody>\n",
       "</table>\n",
       "</div>"
      ],
      "text/plain": [
       "         0     1     2    3      4      5     6       7    8      9    10  \\\n",
       "0  0.00632  18.0  2.31  0.0  0.538  6.575  65.2  4.0900  1.0  296.0  15.3   \n",
       "1  0.02731   0.0  7.07  0.0  0.469  6.421  78.9  4.9671  2.0  242.0  17.8   \n",
       "2  0.02729   0.0  7.07  0.0  0.469  7.185  61.1  4.9671  2.0  242.0  17.8   \n",
       "3  0.03237   0.0  2.18  0.0  0.458  6.998  45.8  6.0622  3.0  222.0  18.7   \n",
       "4  0.06905   0.0  2.18  0.0  0.458  7.147  54.2  6.0622  3.0  222.0  18.7   \n",
       "\n",
       "       11    12  target  \n",
       "0  396.90  4.98    24.0  \n",
       "1  396.90  9.14    21.6  \n",
       "2  392.83  4.03    34.7  \n",
       "3  394.63  2.94    33.4  \n",
       "4  396.90  5.33    36.2  "
      ]
     },
     "execution_count": 4,
     "metadata": {},
     "output_type": "execute_result"
    }
   ],
   "source": [
    "boston = load_boston()\n",
    "boston_data = pd.DataFrame(boston.data)\n",
    "boston_data['target'] = boston.target\n",
    "boston_data.head()"
   ]
  },
  {
   "cell_type": "code",
   "execution_count": 5,
   "metadata": {
    "collapsed": false
   },
   "outputs": [
    {
     "data": {
      "text/plain": [
       "array([  6.32000000e-03,   1.80000000e+01,   2.31000000e+00,\n",
       "         0.00000000e+00,   5.38000000e-01,   6.57500000e+00,\n",
       "         6.52000000e+01,   4.09000000e+00,   1.00000000e+00,\n",
       "         2.96000000e+02,   1.53000000e+01,   3.96900000e+02,\n",
       "         4.98000000e+00])"
      ]
     },
     "execution_count": 5,
     "metadata": {},
     "output_type": "execute_result"
    }
   ],
   "source": [
    "boston.data[0]"
   ]
  },
  {
   "cell_type": "code",
   "execution_count": 6,
   "metadata": {
    "collapsed": false
   },
   "outputs": [],
   "source": [
    "train_data, test_data, train_target, test_target = cross_validation.train_test_split(boston.data, boston.target, \n",
    "                                                                                     test_size = 0.25)"
   ]
  },
  {
   "cell_type": "markdown",
   "metadata": {},
   "source": [
    "## Оценка алгоритма"
   ]
  },
  {
   "cell_type": "code",
   "execution_count": 7,
   "metadata": {
    "collapsed": false,
    "scrolled": true
   },
   "outputs": [],
   "source": [
    "def compareDecisionTrees(depth = None):\n",
    "    my_DT = MyDecisionTree(H, max_depth = depth)\n",
    "    my_DT.fit(train_data, train_target)\n",
    "\n",
    "    DT = DecisionTreeRegressor(max_depth = depth)\n",
    "    DT.fit(train_data, train_target)\n",
    "    return mean_squared_error(test_target, my_DT.predict(test_data)), mean_squared_error(test_target, DT.predict(test_data))"
   ]
  },
  {
   "cell_type": "code",
   "execution_count": 8,
   "metadata": {
    "collapsed": true
   },
   "outputs": [],
   "source": [
    "depth = [x for x in range(1, 15)]\n",
    "mse = [[], []]\n",
    "for i in depth:\n",
    "    my_tree_mse, tree_mse = compareDecisionTrees(i)\n",
    "    mse[0].append(my_tree_mse)\n",
    "    mse[1].append(tree_mse)"
   ]
  },
  {
   "cell_type": "code",
   "execution_count": 9,
   "metadata": {
    "collapsed": false
   },
   "outputs": [
    {
     "data": {
      "text/plain": [
       "<matplotlib.legend.Legend at 0x7f9da69ea6d8>"
      ]
     },
     "execution_count": 9,
     "metadata": {},
     "output_type": "execute_result"
    },
    {
     "data": {
      "image/png": "[encoded data removed]",
      "text/plain": [
       "<matplotlib.figure.Figure at 0x7f9d66554ef0>"
      ]
     },
     "metadata": {},
     "output_type": "display_data"
    }
   ],
   "source": [
    "plt.plot(depth, mse[0], marker='.', label='MSE of my Decision Tree')\n",
    "plt.plot(depth, mse[1], marker='.', label=\"MSE of selearn's Decision Tree\")\n",
    "plt.grid(True)\n",
    "plt.xlabel('max_depth_trees')\n",
    "plt.ylabel('score')\n",
    "plt.title('MSE')\n",
    "plt.legend(loc='upper right')"
   ]
  },
  {
   "cell_type": "markdown",
   "metadata": {},
   "source": [
    "Без ограничения глубины"
   ]
  },
  {
   "cell_type": "code",
   "execution_count": 10,
   "metadata": {
    "collapsed": false
   },
   "outputs": [
    {
     "name": "stdout",
     "output_type": "stream",
     "text": [
      "My DecisionTree: MSE =  19.6601424398\n",
      "Sklearn DecisionTree: MSE =  14.4204724409\n"
     ]
    }
   ],
   "source": [
    "my_tree_mse, tree_mse = compareDecisionTrees()\n",
    "print('My DecisionTree: MSE = ', my_tree_mse)\n",
    "print('Sklearn DecisionTree: MSE = ', tree_mse)"
   ]
  }
 ],
 "metadata": {
  "kernelspec": {
   "display_name": "Python 3",
   "language": "python",
   "name": "python3"
  },
  "language_info": {
   "codemirror_mode": {
    "name": "ipython",
    "version": 3
   },
   "file_extension": ".py",
   "mimetype": "text/x-python",
   "name": "python",
   "nbconvert_exporter": "python",
   "pygments_lexer": "ipython3",
   "version": "3.6.0"
  }
 },
 "nbformat": 4,
 "nbformat_minor": 2
}
